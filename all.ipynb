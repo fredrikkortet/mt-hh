{
 "cells": [
  {
   "cell_type": "code",
   "execution_count": 25,
   "metadata": {},
   "outputs": [],
   "source": [
    "import pandas as pd \n",
    "import numpy as np \n",
    "import matplotlib.pyplot as plt\n",
    "import tensorflow as tf\n",
    "from math import sqrt\n",
    "from tensorflow.keras import Sequential\n",
    "from tensorflow.keras.layers import GRU, LSTM, Dense\n",
    "from tensorflow.keras.utils import plot_model\n",
    "from sklearn.metrics import mean_squared_error, r2_score, mean_absolute_error\n",
    "from sklearn.preprocessing import MinMaxScaler\n",
    "from sklearn.model_selection  import train_test_split\n",
    "from sklearn.svm import SVR\n",
    "from pmdarima import auto_arima\n",
    "from statsmodels.tsa.arima.model import ARIMA\n",
    "from IPython.display import clear_output"
   ]
  },
  {
   "cell_type": "markdown",
   "metadata": {},
   "source": [
    "# Load and PreProcess "
   ]
  },
  {
   "cell_type": "code",
   "execution_count": 26,
   "metadata": {},
   "outputs": [
    {
     "name": "stdout",
     "output_type": "stream",
     "text": [
      "(17856, 170, 3)\n"
     ]
    }
   ],
   "source": [
    "loaded = np.load('data/pems08.npz')\n",
    "sets = loaded.f.data\n",
    "print(sets.shape)"
   ]
  },
  {
   "cell_type": "code",
   "execution_count": 27,
   "metadata": {},
   "outputs": [],
   "source": [
    "def get_data(road, features):\n",
    "    datax = sets[:,0,:features]\n",
    "    if road <=170:\n",
    "        for k in range(1,road):\n",
    "            datax = np.concatenate((datax ,sets[:,k,:features]))\n",
    "    return datax"
   ]
  },
  {
   "cell_type": "code",
   "execution_count": 28,
   "metadata": {},
   "outputs": [
    {
     "name": "stdout",
     "output_type": "stream",
     "text": [
      "(17856, 2)\n"
     ]
    }
   ],
   "source": [
    "dataOG = get_data(1,2)\n",
    "print(dataOG.shape)"
   ]
  },
  {
   "cell_type": "code",
   "execution_count": 29,
   "metadata": {},
   "outputs": [],
   "source": [
    "# Load the data\n",
    "dataBefore = dataOG[:,0].reshape(-1,1)\n",
    "\n",
    "# Normalize the data\n",
    "scaler = MinMaxScaler()\n",
    "data = scaler.fit_transform(dataBefore)"
   ]
  },
  {
   "cell_type": "code",
   "execution_count": 30,
   "metadata": {},
   "outputs": [],
   "source": [
    "# Split the data into training and testing sets\n",
    "train_size = int(len(data) * 0.8)\n",
    "test_size = len(data) - train_size\n",
    "train_data, test_data = data[0:train_size,:], data[train_size:len(data),:]"
   ]
  },
  {
   "cell_type": "code",
   "execution_count": 31,
   "metadata": {},
   "outputs": [],
   "source": [
    "# Create sequences of data\n",
    "def create_sequences(data, seq_length):\n",
    "    x = []\n",
    "    y = []\n",
    "    for i in range(len(data)-seq_length-1):\n",
    "        x.append(data[i:(i+seq_length), 0])\n",
    "        y.append(data[i+seq_length, 0])\n",
    "    return np.array(x), np.array(y)\n",
    "\n",
    "seq_length = 30\n",
    "trainX, trainY = create_sequences(train_data, seq_length)\n",
    "testX, testY = create_sequences(test_data, seq_length)\n",
    "\n",
    "# Reshape the data for the LSTM model\n",
    "trainX = np.reshape(trainX, (trainX.shape[0], trainX.shape[1], 1))\n",
    "testX = np.reshape(testX, (testX.shape[0], testX.shape[1], 1))"
   ]
  },
  {
   "cell_type": "markdown",
   "metadata": {},
   "source": [
    "# Models"
   ]
  },
  {
   "cell_type": "markdown",
   "metadata": {},
   "source": [
    "## ARIMA"
   ]
  },
  {
   "cell_type": "code",
   "execution_count": 32,
   "metadata": {},
   "outputs": [],
   "source": [
    "xtrainARIMA = train_data\n",
    "xtestARIMA = test_data\n",
    "history = xtrainARIMA.tolist()\n",
    "#arima = auto_arima(xtrainARIMA, start_p=1, start_q=1,test='adf',max_p=5, max_q=5,m=4,d=1,seasonal=True, start_P=0, D=None, trace=True, error_action='ignore',  suppress_warnings=True, stepwise=True,information_criterion='aicc')\n",
    "order = (5,1,0)\n",
    "season = (1,0,1,12)\n"
   ]
  },
  {
   "cell_type": "markdown",
   "metadata": {},
   "source": [
    "## SVR"
   ]
  },
  {
   "cell_type": "code",
   "execution_count": null,
   "metadata": {},
   "outputs": [],
   "source": []
  },
  {
   "cell_type": "markdown",
   "metadata": {},
   "source": [
    "## GRU"
   ]
  },
  {
   "cell_type": "code",
   "execution_count": 33,
   "metadata": {},
   "outputs": [],
   "source": [
    "# Define the model architecture\n",
    "GRUmodel = Sequential([\n",
    "    GRU(64, input_shape=(seq_length, 1),return_sequences=True),\n",
    "    GRU(32, return_sequences=True),\n",
    "    GRU(64, return_sequences=False),\n",
    "    Dense(1)\n",
    "])\n",
    "# Compile the model\n",
    "GRUmodel.compile(loss='mean_squared_error', optimizer='adam')\n"
   ]
  },
  {
   "cell_type": "markdown",
   "metadata": {},
   "source": [
    "## LSTM"
   ]
  },
  {
   "cell_type": "code",
   "execution_count": 34,
   "metadata": {},
   "outputs": [],
   "source": [
    "# Define the model architecture\n",
    "LSTMmodel = Sequential([\n",
    "    LSTM(64, input_shape=(seq_length, 1),return_sequences=True, unit_forget_bias=True),\n",
    "    LSTM(32,return_sequences=True),\n",
    "    LSTM(64,return_sequences=False),\n",
    "    Dense(1)\n",
    "])\n",
    "\n",
    "# Compile the model\n",
    "LSTMmodel.compile(loss='mean_squared_error', optimizer='adam')"
   ]
  },
  {
   "cell_type": "markdown",
   "metadata": {},
   "source": [
    "## GCN"
   ]
  },
  {
   "cell_type": "code",
   "execution_count": null,
   "metadata": {},
   "outputs": [],
   "source": []
  },
  {
   "cell_type": "markdown",
   "metadata": {},
   "source": [
    "# Train & Predict"
   ]
  },
  {
   "cell_type": "markdown",
   "metadata": {},
   "source": [
    "## ARIMA"
   ]
  },
  {
   "cell_type": "code",
   "execution_count": 89,
   "metadata": {},
   "outputs": [
    {
     "name": "stdout",
     "output_type": "stream",
     "text": [
      "Done: 0.9\n"
     ]
    }
   ],
   "source": [
    "ARIMAtestpred = list()\n",
    "pred_length = 150\n",
    "for t in range(pred_length):\n",
    "    model = ARIMA(history, order=order, seasonal_order=season)\n",
    "    #model = ExponentialSmoothing(history)\n",
    "    model_fit = model.fit()\n",
    "    output = model_fit.forecast()\n",
    "    yhat = output[0]\n",
    "    ARIMAtestpred.append(yhat)\n",
    "    obs = xtestARIMA[t]\n",
    "    history.append(obs)\n",
    "    print(\"Done:\",t/pred_length)\n",
    "    clear_output(wait=True)"
   ]
  },
  {
   "cell_type": "markdown",
   "metadata": {},
   "source": [
    "## SVR"
   ]
  },
  {
   "cell_type": "markdown",
   "metadata": {},
   "source": [
    "## GRU"
   ]
  },
  {
   "cell_type": "code",
   "execution_count": 37,
   "metadata": {},
   "outputs": [
    {
     "name": "stdout",
     "output_type": "stream",
     "text": [
      "Epoch 1/20\n",
      "223/223 [==============================] - 16s 52ms/step - loss: 0.0079 - val_loss: 0.0024\n",
      "Epoch 2/20\n",
      "223/223 [==============================] - 11s 47ms/step - loss: 0.0020 - val_loss: 0.0023\n",
      "Epoch 3/20\n",
      "223/223 [==============================] - 10s 45ms/step - loss: 0.0019 - val_loss: 0.0022\n",
      "Epoch 4/20\n",
      "223/223 [==============================] - 10s 46ms/step - loss: 0.0019 - val_loss: 0.0024\n",
      "Epoch 5/20\n",
      "223/223 [==============================] - 10s 47ms/step - loss: 0.0019 - val_loss: 0.0027\n",
      "Epoch 6/20\n",
      "223/223 [==============================] - 11s 47ms/step - loss: 0.0019 - val_loss: 0.0024\n",
      "Epoch 7/20\n",
      "223/223 [==============================] - 11s 47ms/step - loss: 0.0019 - val_loss: 0.0023\n",
      "Epoch 8/20\n",
      "223/223 [==============================] - 10s 46ms/step - loss: 0.0019 - val_loss: 0.0022\n",
      "Epoch 9/20\n",
      "223/223 [==============================] - 10s 46ms/step - loss: 0.0019 - val_loss: 0.0022\n",
      "Epoch 10/20\n",
      "223/223 [==============================] - 10s 47ms/step - loss: 0.0019 - val_loss: 0.0020\n",
      "Epoch 11/20\n",
      "223/223 [==============================] - 10s 47ms/step - loss: 0.0018 - val_loss: 0.0021\n",
      "Epoch 12/20\n",
      "223/223 [==============================] - 11s 47ms/step - loss: 0.0019 - val_loss: 0.0021\n",
      "Epoch 13/20\n",
      "223/223 [==============================] - 10s 47ms/step - loss: 0.0018 - val_loss: 0.0020\n",
      "Epoch 14/20\n",
      "223/223 [==============================] - 11s 48ms/step - loss: 0.0018 - val_loss: 0.0020\n",
      "Epoch 15/20\n",
      "223/223 [==============================] - 11s 47ms/step - loss: 0.0018 - val_loss: 0.0020\n",
      "Epoch 16/20\n",
      "223/223 [==============================] - 11s 47ms/step - loss: 0.0018 - val_loss: 0.0020\n",
      "Epoch 17/20\n",
      "223/223 [==============================] - 11s 48ms/step - loss: 0.0018 - val_loss: 0.0023\n",
      "Epoch 18/20\n",
      "223/223 [==============================] - 11s 49ms/step - loss: 0.0018 - val_loss: 0.0024\n",
      "Epoch 19/20\n",
      "223/223 [==============================] - 11s 48ms/step - loss: 0.0018 - val_loss: 0.0020\n",
      "Epoch 20/20\n",
      "223/223 [==============================] - 11s 49ms/step - loss: 0.0018 - val_loss: 0.0020\n",
      "111/111 [==============================] - 2s 12ms/step\n"
     ]
    }
   ],
   "source": [
    "# Train the model\n",
    "GRUmodel.fit(trainX, trainY, epochs=20, batch_size=64, validation_data=(testX, testY))\n",
    "\n",
    "# Make predictions on the test data\n",
    "GRUtestPredict = GRUmodel.predict(testX)"
   ]
  },
  {
   "cell_type": "markdown",
   "metadata": {},
   "source": [
    "## LSTM"
   ]
  },
  {
   "cell_type": "code",
   "execution_count": 38,
   "metadata": {},
   "outputs": [
    {
     "name": "stdout",
     "output_type": "stream",
     "text": [
      "Epoch 1/20\n",
      "223/223 [==============================] - 16s 57ms/step - loss: 0.0092 - val_loss: 0.0040\n",
      "Epoch 2/20\n",
      "223/223 [==============================] - 12s 52ms/step - loss: 0.0033 - val_loss: 0.0030\n",
      "Epoch 3/20\n",
      "223/223 [==============================] - 12s 53ms/step - loss: 0.0026 - val_loss: 0.0025\n",
      "Epoch 4/20\n",
      "223/223 [==============================] - 12s 53ms/step - loss: 0.0023 - val_loss: 0.0023\n",
      "Epoch 5/20\n",
      "223/223 [==============================] - 12s 52ms/step - loss: 0.0020 - val_loss: 0.0022\n",
      "Epoch 6/20\n",
      "223/223 [==============================] - 12s 53ms/step - loss: 0.0019 - val_loss: 0.0021\n",
      "Epoch 7/20\n",
      "223/223 [==============================] - 12s 53ms/step - loss: 0.0018 - val_loss: 0.0020\n",
      "Epoch 8/20\n",
      "223/223 [==============================] - 12s 53ms/step - loss: 0.0019 - val_loss: 0.0020\n",
      "Epoch 9/20\n",
      "223/223 [==============================] - 12s 53ms/step - loss: 0.0018 - val_loss: 0.0021\n",
      "Epoch 10/20\n",
      "223/223 [==============================] - 12s 52ms/step - loss: 0.0018 - val_loss: 0.0021\n",
      "Epoch 11/20\n",
      "223/223 [==============================] - 12s 52ms/step - loss: 0.0018 - val_loss: 0.0020\n",
      "Epoch 12/20\n",
      "223/223 [==============================] - 12s 52ms/step - loss: 0.0018 - val_loss: 0.0021\n",
      "Epoch 13/20\n",
      "223/223 [==============================] - 12s 52ms/step - loss: 0.0018 - val_loss: 0.0022\n",
      "Epoch 14/20\n",
      "223/223 [==============================] - 12s 52ms/step - loss: 0.0018 - val_loss: 0.0020\n",
      "Epoch 15/20\n",
      "223/223 [==============================] - 12s 53ms/step - loss: 0.0018 - val_loss: 0.0020\n",
      "Epoch 16/20\n",
      "223/223 [==============================] - 12s 52ms/step - loss: 0.0018 - val_loss: 0.0020\n",
      "Epoch 17/20\n",
      "223/223 [==============================] - 12s 52ms/step - loss: 0.0018 - val_loss: 0.0020\n",
      "Epoch 18/20\n",
      "223/223 [==============================] - 11s 51ms/step - loss: 0.0018 - val_loss: 0.0024\n",
      "Epoch 19/20\n",
      "223/223 [==============================] - 11s 51ms/step - loss: 0.0018 - val_loss: 0.0021\n",
      "Epoch 20/20\n",
      "223/223 [==============================] - 11s 51ms/step - loss: 0.0017 - val_loss: 0.0019\n",
      "111/111 [==============================] - 2s 15ms/step\n"
     ]
    }
   ],
   "source": [
    "# Train the model\n",
    "LSTMmodel.fit(trainX, trainY, epochs=20, batch_size=64, validation_data=(testX, testY))\n",
    "\n",
    "# Make predictions on the test data\n",
    "LSTMtestPredict = LSTMmodel.predict(testX)"
   ]
  },
  {
   "cell_type": "markdown",
   "metadata": {},
   "source": [
    "## GCN"
   ]
  },
  {
   "cell_type": "markdown",
   "metadata": {},
   "source": [
    "# Result"
   ]
  },
  {
   "cell_type": "code",
   "execution_count": 79,
   "metadata": {},
   "outputs": [],
   "source": [
    "def plot(title,testPredict,arima=False,svr=False):\n",
    "    if arima:\n",
    "        # Calculate root mean squared error\n",
    "        rmse = sqrt(mean_squared_error(xtestARIMA[:len(testPredict)],testPredict))\n",
    "        # Calculate R2 score\n",
    "        r2s = r2_score(y_true=xtestARIMA[:len(testPredict)],y_pred=testPredict)\n",
    "        \n",
    "        print(title)\n",
    "        print('Test RMSE: %.2f' % rmse)\n",
    "        print('Test R2: %.2f' % r2s)\n",
    "        \n",
    "        plt.plot(xtestARIMA,color = 'blue',label = \"Actual\")\n",
    "        plt.plot(testPredict, color='red', label = \"Prediction\")\n",
    "        plt.xlabel('Date')\n",
    "        plt.ylabel(\"Flow (Vehicale / hour)\")\n",
    "        plt.title('Traffic flow with ARIMA')\n",
    "        plt.xlim(0,len(testPredict)-1)\n",
    "        plt.legend()\n",
    "        plt.show()\n",
    "        return\n",
    "    elif svr:\n",
    "        return\n",
    "    else:\n",
    "        # Inverse transform the predictions values\n",
    "        invtestPred = scaler.inverse_transform(testPredict)\n",
    "\n",
    "        # Calculate root mean squared error\n",
    "        rmse = sqrt(mean_squared_error(invtestY[0],invtestPred.reshape(-1,1)))\n",
    "        # Calculate R2 score\n",
    "        r2s = r2_score(y_true=testYshape,y_pred=invtestPred)\n",
    "    \n",
    "        print(title)\n",
    "        print('Test RMSE: %.2f' % rmse)\n",
    "        print('Test R2: %.2f' % r2s)\n",
    "\n",
    "        plt.figure(figsize=(10,5))\n",
    "        plt.plot(testY,color = 'red',label = 'Actual')\n",
    "        plt.plot(testPredict,color = 'blue',label = 'Prediction')\n",
    "        plt.legend()\n",
    "        plt.title(title)\n",
    "        plt.xlim(300,400)\n",
    "        plt.show()"
   ]
  },
  {
   "cell_type": "code",
   "execution_count": 40,
   "metadata": {},
   "outputs": [],
   "source": [
    "# Inverse transform the actual values\n",
    "invtestY = scaler.inverse_transform([testY])\n",
    "testYshape=invtestY.reshape(len(invtestY[0]),1)"
   ]
  },
  {
   "cell_type": "markdown",
   "metadata": {},
   "source": [
    "## ARIMA"
   ]
  },
  {
   "cell_type": "code",
   "execution_count": null,
   "metadata": {},
   "outputs": [],
   "source": [
    "plot(\"ARIMA\",ARIMAtestpred,arima=True)"
   ]
  },
  {
   "cell_type": "markdown",
   "metadata": {},
   "source": [
    "## SVR"
   ]
  },
  {
   "cell_type": "code",
   "execution_count": null,
   "metadata": {},
   "outputs": [],
   "source": [
    "plot(\"SVR\",,svr=True)"
   ]
  },
  {
   "cell_type": "markdown",
   "metadata": {},
   "source": [
    "## GRU"
   ]
  },
  {
   "cell_type": "code",
   "execution_count": 81,
   "metadata": {},
   "outputs": [
    {
     "name": "stdout",
     "output_type": "stream",
     "text": [
      "GRU\n",
      "Test RMSE: 28.93\n",
      "Test R2: 0.96\n"
     ]
    },
    {
     "data": {
      "image/png": "[encoded data removed]",
      "text/plain": [
       "<Figure size 1000x500 with 1 Axes>"
      ]
     },
     "metadata": {},
     "output_type": "display_data"
    }
   ],
   "source": [
    "plot(\"GRU\",GRUtestPredict)"
   ]
  },
  {
   "cell_type": "markdown",
   "metadata": {},
   "source": [
    "## LSTM"
   ]
  },
  {
   "cell_type": "code",
   "execution_count": 82,
   "metadata": {},
   "outputs": [
    {
     "name": "stdout",
     "output_type": "stream",
     "text": [
      "LSTM\n",
      "Test RMSE: 28.44\n",
      "Test R2: 0.96\n"
     ]
    },
    {
     "data": {
      "image/png": "[encoded data removed]",
      "text/plain": [
       "<Figure size 1000x500 with 1 Axes>"
      ]
     },
     "metadata": {},
     "output_type": "display_data"
    }
   ],
   "source": [
    "plot(\"LSTM\",LSTMtestPredict)"
   ]
  },
  {
   "cell_type": "markdown",
   "metadata": {},
   "source": [
    "## GCN"
   ]
  }
 ],
 "metadata": {
  "kernelspec": {
   "display_name": "Python 3",
   "language": "python",
   "name": "python3"
  },
  "language_info": {
   "codemirror_mode": {
    "name": "ipython",
    "version": 3
   },
   "file_extension": ".py",
   "mimetype": "text/x-python",
   "name": "python",
   "nbconvert_exporter": "python",
   "pygments_lexer": "ipython3",
   "version": "3.8.10"
  }
 },
 "nbformat": 4,
 "nbformat_minor": 2
}
