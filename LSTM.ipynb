{
 "cells": [
  {
   "cell_type": "markdown",
   "id": "0486996b",
   "metadata": {},
   "source": [
    "# LSTM Model"
   ]
  },
  {
   "cell_type": "code",
   "execution_count": 1,
   "id": "8d75989b",
   "metadata": {},
   "outputs": [
    {
     "name": "stderr",
     "output_type": "stream",
     "text": [
      "2023-02-16 12:08:20.822322: I tensorflow/core/platform/cpu_feature_guard.cc:193] This TensorFlow binary is optimized with oneAPI Deep Neural Network Library (oneDNN) to use the following CPU instructions in performance-critical operations:  AVX2 FMA\n",
      "To enable them in other operations, rebuild TensorFlow with the appropriate compiler flags.\n",
      "2023-02-16 12:08:20.956044: W tensorflow/compiler/xla/stream_executor/platform/default/dso_loader.cc:64] Could not load dynamic library 'libcudart.so.11.0'; dlerror: libcudart.so.11.0: cannot open shared object file: No such file or directory\n",
      "2023-02-16 12:08:20.956071: I tensorflow/compiler/xla/stream_executor/cuda/cudart_stub.cc:29] Ignore above cudart dlerror if you do not have a GPU set up on your machine.\n",
      "2023-02-16 12:08:21.647734: W tensorflow/compiler/xla/stream_executor/platform/default/dso_loader.cc:64] Could not load dynamic library 'libnvinfer.so.7'; dlerror: libnvinfer.so.7: cannot open shared object file: No such file or directory\n",
      "2023-02-16 12:08:21.647816: W tensorflow/compiler/xla/stream_executor/platform/default/dso_loader.cc:64] Could not load dynamic library 'libnvinfer_plugin.so.7'; dlerror: libnvinfer_plugin.so.7: cannot open shared object file: No such file or directory\n",
      "2023-02-16 12:08:21.647824: W tensorflow/compiler/tf2tensorrt/utils/py_utils.cc:38] TF-TRT Warning: Cannot dlopen some TensorRT libraries. If you would like to use Nvidia GPU with TensorRT, please make sure the missing libraries mentioned above are installed properly.\n"
     ]
    }
   ],
   "source": [
    "import pandas as pd \n",
    "from sklearn.model_selection  import train_test_split\n",
    "import numpy as np \n",
    "import matplotlib.pyplot as plt\n",
    "from pandas import DataFrame\n",
    "from sklearn.metrics import mean_squared_error\n",
    "from math import sqrt\n",
    "from pandas.plotting import lag_plot\n",
    "from sklearn.metrics import mean_squared_error ,r2_score\n",
    "import tensorflow as tf\n",
    "from tensorflow import keras\n",
    "from tensorflow.keras import layers"
   ]
  },
  {
   "cell_type": "markdown",
   "id": "2335b4e1",
   "metadata": {},
   "source": [
    "# Load and PreProcess "
   ]
  },
  {
   "cell_type": "code",
   "execution_count": 3,
   "id": "00c111da-41e2-4b53-8ebb-b8c35c6579fb",
   "metadata": {},
   "outputs": [],
   "source": [
    "data = pd.read_csv('data/PMS_data.csv',nrows=500000)"
   ]
  },
  {
   "cell_type": "code",
   "execution_count": 4,
   "id": "8ec0faaf-50a1-498c-bf9f-56e2115feffa",
   "metadata": {},
   "outputs": [
    {
     "data": {
      "text/html": [
       "<div>\n",
       "<style scoped>\n",
       "    .dataframe tbody tr th:only-of-type {\n",
       "        vertical-align: middle;\n",
       "    }\n",
       "\n",
       "    .dataframe tbody tr th {\n",
       "        vertical-align: top;\n",
       "    }\n",
       "\n",
       "    .dataframe thead th {\n",
       "        text-align: right;\n",
       "    }\n",
       "</style>\n",
       "<table border=\"1\" class=\"dataframe\">\n",
       "  <thead>\n",
       "    <tr style=\"text-align: right;\">\n",
       "      <th></th>\n",
       "      <th>Flow</th>\n",
       "      <th>Occupy</th>\n",
       "      <th>Speed</th>\n",
       "    </tr>\n",
       "  </thead>\n",
       "  <tbody>\n",
       "    <tr>\n",
       "      <th>0</th>\n",
       "      <td>133.0</td>\n",
       "      <td>0.0603</td>\n",
       "      <td>65.8</td>\n",
       "    </tr>\n",
       "    <tr>\n",
       "      <th>1</th>\n",
       "      <td>210.0</td>\n",
       "      <td>0.0589</td>\n",
       "      <td>69.6</td>\n",
       "    </tr>\n",
       "    <tr>\n",
       "      <th>2</th>\n",
       "      <td>124.0</td>\n",
       "      <td>0.0358</td>\n",
       "      <td>65.8</td>\n",
       "    </tr>\n",
       "    <tr>\n",
       "      <th>3</th>\n",
       "      <td>145.0</td>\n",
       "      <td>0.0416</td>\n",
       "      <td>69.6</td>\n",
       "    </tr>\n",
       "    <tr>\n",
       "      <th>4</th>\n",
       "      <td>206.0</td>\n",
       "      <td>0.0493</td>\n",
       "      <td>69.4</td>\n",
       "    </tr>\n",
       "  </tbody>\n",
       "</table>\n",
       "</div>"
      ],
      "text/plain": [
       "    Flow  Occupy  Speed\n",
       "0  133.0  0.0603   65.8\n",
       "1  210.0  0.0589   69.6\n",
       "2  124.0  0.0358   65.8\n",
       "3  145.0  0.0416   69.6\n",
       "4  206.0  0.0493   69.4"
      ]
     },
     "execution_count": 4,
     "metadata": {},
     "output_type": "execute_result"
    }
   ],
   "source": [
    "data.head()"
   ]
  },
  {
   "cell_type": "code",
   "execution_count": 5,
   "id": "4960043f-3144-4e75-9936-519e675d32ee",
   "metadata": {},
   "outputs": [],
   "source": [
    "new_set = data[['Flow','Occupy']].copy()"
   ]
  },
  {
   "cell_type": "code",
   "execution_count": 6,
   "id": "a6960b6a-7bf4-48a4-8ca5-ea93845e0d9b",
   "metadata": {},
   "outputs": [
    {
     "data": {
      "text/html": [
       "<div>\n",
       "<style scoped>\n",
       "    .dataframe tbody tr th:only-of-type {\n",
       "        vertical-align: middle;\n",
       "    }\n",
       "\n",
       "    .dataframe tbody tr th {\n",
       "        vertical-align: top;\n",
       "    }\n",
       "\n",
       "    .dataframe thead th {\n",
       "        text-align: right;\n",
       "    }\n",
       "</style>\n",
       "<table border=\"1\" class=\"dataframe\">\n",
       "  <thead>\n",
       "    <tr style=\"text-align: right;\">\n",
       "      <th></th>\n",
       "      <th>Flow</th>\n",
       "      <th>Occupy</th>\n",
       "    </tr>\n",
       "  </thead>\n",
       "  <tbody>\n",
       "    <tr>\n",
       "      <th>0</th>\n",
       "      <td>133.0</td>\n",
       "      <td>0.0603</td>\n",
       "    </tr>\n",
       "    <tr>\n",
       "      <th>1</th>\n",
       "      <td>210.0</td>\n",
       "      <td>0.0589</td>\n",
       "    </tr>\n",
       "    <tr>\n",
       "      <th>2</th>\n",
       "      <td>124.0</td>\n",
       "      <td>0.0358</td>\n",
       "    </tr>\n",
       "    <tr>\n",
       "      <th>3</th>\n",
       "      <td>145.0</td>\n",
       "      <td>0.0416</td>\n",
       "    </tr>\n",
       "    <tr>\n",
       "      <th>4</th>\n",
       "      <td>206.0</td>\n",
       "      <td>0.0493</td>\n",
       "    </tr>\n",
       "  </tbody>\n",
       "</table>\n",
       "</div>"
      ],
      "text/plain": [
       "    Flow  Occupy\n",
       "0  133.0  0.0603\n",
       "1  210.0  0.0589\n",
       "2  124.0  0.0358\n",
       "3  145.0  0.0416\n",
       "4  206.0  0.0493"
      ]
     },
     "execution_count": 6,
     "metadata": {},
     "output_type": "execute_result"
    }
   ],
   "source": [
    "new_set.head()"
   ]
  },
  {
   "cell_type": "code",
   "execution_count": 7,
   "id": "65f37f7d-8451-4962-8b92-3ebb91292009",
   "metadata": {},
   "outputs": [
    {
     "data": {
      "text/html": [
       "<div>\n",
       "<style scoped>\n",
       "    .dataframe tbody tr th:only-of-type {\n",
       "        vertical-align: middle;\n",
       "    }\n",
       "\n",
       "    .dataframe tbody tr th {\n",
       "        vertical-align: top;\n",
       "    }\n",
       "\n",
       "    .dataframe thead th {\n",
       "        text-align: right;\n",
       "    }\n",
       "</style>\n",
       "<table border=\"1\" class=\"dataframe\">\n",
       "  <thead>\n",
       "    <tr style=\"text-align: right;\">\n",
       "      <th></th>\n",
       "      <th>Flow</th>\n",
       "      <th>Occupy</th>\n",
       "    </tr>\n",
       "  </thead>\n",
       "  <tbody>\n",
       "    <tr>\n",
       "      <th>0</th>\n",
       "      <td>133.0</td>\n",
       "      <td>0.0603</td>\n",
       "    </tr>\n",
       "    <tr>\n",
       "      <th>1</th>\n",
       "      <td>210.0</td>\n",
       "      <td>0.0589</td>\n",
       "    </tr>\n",
       "    <tr>\n",
       "      <th>2</th>\n",
       "      <td>124.0</td>\n",
       "      <td>0.0358</td>\n",
       "    </tr>\n",
       "    <tr>\n",
       "      <th>3</th>\n",
       "      <td>145.0</td>\n",
       "      <td>0.0416</td>\n",
       "    </tr>\n",
       "    <tr>\n",
       "      <th>4</th>\n",
       "      <td>206.0</td>\n",
       "      <td>0.0493</td>\n",
       "    </tr>\n",
       "  </tbody>\n",
       "</table>\n",
       "</div>"
      ],
      "text/plain": [
       "    Flow  Occupy\n",
       "0  133.0  0.0603\n",
       "1  210.0  0.0589\n",
       "2  124.0  0.0358\n",
       "3  145.0  0.0416\n",
       "4  206.0  0.0493"
      ]
     },
     "execution_count": 7,
     "metadata": {},
     "output_type": "execute_result"
    }
   ],
   "source": [
    "new_set['Flow'] = np.around(new_set['Flow'])\n",
    "new_set.head()"
   ]
  },
  {
   "cell_type": "code",
   "execution_count": 8,
   "id": "b7d163de-846f-44e7-87ba-d061980fe072",
   "metadata": {},
   "outputs": [],
   "source": [
    "new_set_plot = new_set.values"
   ]
  },
  {
   "cell_type": "code",
   "execution_count": 9,
   "id": "437dd40a-d553-4dfc-89b3-bba2b0d4eac8",
   "metadata": {},
   "outputs": [
    {
     "data": {
      "image/png": "[encoded data removed]",
      "text/plain": [
       "<Figure size 432x288 with 2 Axes>"
      ]
     },
     "metadata": {
      "needs_background": "light"
     },
     "output_type": "display_data"
    }
   ],
   "source": [
    "groups = [0, 1]\n",
    "i = 1\n",
    "plt.figure()\n",
    "for group in groups:\n",
    "    plt.subplot(len(groups), 1, i)\n",
    "    plt.plot(new_set_plot[:, group])\n",
    "    plt.title(new_set.columns[group], y=0.5, loc='right')\n",
    "    i += 1\n",
    "plt.show()"
   ]
  },
  {
   "cell_type": "code",
   "execution_count": 10,
   "id": "1c63f62e-1254-4937-bcea-b017d02b0235",
   "metadata": {},
   "outputs": [],
   "source": [
    "from sklearn.preprocessing import StandardScaler\n"
   ]
  },
  {
   "cell_type": "code",
   "execution_count": 11,
   "id": "3753756f-656b-4f2b-9805-34ca80bbcb58",
   "metadata": {},
   "outputs": [],
   "source": [
    "scaler = StandardScaler()"
   ]
  },
  {
   "cell_type": "code",
   "execution_count": 12,
   "id": "dc481482-ab63-47c5-b057-94d2ecc18777",
   "metadata": {},
   "outputs": [],
   "source": [
    "new_set = scaler.fit_transform(new_set)"
   ]
  },
  {
   "cell_type": "code",
   "execution_count": 13,
   "id": "b11dd6bc-ee11-4a67-94cc-4ace8665aa81",
   "metadata": {},
   "outputs": [
    {
     "data": {
      "text/plain": [
       "array([[-0.62465384, -0.00291211],\n",
       "       [-0.08209813, -0.03764191],\n",
       "       [-0.68806945, -0.6106835 ],\n",
       "       ...,\n",
       "       [-0.54714589, -0.48664852],\n",
       "       [-0.1243752 , -0.30059606],\n",
       "       [-0.20892934, -0.44943803]])"
      ]
     },
     "execution_count": 13,
     "metadata": {},
     "output_type": "execute_result"
    }
   ],
   "source": [
    "new_set"
   ]
  },
  {
   "cell_type": "code",
   "execution_count": 14,
   "id": "10357b99-cb5f-4446-b52b-669dbd5fe760",
   "metadata": {},
   "outputs": [],
   "source": [
    "x = new_set[:,1]\n",
    "\n",
    "y = new_set[:,0]\n",
    "\n",
    "x_train, x_test, y_train, y_test = train_test_split(x, y, test_size = 0.25)"
   ]
  },
  {
   "cell_type": "code",
   "execution_count": 15,
   "id": "24bc2ef8-39aa-4504-9343-cf4da9cb8dd9",
   "metadata": {},
   "outputs": [
    {
     "data": {
      "text/plain": [
       "(375000, 1)"
      ]
     },
     "execution_count": 15,
     "metadata": {},
     "output_type": "execute_result"
    }
   ],
   "source": [
    "x_train = x_train.reshape(-1,1)\n",
    "x_train.shape"
   ]
  },
  {
   "cell_type": "code",
   "execution_count": 16,
   "id": "1c4d5ec0-c44f-4918-bedb-2772c55955e2",
   "metadata": {},
   "outputs": [
    {
     "data": {
      "text/plain": [
       "(125000, 1)"
      ]
     },
     "execution_count": 16,
     "metadata": {},
     "output_type": "execute_result"
    }
   ],
   "source": [
    "x_test = x_test.reshape(-1,1)\n",
    "x_test.shape"
   ]
  },
  {
   "cell_type": "code",
   "execution_count": 17,
   "id": "7623eba7-c6b3-4252-8940-db96bcd5a33c",
   "metadata": {},
   "outputs": [],
   "source": [
    "from tensorflow.keras import Sequential\n",
    "from tensorflow.keras.layers import LSTM ,Dense , Dropout\n",
    "import tensorflow as tf"
   ]
  },
  {
   "cell_type": "markdown",
   "id": "4ff6c752-3ce7-410a-bd8f-cf443a0673de",
   "metadata": {},
   "source": [
    "model = Sequential()\n",
    "model.add(LSTM(50,activation=\"relu\",return_sequences=True,input_shape=(x_train.shape[0],x_train.shape[1])))\n",
    "model.add(LSTM(50,return_sequences = False,activation=\"relu\"))\n",
    "model.add(Dense(50))\n",
    "model.add(Dropout(0.2))\n",
    "model.add(Dense(1))\n"
   ]
  },
  {
   "cell_type": "code",
   "execution_count": 19,
   "id": "c37a5ddd-264f-40ff-858a-c2b0d0d12222",
   "metadata": {},
   "outputs": [],
   "source": [
    "model = tf.keras.models.Sequential([\n",
    "  tf.keras.layers.Lambda(lambda x: tf.expand_dims(x, axis=-1),\n",
    "                      input_shape=[None]),\n",
    "  tf.keras.layers.Bidirectional(tf.keras.layers.LSTM(32, return_sequences=True)),\n",
    "  tf.keras.layers.Bidirectional(tf.keras.layers.LSTM(32)),\n",
    "  tf.keras.layers.Dense(1),\n",
    "  tf.keras.layers.Lambda(lambda x: x * 10.0)\n",
    "])"
   ]
  },
  {
   "cell_type": "code",
   "execution_count": null,
   "id": "c1fbbcb3-a263-4194-89c9-677bd310398f",
   "metadata": {
    "scrolled": true,
    "tags": []
   },
   "outputs": [
    {
     "name": "stdout",
     "output_type": "stream",
     "text": [
      "Epoch 1/50\n",
      "7500/7500 [==============================] - 31s 4ms/step - loss: 0.3632 - val_loss: 0.3579\n",
      "Epoch 2/50\n",
      "7500/7500 [==============================] - 27s 4ms/step - loss: 0.3591 - val_loss: 0.3575\n",
      "Epoch 3/50\n",
      "7500/7500 [==============================] - 27s 4ms/step - loss: 0.3587 - val_loss: 0.3574\n",
      "Epoch 4/50\n",
      "7500/7500 [==============================] - 27s 4ms/step - loss: 0.3586 - val_loss: 0.3573\n",
      "Epoch 5/50\n",
      "7500/7500 [==============================] - 27s 4ms/step - loss: 0.3585 - val_loss: 0.3573\n",
      "Epoch 6/50\n",
      "7500/7500 [==============================] - 27s 4ms/step - loss: 0.3585 - val_loss: 0.3572\n",
      "Epoch 7/50\n",
      "7500/7500 [==============================] - 27s 4ms/step - loss: 0.3584 - val_loss: 0.3572\n",
      "Epoch 8/50\n",
      "7500/7500 [==============================] - 27s 4ms/step - loss: 0.3584 - val_loss: 0.3571\n",
      "Epoch 9/50\n",
      "7500/7500 [==============================] - 27s 4ms/step - loss: 0.3584 - val_loss: 0.3571\n",
      "Epoch 10/50\n",
      "7500/7500 [==============================] - 27s 4ms/step - loss: 0.3584 - val_loss: 0.3571\n",
      "Epoch 11/50\n",
      "7500/7500 [==============================] - 27s 4ms/step - loss: 0.3583 - val_loss: 0.3571\n",
      "Epoch 12/50\n",
      "7500/7500 [==============================] - 27s 4ms/step - loss: 0.3583 - val_loss: 0.3570\n",
      "Epoch 13/50\n",
      "7500/7500 [==============================] - 27s 4ms/step - loss: 0.3583 - val_loss: 0.3570\n",
      "Epoch 14/50\n",
      "7500/7500 [==============================] - 27s 4ms/step - loss: 0.3582 - val_loss: 0.3570\n",
      "Epoch 15/50\n",
      "7500/7500 [==============================] - 27s 4ms/step - loss: 0.3581 - val_loss: 0.3569\n",
      "Epoch 16/50\n",
      "7500/7500 [==============================] - 27s 4ms/step - loss: 0.3581 - val_loss: 0.3569\n",
      "Epoch 17/50\n",
      "7500/7500 [==============================] - 27s 4ms/step - loss: 0.3581 - val_loss: 0.3569\n",
      "Epoch 18/50\n",
      "7500/7500 [==============================] - 27s 4ms/step - loss: 0.3580 - val_loss: 0.3568\n",
      "Epoch 19/50\n",
      "7500/7500 [==============================] - 27s 4ms/step - loss: 0.3580 - val_loss: 0.3568\n",
      "Epoch 20/50\n",
      "7500/7500 [==============================] - 27s 4ms/step - loss: 0.3580 - val_loss: 0.3568\n",
      "Epoch 21/50\n",
      "7500/7500 [==============================] - 27s 4ms/step - loss: 0.3580 - val_loss: 0.3568\n",
      "Epoch 22/50\n",
      "7500/7500 [==============================] - 27s 4ms/step - loss: 0.3580 - val_loss: 0.3568\n",
      "Epoch 23/50\n",
      "7500/7500 [==============================] - 27s 4ms/step - loss: 0.3580 - val_loss: 0.3568\n",
      "Epoch 24/50\n",
      "7500/7500 [==============================] - 28s 4ms/step - loss: 0.3580 - val_loss: 0.3568\n",
      "Epoch 25/50\n",
      "7500/7500 [==============================] - 27s 4ms/step - loss: 0.3580 - val_loss: 0.3567\n",
      "Epoch 26/50\n",
      "7500/7500 [==============================] - 27s 4ms/step - loss: 0.3579 - val_loss: 0.3567\n",
      "Epoch 27/50\n",
      "7500/7500 [==============================] - 27s 4ms/step - loss: 0.3579 - val_loss: 0.3567\n",
      "Epoch 28/50\n",
      "7500/7500 [==============================] - 28s 4ms/step - loss: 0.3579 - val_loss: 0.3567\n",
      "Epoch 29/50\n",
      "7500/7500 [==============================] - 27s 4ms/step - loss: 0.3579 - val_loss: 0.3567\n",
      "Epoch 30/50\n",
      "7500/7500 [==============================] - 27s 4ms/step - loss: 0.3579 - val_loss: 0.3567\n",
      "Epoch 31/50\n",
      "7500/7500 [==============================] - 28s 4ms/step - loss: 0.3579 - val_loss: 0.3567\n",
      "Epoch 32/50\n",
      "7500/7500 [==============================] - 28s 4ms/step - loss: 0.3579 - val_loss: 0.3567\n",
      "Epoch 33/50\n",
      "7500/7500 [==============================] - 28s 4ms/step - loss: 0.3579 - val_loss: 0.3566\n",
      "Epoch 34/50\n",
      "7500/7500 [==============================] - 28s 4ms/step - loss: 0.3578 - val_loss: 0.3566\n",
      "Epoch 35/50\n",
      "7500/7500 [==============================] - 30s 4ms/step - loss: 0.3578 - val_loss: 0.3566\n",
      "Epoch 36/50\n",
      "7500/7500 [==============================] - 28s 4ms/step - loss: 0.3578 - val_loss: 0.3566\n",
      "Epoch 37/50\n",
      "7500/7500 [==============================] - 28s 4ms/step - loss: 0.3578 - val_loss: 0.3566\n",
      "Epoch 38/50\n",
      "7500/7500 [==============================] - 30s 4ms/step - loss: 0.3578 - val_loss: 0.3566\n",
      "Epoch 39/50\n",
      "7500/7500 [==============================] - 29s 4ms/step - loss: 0.3577 - val_loss: 0.3566\n",
      "Epoch 40/50\n",
      "1855/7500 [======>.......................] - ETA: 18s - loss: 0.3550"
     ]
    }
   ],
   "source": [
    "tf.keras.backend.clear_session()\n",
    "model.compile(loss='mean_squared_error', optimizer='adam')\n",
    "history = model.fit(x_train, y_train, epochs=50, batch_size=50, validation_data=(x_test, y_test), shuffle=False)\n",
    "     "
   ]
  },
  {
   "cell_type": "code",
   "execution_count": 103,
   "id": "cba809bb-14b9-4a62-8464-ca9562d818e3",
   "metadata": {},
   "outputs": [
    {
     "data": {
      "image/png": "[encoded data removed]",
      "text/plain": [
       "<Figure size 432x288 with 1 Axes>"
      ]
     },
     "metadata": {
      "needs_background": "light"
     },
     "output_type": "display_data"
    }
   ],
   "source": [
    "# plot history\n",
    "plt.plot(history.history['loss'], label='train')\n",
    "plt.plot(history.history['val_loss'], label='test')\n",
    "plt.legend()\n",
    "plt.show()"
   ]
  },
  {
   "cell_type": "code",
   "execution_count": 104,
   "id": "14aec197-44e4-410d-acbd-3a4151c885d4",
   "metadata": {},
   "outputs": [
    {
     "name": "stdout",
     "output_type": "stream",
     "text": [
      "Model: \"sequential\"\n",
      "_________________________________________________________________\n",
      " Layer (type)                Output Shape              Param #   \n",
      "=================================================================\n",
      " lambda (Lambda)             (None, None, 1)           0         \n",
      "                                                                 \n",
      " bidirectional (Bidirectiona  (None, None, 64)         8704      \n",
      " l)                                                              \n",
      "                                                                 \n",
      " bidirectional_1 (Bidirectio  (None, 64)               24832     \n",
      " nal)                                                            \n",
      "                                                                 \n",
      " dense (Dense)               (None, 1)                 65        \n",
      "                                                                 \n",
      " lambda_1 (Lambda)           (None, 1)                 0         \n",
      "                                                                 \n",
      "=================================================================\n",
      "Total params: 33,601\n",
      "Trainable params: 33,601\n",
      "Non-trainable params: 0\n",
      "_________________________________________________________________\n"
     ]
    }
   ],
   "source": [
    "model.summary()"
   ]
  },
  {
   "cell_type": "code",
   "execution_count": 105,
   "id": "f3140cf7-bd66-4a62-9e67-f75d01f56257",
   "metadata": {},
   "outputs": [
    {
     "name": "stdout",
     "output_type": "stream",
     "text": [
      "782/782 [==============================] - 2s 2ms/step\n"
     ]
    }
   ],
   "source": [
    "# make a prediction\n",
    "y_pred = model.predict(x_test)\n"
   ]
  },
  {
   "cell_type": "code",
   "execution_count": 106,
   "id": "b9c2fdf5-d0f5-4521-9478-a1c5a1e45ed1",
   "metadata": {},
   "outputs": [
    {
     "data": {
      "text/plain": [
       "(25000, 1)"
      ]
     },
     "execution_count": 106,
     "metadata": {},
     "output_type": "execute_result"
    }
   ],
   "source": [
    "y_pred.shape"
   ]
  },
  {
   "cell_type": "code",
   "execution_count": 107,
   "id": "630ebc53-52f6-4cb1-97a0-74c5270cb74a",
   "metadata": {},
   "outputs": [],
   "source": [
    "mse = sqrt(mean_squared_error(y_test, y_pred))"
   ]
  },
  {
   "cell_type": "code",
   "execution_count": 108,
   "id": "35c310a5-30e0-4c9b-b98a-3f7522705de1",
   "metadata": {},
   "outputs": [
    {
     "name": "stdout",
     "output_type": "stream",
     "text": [
      "0.6124656022722887\n"
     ]
    }
   ],
   "source": [
    "#y_pred = scaler.inverse_transform(y_pred)\n",
    "print(mse)\n",
    "\n"
   ]
  },
  {
   "cell_type": "code",
   "execution_count": 109,
   "id": "50f268a7-2940-4a49-8f75-00fc3fd34167",
   "metadata": {},
   "outputs": [
    {
     "data": {
      "image/png": "[encoded data removed]",
      "text/plain": [
       "<Figure size 720x360 with 1 Axes>"
      ]
     },
     "metadata": {
      "needs_background": "light"
     },
     "output_type": "display_data"
    }
   ],
   "source": [
    "plt.figure(figsize=(10,5))\n",
    "plt.plot(y_pred,color = 'red',label = 'Prediction')\n",
    "plt.plot(y_test,color = 'blue',label = 'Actual')\n",
    "plt.legend()\n",
    "plt.xlim(0,100)\n",
    "plt.show()"
   ]
  },
  {
   "cell_type": "code",
   "execution_count": 110,
   "id": "fb0fe98a-a4be-4003-8286-3cb2ab40aa89",
   "metadata": {},
   "outputs": [],
   "source": [
    "r2s = r2_score(y_true=y_test,y_pred=y_pred)"
   ]
  },
  {
   "cell_type": "code",
   "execution_count": 111,
   "id": "9ef2f2f7-f24c-4149-ade8-6abaa9d9fb35",
   "metadata": {},
   "outputs": [
    {
     "data": {
      "text/plain": [
       "0.6270721336911129"
      ]
     },
     "execution_count": 111,
     "metadata": {},
     "output_type": "execute_result"
    }
   ],
   "source": [
    "r2s"
   ]
  },
  {
   "cell_type": "code",
   "execution_count": null,
   "id": "8076a7ca-9c21-45e5-a053-a1a61d4dc735",
   "metadata": {},
   "outputs": [],
   "source": []
  }
 ],
 "metadata": {
  "kernelspec": {
   "display_name": "Python 3 (ipykernel)",
   "language": "python",
   "name": "python3"
  },
  "language_info": {
   "codemirror_mode": {
    "name": "ipython",
    "version": 3
   },
   "file_extension": ".py",
   "mimetype": "text/x-python",
   "name": "python",
   "nbconvert_exporter": "python",
   "pygments_lexer": "ipython3",
   "version": "3.10.6"
  },
  "vscode": {
   "interpreter": {
    "hash": "e55666fbbf217aa3df372b978577f47b6009e2f78e2ec76a584f49cd54a1e62c"
   }
  }
 },
 "nbformat": 4,
 "nbformat_minor": 5
}
