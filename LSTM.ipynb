{
 "cells": [
  {
   "cell_type": "markdown",
   "id": "0486996b",
   "metadata": {},
   "source": [
    "# LSTM Model"
   ]
  },
  {
   "cell_type": "code",
   "execution_count": 1,
   "id": "8d75989b",
   "metadata": {},
   "outputs": [
    {
     "name": "stderr",
     "output_type": "stream",
     "text": [
      "2023-02-28 09:30:00.972158: I tensorflow/core/platform/cpu_feature_guard.cc:193] This TensorFlow binary is optimized with oneAPI Deep Neural Network Library (oneDNN) to use the following CPU instructions in performance-critical operations:  AVX2 FMA\n",
      "To enable them in other operations, rebuild TensorFlow with the appropriate compiler flags.\n",
      "2023-02-28 09:30:01.737509: W tensorflow/compiler/xla/stream_executor/platform/default/dso_loader.cc:64] Could not load dynamic library 'libcudart.so.11.0'; dlerror: libcudart.so.11.0: cannot open shared object file: No such file or directory\n",
      "2023-02-28 09:30:01.737544: I tensorflow/compiler/xla/stream_executor/cuda/cudart_stub.cc:29] Ignore above cudart dlerror if you do not have a GPU set up on your machine.\n",
      "2023-02-28 09:30:03.423976: W tensorflow/compiler/xla/stream_executor/platform/default/dso_loader.cc:64] Could not load dynamic library 'libnvinfer.so.7'; dlerror: libnvinfer.so.7: cannot open shared object file: No such file or directory\n",
      "2023-02-28 09:30:03.424086: W tensorflow/compiler/xla/stream_executor/platform/default/dso_loader.cc:64] Could not load dynamic library 'libnvinfer_plugin.so.7'; dlerror: libnvinfer_plugin.so.7: cannot open shared object file: No such file or directory\n",
      "2023-02-28 09:30:03.424094: W tensorflow/compiler/tf2tensorrt/utils/py_utils.cc:38] TF-TRT Warning: Cannot dlopen some TensorRT libraries. If you would like to use Nvidia GPU with TensorRT, please make sure the missing libraries mentioned above are installed properly.\n"
     ]
    }
   ],
   "source": [
    "import pandas as pd \n",
    "from sklearn.model_selection  import train_test_split\n",
    "import numpy as np \n",
    "import matplotlib.pyplot as plt\n",
    "from pandas import DataFrame\n",
    "from sklearn.metrics import mean_squared_error\n",
    "from math import sqrt\n",
    "from pandas.plotting import lag_plot\n",
    "from sklearn import metrics\n",
    "import tensorflow as tf\n",
    "from tensorflow import keras\n",
    "from tensorflow.keras import layers\n",
    "from sklearn.preprocessing import StandardScaler"
   ]
  },
  {
   "cell_type": "markdown",
   "id": "2335b4e1",
   "metadata": {},
   "source": [
    "# Load and PreProcess "
   ]
  },
  {
   "cell_type": "code",
   "execution_count": 2,
   "id": "00c111da-41e2-4b53-8ebb-b8c35c6579fb",
   "metadata": {},
   "outputs": [],
   "source": [
    "data = pd.read_csv('data/PMS_data.csv',nrows=100000)"
   ]
  },
  {
   "cell_type": "code",
   "execution_count": 3,
   "id": "8ec0faaf-50a1-498c-bf9f-56e2115feffa",
   "metadata": {},
   "outputs": [
    {
     "data": {
      "text/html": [
       "<div>\n",
       "<style scoped>\n",
       "    .dataframe tbody tr th:only-of-type {\n",
       "        vertical-align: middle;\n",
       "    }\n",
       "\n",
       "    .dataframe tbody tr th {\n",
       "        vertical-align: top;\n",
       "    }\n",
       "\n",
       "    .dataframe thead th {\n",
       "        text-align: right;\n",
       "    }\n",
       "</style>\n",
       "<table border=\"1\" class=\"dataframe\">\n",
       "  <thead>\n",
       "    <tr style=\"text-align: right;\">\n",
       "      <th></th>\n",
       "      <th>Flow</th>\n",
       "      <th>Occupy</th>\n",
       "      <th>Speed</th>\n",
       "    </tr>\n",
       "  </thead>\n",
       "  <tbody>\n",
       "    <tr>\n",
       "      <th>0</th>\n",
       "      <td>133.0</td>\n",
       "      <td>0.0603</td>\n",
       "      <td>65.8</td>\n",
       "    </tr>\n",
       "    <tr>\n",
       "      <th>1</th>\n",
       "      <td>210.0</td>\n",
       "      <td>0.0589</td>\n",
       "      <td>69.6</td>\n",
       "    </tr>\n",
       "    <tr>\n",
       "      <th>2</th>\n",
       "      <td>124.0</td>\n",
       "      <td>0.0358</td>\n",
       "      <td>65.8</td>\n",
       "    </tr>\n",
       "    <tr>\n",
       "      <th>3</th>\n",
       "      <td>145.0</td>\n",
       "      <td>0.0416</td>\n",
       "      <td>69.6</td>\n",
       "    </tr>\n",
       "    <tr>\n",
       "      <th>4</th>\n",
       "      <td>206.0</td>\n",
       "      <td>0.0493</td>\n",
       "      <td>69.4</td>\n",
       "    </tr>\n",
       "  </tbody>\n",
       "</table>\n",
       "</div>"
      ],
      "text/plain": [
       "    Flow  Occupy  Speed\n",
       "0  133.0  0.0603   65.8\n",
       "1  210.0  0.0589   69.6\n",
       "2  124.0  0.0358   65.8\n",
       "3  145.0  0.0416   69.6\n",
       "4  206.0  0.0493   69.4"
      ]
     },
     "execution_count": 3,
     "metadata": {},
     "output_type": "execute_result"
    }
   ],
   "source": [
    "data.head()"
   ]
  },
  {
   "cell_type": "code",
   "execution_count": 4,
   "id": "4960043f-3144-4e75-9936-519e675d32ee",
   "metadata": {},
   "outputs": [
    {
     "data": {
      "text/html": [
       "<div>\n",
       "<style scoped>\n",
       "    .dataframe tbody tr th:only-of-type {\n",
       "        vertical-align: middle;\n",
       "    }\n",
       "\n",
       "    .dataframe tbody tr th {\n",
       "        vertical-align: top;\n",
       "    }\n",
       "\n",
       "    .dataframe thead th {\n",
       "        text-align: right;\n",
       "    }\n",
       "</style>\n",
       "<table border=\"1\" class=\"dataframe\">\n",
       "  <thead>\n",
       "    <tr style=\"text-align: right;\">\n",
       "      <th></th>\n",
       "      <th>Flow</th>\n",
       "      <th>Occupy</th>\n",
       "    </tr>\n",
       "  </thead>\n",
       "  <tbody>\n",
       "    <tr>\n",
       "      <th>0</th>\n",
       "      <td>133.0</td>\n",
       "      <td>0.0603</td>\n",
       "    </tr>\n",
       "    <tr>\n",
       "      <th>1</th>\n",
       "      <td>210.0</td>\n",
       "      <td>0.0589</td>\n",
       "    </tr>\n",
       "    <tr>\n",
       "      <th>2</th>\n",
       "      <td>124.0</td>\n",
       "      <td>0.0358</td>\n",
       "    </tr>\n",
       "    <tr>\n",
       "      <th>3</th>\n",
       "      <td>145.0</td>\n",
       "      <td>0.0416</td>\n",
       "    </tr>\n",
       "    <tr>\n",
       "      <th>4</th>\n",
       "      <td>206.0</td>\n",
       "      <td>0.0493</td>\n",
       "    </tr>\n",
       "  </tbody>\n",
       "</table>\n",
       "</div>"
      ],
      "text/plain": [
       "    Flow  Occupy\n",
       "0  133.0  0.0603\n",
       "1  210.0  0.0589\n",
       "2  124.0  0.0358\n",
       "3  145.0  0.0416\n",
       "4  206.0  0.0493"
      ]
     },
     "execution_count": 4,
     "metadata": {},
     "output_type": "execute_result"
    }
   ],
   "source": [
    "new_set = data[['Flow','Occupy']].copy()\n",
    "new_set['Flow'] = np.around(new_set['Flow'])\n",
    "new_set.head()"
   ]
  },
  {
   "cell_type": "markdown",
   "id": "787f50d7",
   "metadata": {},
   "source": [
    "# 1 features"
   ]
  },
  {
   "cell_type": "code",
   "execution_count": 7,
   "id": "a5b2c939-9571-4b8f-95dd-cdb0bad3bd7a",
   "metadata": {},
   "outputs": [],
   "source": [
    "import numpy as np\n",
    "import pandas as pd\n",
    "import tensorflow as tf\n",
    "from sklearn.preprocessing import MinMaxScaler\n",
    "\n",
    "# Load the data\n",
    "data = new_set[[\"Flow\"]]\n",
    "#data = data[['traffic_volume']]\n",
    "\n",
    "# Normalize the data\n",
    "scaler = MinMaxScaler()\n",
    "data = scaler.fit_transform(data)\n",
    "\n",
    "# Split the data into training and testing sets\n",
    "train_size = int(len(data) * 0.8)\n",
    "test_size = len(data) - train_size\n",
    "train_data, test_data = data[0:train_size,:], data[train_size:len(data),:]\n",
    "\n",
    "# Create sequences of data\n",
    "def create_sequences(data, seq_length):\n",
    "    x = []\n",
    "    y = []\n",
    "    for i in range(len(data)-seq_length-1):\n",
    "        x.append(data[i:(i+seq_length), 0])\n",
    "        y.append(data[i+seq_length, 0])\n",
    "    return np.array(x), np.array(y)\n",
    "\n",
    "seq_length = 30\n",
    "trainX, trainY = create_sequences(train_data, seq_length)\n",
    "testX, testY = create_sequences(test_data, seq_length)\n",
    "\n",
    "# Reshape the data for the LSTM model\n",
    "trainX = np.reshape(trainX, (trainX.shape[0], trainX.shape[1], 1))\n",
    "testX = np.reshape(testX, (testX.shape[0], testX.shape[1], 1))\n",
    "\n",
    "# Define the model architecture\n",
    "model = tf.keras.Sequential([\n",
    "    tf.keras.layers.LSTM(64, input_shape=(seq_length, 1),return_sequences=True, unit_forget_bias=True),\n",
    "    tf.keras.layers.LSTM(32,return_sequences=True),\n",
    "    tf.keras.layers.LSTM(64,return_sequences=False),\n",
    "    tf.keras.layers.Dense(1)\n",
    "])\n"
   ]
  },
  {
   "cell_type": "code",
   "execution_count": null,
   "id": "8f469b62-3664-4382-b2a5-9f8055ea6c62",
   "metadata": {},
   "outputs": [],
   "source": [
    "\n",
    "# Compile the model\n",
    "model.compile(loss='mean_squared_error', optimizer='adam')\n",
    "\n",
    "# Train the model\n",
    "history = model.fit(trainX, trainY, epochs=20, batch_size=64, validation_data=(testX, testY))\n",
    "\n",
    "# Make predictions on the test data\n",
    "testPredict = model.predict(testX)\n",
    "\n",
    "# Inverse transform the predictions and actual values\n",
    "testPredict = scaler.inverse_transform(testPredict)\n",
    "testY = scaler.inverse_transform([testY])\n",
    "\n",
    "# Calculate root mean squared error\n",
    "rmse = np.sqrt(np.mean((testPredict - testY) ** 2))\n",
    "print('Test RMSE: %.2f' % rmse)"
   ]
  },
  {
   "cell_type": "code",
   "execution_count": 10,
   "id": "f4a07ccf-b199-4eb2-bb66-fe12b9d03e62",
   "metadata": {},
   "outputs": [
    {
     "name": "stdout",
     "output_type": "stream",
     "text": [
      "(1, 19969)\n",
      "(19969, 1)\n",
      "(19969, 1)\n"
     ]
    },
    {
     "data": {
      "text/plain": [
       "0.7075555063659578"
      ]
     },
     "execution_count": 10,
     "metadata": {},
     "output_type": "execute_result"
    }
   ],
   "source": [
    "testYshape=testY.reshape(19969,1)\n",
    "print(testY.shape)\n",
    "print(testYshape.shape)\n",
    "print(testPredict.shape)\n",
    "r2s = metrics.r2_score(y_true=testYshape,y_pred=testPredict)\n",
    "r2s"
   ]
  },
  {
   "cell_type": "code",
   "execution_count": 11,
   "id": "cfd0ab7e-8132-425b-9d8b-92961a5fe6d8",
   "metadata": {},
   "outputs": [
    {
     "data": {
      "image/png": "[encoded data removed]",
      "text/plain": [
       "<Figure size 720x360 with 1 Axes>"
      ]
     },
     "metadata": {
      "needs_background": "light"
     },
     "output_type": "display_data"
    }
   ],
   "source": [
    "plt.figure(figsize=(10,5))\n",
    "plt.plot(testYshape,color = 'red',label = 'Actual')\n",
    "plt.plot(testPredict,color = 'blue',label = 'Prediction')\n",
    "plt.legend()\n",
    "plt.xlim(10000,10100)\n",
    "plt.show()"
   ]
  },
  {
   "cell_type": "code",
   "execution_count": 10,
   "id": "b22108b7-731f-4efe-ad62-81c409df05cf",
   "metadata": {},
   "outputs": [
    {
     "data": {
      "image/png": "[encoded data removed]",
      "text/plain": [
       "<IPython.core.display.Image object>"
      ]
     },
     "execution_count": 10,
     "metadata": {},
     "output_type": "execute_result"
    }
   ],
   "source": [
    "from keras.utils import plot_model\n",
    "plot_model(model, to_file='model.png',\n",
    "    show_shapes=False,\n",
    "    show_dtype=False,\n",
    "    show_layer_names=False,\n",
    "    rankdir='LR',\n",
    "    expand_nested=True,\n",
    "    dpi=80,\n",
    "    layer_range=None,\n",
    "    show_layer_activations=True)"
   ]
  },
  {
   "cell_type": "markdown",
   "id": "33a28442",
   "metadata": {},
   "source": [
    "# 2 features"
   ]
  },
  {
   "cell_type": "code",
   "execution_count": null,
   "id": "bc3c3184-df73-4dd3-af8f-836b47bffd13",
   "metadata": {},
   "outputs": [],
   "source": [
    "import numpy as np\n",
    "import pandas as pd\n",
    "import numpy as np\n",
    "import pandas as pd\n",
    "import tensorflow as tf\n",
    "from sklearn.preprocessing import MinMaxScaler\n",
    "from sklearn.metrics import mean_squared_error\n",
    "import matplotlib.pyplot as plt\n",
    "\n",
    "# Load the data\n",
    "data = pd.read_csv('data/PMS_data.csv',nrows=100000)\n",
    "\n",
    "# Extract the features you want to use\n",
    "data = data[['Flow', 'Occupy']]\n",
    "\n",
    "# Normalize the data\n",
    "scaler = MinMaxScaler()\n",
    "data_scaled = scaler.fit_transform(data)\n",
    "\n",
    "# Split the data into training and testing sets\n",
    "train_size = int(len(data_scaled) * 0.8)\n",
    "train_data, test_data = data_scaled[0:train_size], data_scaled[train_size:]\n",
    "print(train_data.shape[1])\n",
    "\n",
    "def create_sequences(data, seq_length):\n",
    "    x = []\n",
    "    y = []\n",
    "    for i in range(len(data)-seq_length-1):\n",
    "        # Extract two features (traffic volume and temperature)\n",
    "        feature1 = data[i:(i+seq_length), 0]\n",
    "        feature2 = data[i:(i+seq_length), 1]\n",
    "        x.append(np.column_stack((feature1, feature2)))\n",
    "        y.append(data[i+seq_length, 0])\n",
    "    return np.array(x), np.array(y)\n",
    "seq_length = 30\n",
    "trainX, trainY = create_sequences(train_data, seq_length)\n",
    "testX, testY = create_sequences(test_data, seq_length)\n",
    "\n",
    "# Define the LSTM model\n",
    "model = tf.keras.Sequential([\n",
    "    tf.keras.layers.LSTM(50, input_shape=(trainX.shape[1], trainX.shape[2])),\n",
    "    tf.keras.layers.Dense(1)\n",
    "])\n",
    "\n",
    "# Compile the model\n",
    "model.compile(loss='mse', optimizer='adam')\n",
    "\n",
    "# Fit the model\n",
    "history = model.fit(trainX, trainY, epochs=50, batch_size=72, validation_data=(testX, testY), verbose=2, shuffle=False)\n"
   ]
  },
  {
   "cell_type": "code",
   "execution_count": null,
   "id": "e8133f8e",
   "metadata": {},
   "outputs": [],
   "source": []
  }
 ],
 "metadata": {
  "kernelspec": {
   "display_name": "Python 3 (ipykernel)",
   "language": "python",
   "name": "python3"
  },
  "language_info": {
   "codemirror_mode": {
    "name": "ipython",
    "version": 3
   },
   "file_extension": ".py",
   "mimetype": "text/x-python",
   "name": "python",
   "nbconvert_exporter": "python",
   "pygments_lexer": "ipython3",
   "version": "3.10.6"
  },
  "vscode": {
   "interpreter": {
    "hash": "e55666fbbf217aa3df372b978577f47b6009e2f78e2ec76a584f49cd54a1e62c"
   }
  }
 },
 "nbformat": 4,
 "nbformat_minor": 5
}
