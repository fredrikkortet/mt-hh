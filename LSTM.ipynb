{
 "cells": [
  {
   "cell_type": "markdown",
   "id": "0486996b",
   "metadata": {},
   "source": [
    "# LSTM Model"
   ]
  },
  {
   "cell_type": "code",
   "execution_count": 14,
   "id": "8d75989b",
   "metadata": {},
   "outputs": [],
   "source": [
    "import pandas as pd \n",
    "import numpy as np \n",
    "import tensorflow as tf\n",
    "import matplotlib.pyplot as plt\n",
    "from math import sqrt\n",
    "from tensorflow.keras import Sequential\n",
    "from tensorflow.keras.layers import LSTM ,Dense\n",
    "from tensorflow.keras.utils import plot_model\n",
    "from sklearn.metrics import mean_squared_error, r2_score\n",
    "from sklearn.preprocessing import MinMaxScaler\n"
   ]
  },
  {
   "cell_type": "markdown",
   "id": "2335b4e1",
   "metadata": {},
   "source": [
    "# Load and PreProcess "
   ]
  },
  {
   "cell_type": "code",
   "execution_count": 15,
   "id": "00c111da-41e2-4b53-8ebb-b8c35c6579fb",
   "metadata": {},
   "outputs": [
    {
     "name": "stdout",
     "output_type": "stream",
     "text": [
      "(17856, 170, 3)\n"
     ]
    }
   ],
   "source": [
    "loaded = np.load('data/pems08.npz')\n",
    "sets = loaded.f.data\n",
    "print(sets.shape)"
   ]
  },
  {
   "cell_type": "code",
   "execution_count": 16,
   "metadata": {},
   "outputs": [],
   "source": [
    "def get_data(road, features):\n",
    "    datax = sets[:,0,:features]\n",
    "    if road <=170:\n",
    "        for k in range(1,road):\n",
    "            datax = np.concatenate((datax ,sets[:,k,:features]))\n",
    "    return datax"
   ]
  },
  {
   "cell_type": "code",
   "execution_count": 17,
   "metadata": {},
   "outputs": [
    {
     "name": "stdout",
     "output_type": "stream",
     "text": [
      "(17856, 2)\n"
     ]
    }
   ],
   "source": [
    "dataOG = get_data(1,2)\n",
    "print(dataOG.shape)"
   ]
  },
  {
   "cell_type": "code",
   "execution_count": 18,
   "metadata": {},
   "outputs": [],
   "source": [
    "# Load the data\n",
    "dataBefore = dataOG[:,0].reshape(-1,1)\n",
    "\n",
    "# Normalize the data\n",
    "scaler = MinMaxScaler()\n",
    "data = scaler.fit_transform(dataBefore)"
   ]
  },
  {
   "cell_type": "code",
   "execution_count": 19,
   "metadata": {},
   "outputs": [],
   "source": [
    "# Split the data into training and testing sets\n",
    "train_size = int(len(data) * 0.8)\n",
    "test_size = len(data) - train_size\n",
    "train_data, test_data = data[0:train_size,:], data[train_size:len(data),:]\n"
   ]
  },
  {
   "cell_type": "code",
   "execution_count": 20,
   "metadata": {},
   "outputs": [],
   "source": [
    "# Create sequences of data\n",
    "def create_sequences(data, seq_length):\n",
    "    x = []\n",
    "    y = []\n",
    "    for i in range(len(data)-seq_length-1):\n",
    "        x.append(data[i:(i+seq_length), 0])\n",
    "        y.append(data[i+seq_length, 0])\n",
    "    return np.array(x), np.array(y)\n",
    "\n",
    "seq_length = 30\n",
    "trainX, trainY = create_sequences(train_data, seq_length)\n",
    "testX, testY = create_sequences(test_data, seq_length)\n",
    "\n",
    "# Reshape the data for the LSTM model\n",
    "trainX = np.reshape(trainX, (trainX.shape[0], trainX.shape[1], 1))\n",
    "testX = np.reshape(testX, (testX.shape[0], testX.shape[1], 1))\n"
   ]
  },
  {
   "cell_type": "markdown",
   "id": "787f50d7",
   "metadata": {},
   "source": [
    "# 1 features model"
   ]
  },
  {
   "cell_type": "code",
   "execution_count": 21,
   "id": "a5b2c939-9571-4b8f-95dd-cdb0bad3bd7a",
   "metadata": {},
   "outputs": [],
   "source": [
    "# Define the model architecture\n",
    "model = Sequential([\n",
    "    LSTM(64, input_shape=(seq_length, 1),return_sequences=True, unit_forget_bias=True),\n",
    "    LSTM(32,return_sequences=True),\n",
    "    LSTM(64,return_sequences=False),\n",
    "    Dense(1)\n",
    "])\n",
    "\n",
    "# Compile the model\n",
    "model.compile(loss='mean_squared_error', optimizer='adam')\n"
   ]
  },
  {
   "cell_type": "markdown",
   "metadata": {},
   "source": [
    "# Train & Predict"
   ]
  },
  {
   "cell_type": "code",
   "execution_count": 22,
   "id": "8f469b62-3664-4382-b2a5-9f8055ea6c62",
   "metadata": {},
   "outputs": [
    {
     "name": "stdout",
     "output_type": "stream",
     "text": [
      "Epoch 1/20\n",
      "223/223 [==============================] - 17s 52ms/step - loss: 0.0097 - val_loss: 0.0040\n",
      "Epoch 2/20\n",
      "223/223 [==============================] - 10s 43ms/step - loss: 0.0029 - val_loss: 0.0028\n",
      "Epoch 3/20\n",
      "223/223 [==============================] - 10s 45ms/step - loss: 0.0026 - val_loss: 0.0029\n",
      "Epoch 4/20\n",
      "223/223 [==============================] - 10s 44ms/step - loss: 0.0022 - val_loss: 0.0025\n",
      "Epoch 5/20\n",
      "223/223 [==============================] - 10s 43ms/step - loss: 0.0022 - val_loss: 0.0022\n",
      "Epoch 6/20\n",
      "223/223 [==============================] - 10s 43ms/step - loss: 0.0020 - val_loss: 0.0024\n",
      "Epoch 7/20\n",
      "223/223 [==============================] - 9s 42ms/step - loss: 0.0020 - val_loss: 0.0021\n",
      "Epoch 8/20\n",
      "223/223 [==============================] - 9s 42ms/step - loss: 0.0018 - val_loss: 0.0020\n",
      "Epoch 9/20\n",
      "223/223 [==============================] - 10s 43ms/step - loss: 0.0018 - val_loss: 0.0026\n",
      "Epoch 10/20\n",
      "223/223 [==============================] - 9s 42ms/step - loss: 0.0018 - val_loss: 0.0020\n",
      "Epoch 11/20\n",
      "223/223 [==============================] - 9s 43ms/step - loss: 0.0018 - val_loss: 0.0025\n",
      "Epoch 12/20\n",
      "223/223 [==============================] - 10s 43ms/step - loss: 0.0018 - val_loss: 0.0020\n",
      "Epoch 13/20\n",
      "223/223 [==============================] - 10s 44ms/step - loss: 0.0018 - val_loss: 0.0020\n",
      "Epoch 14/20\n",
      "223/223 [==============================] - 10s 44ms/step - loss: 0.0018 - val_loss: 0.0022\n",
      "Epoch 15/20\n",
      "223/223 [==============================] - 10s 43ms/step - loss: 0.0018 - val_loss: 0.0020\n",
      "Epoch 16/20\n",
      "223/223 [==============================] - 9s 42ms/step - loss: 0.0018 - val_loss: 0.0024\n",
      "Epoch 17/20\n",
      "223/223 [==============================] - 10s 43ms/step - loss: 0.0018 - val_loss: 0.0020\n",
      "Epoch 18/20\n",
      "223/223 [==============================] - 10s 44ms/step - loss: 0.0017 - val_loss: 0.0020\n",
      "Epoch 19/20\n",
      "223/223 [==============================] - 10s 44ms/step - loss: 0.0018 - val_loss: 0.0020\n",
      "Epoch 20/20\n",
      "223/223 [==============================] - 10s 44ms/step - loss: 0.0018 - val_loss: 0.0020\n",
      "111/111 [==============================] - 2s 10ms/step\n"
     ]
    }
   ],
   "source": [
    "# Train the model\n",
    "model.fit(trainX, trainY, epochs=20, batch_size=64, validation_data=(testX, testY))\n",
    "\n",
    "# Make predictions on the test data\n",
    "testPredict = model.predict(testX)"
   ]
  },
  {
   "cell_type": "markdown",
   "metadata": {},
   "source": [
    "# Result"
   ]
  },
  {
   "cell_type": "code",
   "execution_count": 23,
   "metadata": {},
   "outputs": [
    {
     "name": "stdout",
     "output_type": "stream",
     "text": [
      "Test RMSE: 28.61\n",
      "Test R2: 0.96\n"
     ]
    }
   ],
   "source": [
    "# Inverse transform the predictions and actual values\n",
    "testPredict = scaler.inverse_transform(testPredict)\n",
    "testY = scaler.inverse_transform([testY])\n",
    "\n",
    "# Calculate root mean squared error\n",
    "rmse = sqrt(mean_squared_error(testY[0],testPredict.reshape(-1,1)))\n",
    "\n",
    "# Calculate R2 score\n",
    "testYshape=testY.reshape(len(testY[0]),1)\n",
    "r2s = r2_score(y_true=testYshape,y_pred=testPredict)\n",
    "\n",
    "print('Test RMSE: %.2f' % rmse)\n",
    "print('Test R2: %.2f' % r2s)"
   ]
  },
  {
   "cell_type": "code",
   "execution_count": 26,
   "id": "cfd0ab7e-8132-425b-9d8b-92961a5fe6d8",
   "metadata": {},
   "outputs": [
    {
     "data": {
      "image/png": "[encoded data removed]",
      "text/plain": [
       "<Figure size 1000x500 with 1 Axes>"
      ]
     },
     "metadata": {},
     "output_type": "display_data"
    }
   ],
   "source": [
    "plt.figure(figsize=(10,5))\n",
    "plt.plot(testYshape,color = 'red',label = 'Actual')\n",
    "plt.plot(testPredict,color = 'blue',label = 'Prediction')\n",
    "plt.legend()\n",
    "plt.xlim(300,400)\n",
    "plt.show()"
   ]
  },
  {
   "cell_type": "code",
   "execution_count": 25,
   "id": "b22108b7-731f-4efe-ad62-81c409df05cf",
   "metadata": {},
   "outputs": [
    {
     "name": "stdout",
     "output_type": "stream",
     "text": [
      "You must install pydot (`pip install pydot`) and install graphviz (see instructions at https://graphviz.gitlab.io/download/) for plot_model to work.\n"
     ]
    }
   ],
   "source": [
    "plot_model(model, to_file='model.png',\n",
    "    show_shapes=False,\n",
    "    show_dtype=False,\n",
    "    show_layer_names=False,\n",
    "    rankdir='LR',\n",
    "    expand_nested=True,\n",
    "    dpi=80,\n",
    "    layer_range=None,\n",
    "    show_layer_activations=True)"
   ]
  },
  {
   "cell_type": "markdown",
   "id": "33a28442",
   "metadata": {},
   "source": [
    "# 2 features"
   ]
  },
  {
   "cell_type": "markdown",
   "metadata": {},
   "source": [
    "# Load the data\n",
    "data = pd.read_csv('data/PMS_data.csv',nrows=100000)\n",
    "\n",
    "# Extract the features you want to use\n",
    "data = data[['Flow', 'Occupy']]\n",
    "\n",
    "# Normalize the data\n",
    "scaler = MinMaxScaler()\n",
    "data_scaled = scaler.fit_transform(data)\n",
    "\n",
    "# Split the data into training and testing sets\n",
    "train_size = int(len(data_scaled) * 0.8)\n",
    "train_data, test_data = data_scaled[0:train_size], data_scaled[train_size:]\n",
    "print(train_data.shape[1])\n",
    "\n",
    "def create_sequences(data, seq_length):\n",
    "    x = []\n",
    "    y = []\n",
    "    for i in range(len(data)-seq_length-1):\n",
    "        # Extract two features (traffic volume and temperature)\n",
    "        feature1 = data[i:(i+seq_length), 0]\n",
    "        feature2 = data[i:(i+seq_length), 1]\n",
    "        x.append(np.column_stack((feature1, feature2)))\n",
    "        y.append(data[i+seq_length, 0])\n",
    "    return np.array(x), np.array(y)\n",
    "seq_length = 30\n",
    "trainX, trainY = create_sequences(train_data, seq_length)\n",
    "testX, testY = create_sequences(test_data, seq_length)\n",
    "\n",
    "# Define the LSTM model\n",
    "model = tf.keras.Sequential([\n",
    "    tf.keras.layers.LSTM(50, input_shape=(trainX.shape[1], trainX.shape[2])),\n",
    "    tf.keras.layers.Dense(1)\n",
    "])\n",
    "\n",
    "# Compile the model\n",
    "model.compile(loss='mse', optimizer='adam')\n",
    "\n",
    "# Fit the model\n",
    "history = model.fit(trainX, trainY, epochs=50, batch_size=72, validation_data=(testX, testY), verbose=2, shuffle=False)\n"
   ]
  }
 ],
 "metadata": {
  "kernelspec": {
   "display_name": "Python 3",
   "language": "python",
   "name": "python3"
  },
  "language_info": {
   "codemirror_mode": {
    "name": "ipython",
    "version": 3
   },
   "file_extension": ".py",
   "mimetype": "text/x-python",
   "name": "python",
   "nbconvert_exporter": "python",
   "pygments_lexer": "ipython3",
   "version": "3.8.10"
  },
  "vscode": {
   "interpreter": {
    "hash": "e55666fbbf217aa3df372b978577f47b6009e2f78e2ec76a584f49cd54a1e62c"
   }
  }
 },
 "nbformat": 4,
 "nbformat_minor": 5
}
