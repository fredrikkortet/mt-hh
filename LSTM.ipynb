{
 "cells": [
  {
   "cell_type": "markdown",
   "id": "0486996b",
   "metadata": {},
   "source": [
    "# LSTM Model"
   ]
  },
  {
   "cell_type": "code",
   "execution_count": 10,
   "id": "8d75989b",
   "metadata": {},
   "outputs": [],
   "source": [
    "import pandas as pd \n",
    "from sklearn.model_selection  import train_test_split\n",
    "import numpy as np \n",
    "import matplotlib.pyplot as plt\n",
    "from pandas import DataFrame\n",
    "from sklearn.metrics import mean_squared_error\n",
    "from math import sqrt\n",
    "from pandas.plotting import lag_plot\n",
    "from sklearn import metrics\n",
    "import tensorflow as tf\n",
    "from tensorflow import keras\n",
    "from tensorflow.keras import layers"
   ]
  },
  {
   "cell_type": "markdown",
   "id": "2335b4e1",
   "metadata": {},
   "source": [
    "# Load and PreProcess "
   ]
  },
  {
   "cell_type": "code",
   "execution_count": 11,
   "id": "00c111da-41e2-4b53-8ebb-b8c35c6579fb",
   "metadata": {},
   "outputs": [],
   "source": [
    "data = pd.read_csv('data/PMS_data.csv',nrows=100000)"
   ]
  },
  {
   "cell_type": "code",
   "execution_count": 12,
   "id": "8ec0faaf-50a1-498c-bf9f-56e2115feffa",
   "metadata": {},
   "outputs": [
    {
     "data": {
      "text/html": [
       "<div>\n",
       "<style scoped>\n",
       "    .dataframe tbody tr th:only-of-type {\n",
       "        vertical-align: middle;\n",
       "    }\n",
       "\n",
       "    .dataframe tbody tr th {\n",
       "        vertical-align: top;\n",
       "    }\n",
       "\n",
       "    .dataframe thead th {\n",
       "        text-align: right;\n",
       "    }\n",
       "</style>\n",
       "<table border=\"1\" class=\"dataframe\">\n",
       "  <thead>\n",
       "    <tr style=\"text-align: right;\">\n",
       "      <th></th>\n",
       "      <th>Flow</th>\n",
       "      <th>Occupy</th>\n",
       "      <th>Speed</th>\n",
       "    </tr>\n",
       "  </thead>\n",
       "  <tbody>\n",
       "    <tr>\n",
       "      <th>0</th>\n",
       "      <td>133.0</td>\n",
       "      <td>0.0603</td>\n",
       "      <td>65.8</td>\n",
       "    </tr>\n",
       "    <tr>\n",
       "      <th>1</th>\n",
       "      <td>210.0</td>\n",
       "      <td>0.0589</td>\n",
       "      <td>69.6</td>\n",
       "    </tr>\n",
       "    <tr>\n",
       "      <th>2</th>\n",
       "      <td>124.0</td>\n",
       "      <td>0.0358</td>\n",
       "      <td>65.8</td>\n",
       "    </tr>\n",
       "    <tr>\n",
       "      <th>3</th>\n",
       "      <td>145.0</td>\n",
       "      <td>0.0416</td>\n",
       "      <td>69.6</td>\n",
       "    </tr>\n",
       "    <tr>\n",
       "      <th>4</th>\n",
       "      <td>206.0</td>\n",
       "      <td>0.0493</td>\n",
       "      <td>69.4</td>\n",
       "    </tr>\n",
       "  </tbody>\n",
       "</table>\n",
       "</div>"
      ],
      "text/plain": [
       "    Flow  Occupy  Speed\n",
       "0  133.0  0.0603   65.8\n",
       "1  210.0  0.0589   69.6\n",
       "2  124.0  0.0358   65.8\n",
       "3  145.0  0.0416   69.6\n",
       "4  206.0  0.0493   69.4"
      ]
     },
     "execution_count": 12,
     "metadata": {},
     "output_type": "execute_result"
    }
   ],
   "source": [
    "data.head()"
   ]
  },
  {
   "cell_type": "code",
   "execution_count": 4,
   "id": "4960043f-3144-4e75-9936-519e675d32ee",
   "metadata": {},
   "outputs": [],
   "source": [
    "new_set = data[['Flow','Occupy']].copy()"
   ]
  },
  {
   "cell_type": "code",
   "execution_count": 5,
   "id": "a6960b6a-7bf4-48a4-8ca5-ea93845e0d9b",
   "metadata": {},
   "outputs": [
    {
     "data": {
      "text/html": [
       "<div>\n",
       "<style scoped>\n",
       "    .dataframe tbody tr th:only-of-type {\n",
       "        vertical-align: middle;\n",
       "    }\n",
       "\n",
       "    .dataframe tbody tr th {\n",
       "        vertical-align: top;\n",
       "    }\n",
       "\n",
       "    .dataframe thead th {\n",
       "        text-align: right;\n",
       "    }\n",
       "</style>\n",
       "<table border=\"1\" class=\"dataframe\">\n",
       "  <thead>\n",
       "    <tr style=\"text-align: right;\">\n",
       "      <th></th>\n",
       "      <th>Flow</th>\n",
       "      <th>Occupy</th>\n",
       "    </tr>\n",
       "  </thead>\n",
       "  <tbody>\n",
       "    <tr>\n",
       "      <th>0</th>\n",
       "      <td>133.0</td>\n",
       "      <td>0.0603</td>\n",
       "    </tr>\n",
       "    <tr>\n",
       "      <th>1</th>\n",
       "      <td>210.0</td>\n",
       "      <td>0.0589</td>\n",
       "    </tr>\n",
       "    <tr>\n",
       "      <th>2</th>\n",
       "      <td>124.0</td>\n",
       "      <td>0.0358</td>\n",
       "    </tr>\n",
       "    <tr>\n",
       "      <th>3</th>\n",
       "      <td>145.0</td>\n",
       "      <td>0.0416</td>\n",
       "    </tr>\n",
       "    <tr>\n",
       "      <th>4</th>\n",
       "      <td>206.0</td>\n",
       "      <td>0.0493</td>\n",
       "    </tr>\n",
       "  </tbody>\n",
       "</table>\n",
       "</div>"
      ],
      "text/plain": [
       "    Flow  Occupy\n",
       "0  133.0  0.0603\n",
       "1  210.0  0.0589\n",
       "2  124.0  0.0358\n",
       "3  145.0  0.0416\n",
       "4  206.0  0.0493"
      ]
     },
     "execution_count": 5,
     "metadata": {},
     "output_type": "execute_result"
    }
   ],
   "source": [
    "new_set.head()"
   ]
  },
  {
   "cell_type": "code",
   "execution_count": 95,
   "id": "65f37f7d-8451-4962-8b92-3ebb91292009",
   "metadata": {},
   "outputs": [
    {
     "data": {
      "text/html": [
       "<div>\n",
       "<style scoped>\n",
       "    .dataframe tbody tr th:only-of-type {\n",
       "        vertical-align: middle;\n",
       "    }\n",
       "\n",
       "    .dataframe tbody tr th {\n",
       "        vertical-align: top;\n",
       "    }\n",
       "\n",
       "    .dataframe thead th {\n",
       "        text-align: right;\n",
       "    }\n",
       "</style>\n",
       "<table border=\"1\" class=\"dataframe\">\n",
       "  <thead>\n",
       "    <tr style=\"text-align: right;\">\n",
       "      <th></th>\n",
       "      <th>Flow</th>\n",
       "      <th>Occupy</th>\n",
       "    </tr>\n",
       "  </thead>\n",
       "  <tbody>\n",
       "    <tr>\n",
       "      <th>0</th>\n",
       "      <td>133.0</td>\n",
       "      <td>0.0603</td>\n",
       "    </tr>\n",
       "    <tr>\n",
       "      <th>1</th>\n",
       "      <td>210.0</td>\n",
       "      <td>0.0589</td>\n",
       "    </tr>\n",
       "    <tr>\n",
       "      <th>2</th>\n",
       "      <td>124.0</td>\n",
       "      <td>0.0358</td>\n",
       "    </tr>\n",
       "    <tr>\n",
       "      <th>3</th>\n",
       "      <td>145.0</td>\n",
       "      <td>0.0416</td>\n",
       "    </tr>\n",
       "    <tr>\n",
       "      <th>4</th>\n",
       "      <td>206.0</td>\n",
       "      <td>0.0493</td>\n",
       "    </tr>\n",
       "  </tbody>\n",
       "</table>\n",
       "</div>"
      ],
      "text/plain": [
       "    Flow  Occupy\n",
       "0  133.0  0.0603\n",
       "1  210.0  0.0589\n",
       "2  124.0  0.0358\n",
       "3  145.0  0.0416\n",
       "4  206.0  0.0493"
      ]
     },
     "execution_count": 95,
     "metadata": {},
     "output_type": "execute_result"
    }
   ],
   "source": [
    "new_set['Flow'] = np.around(new_set['Flow'])\n",
    "new_set.head()"
   ]
  },
  {
   "cell_type": "code",
   "execution_count": 96,
   "id": "b7d163de-846f-44e7-87ba-d061980fe072",
   "metadata": {},
   "outputs": [],
   "source": [
    "new_set_plot = new_set.values"
   ]
  },
  {
   "cell_type": "code",
   "execution_count": 97,
   "id": "437dd40a-d553-4dfc-89b3-bba2b0d4eac8",
   "metadata": {},
   "outputs": [
    {
     "data": {
      "image/png": "[encoded data removed]",
      "text/plain": [
       "<Figure size 640x480 with 2 Axes>"
      ]
     },
     "metadata": {},
     "output_type": "display_data"
    }
   ],
   "source": [
    "groups = [0, 1]\n",
    "i = 1\n",
    "plt.figure()\n",
    "for group in groups:\n",
    "    plt.subplot(len(groups), 1, i)\n",
    "    plt.plot(new_set_plot[:, group])\n",
    "    plt.title(new_set.columns[group], y=0.5, loc='right')\n",
    "    i += 1\n",
    "plt.show()"
   ]
  },
  {
   "cell_type": "code",
   "execution_count": 98,
   "id": "1c63f62e-1254-4937-bcea-b017d02b0235",
   "metadata": {},
   "outputs": [],
   "source": [
    "from sklearn.preprocessing import StandardScaler\n"
   ]
  },
  {
   "cell_type": "code",
   "execution_count": 99,
   "id": "3753756f-656b-4f2b-9805-34ca80bbcb58",
   "metadata": {},
   "outputs": [],
   "source": [
    "scaler = StandardScaler()"
   ]
  },
  {
   "cell_type": "code",
   "execution_count": 100,
   "id": "b11dd6bc-ee11-4a67-94cc-4ace8665aa81",
   "metadata": {},
   "outputs": [
    {
     "data": {
      "text/html": [
       "<div>\n",
       "<style scoped>\n",
       "    .dataframe tbody tr th:only-of-type {\n",
       "        vertical-align: middle;\n",
       "    }\n",
       "\n",
       "    .dataframe tbody tr th {\n",
       "        vertical-align: top;\n",
       "    }\n",
       "\n",
       "    .dataframe thead th {\n",
       "        text-align: right;\n",
       "    }\n",
       "</style>\n",
       "<table border=\"1\" class=\"dataframe\">\n",
       "  <thead>\n",
       "    <tr style=\"text-align: right;\">\n",
       "      <th></th>\n",
       "      <th>Flow</th>\n",
       "      <th>Occupy</th>\n",
       "    </tr>\n",
       "  </thead>\n",
       "  <tbody>\n",
       "    <tr>\n",
       "      <th>0</th>\n",
       "      <td>133.0</td>\n",
       "      <td>0.0603</td>\n",
       "    </tr>\n",
       "    <tr>\n",
       "      <th>1</th>\n",
       "      <td>210.0</td>\n",
       "      <td>0.0589</td>\n",
       "    </tr>\n",
       "    <tr>\n",
       "      <th>2</th>\n",
       "      <td>124.0</td>\n",
       "      <td>0.0358</td>\n",
       "    </tr>\n",
       "    <tr>\n",
       "      <th>3</th>\n",
       "      <td>145.0</td>\n",
       "      <td>0.0416</td>\n",
       "    </tr>\n",
       "    <tr>\n",
       "      <th>4</th>\n",
       "      <td>206.0</td>\n",
       "      <td>0.0493</td>\n",
       "    </tr>\n",
       "    <tr>\n",
       "      <th>...</th>\n",
       "      <td>...</td>\n",
       "      <td>...</td>\n",
       "    </tr>\n",
       "    <tr>\n",
       "      <th>99995</th>\n",
       "      <td>127.0</td>\n",
       "      <td>0.0326</td>\n",
       "    </tr>\n",
       "    <tr>\n",
       "      <th>99996</th>\n",
       "      <td>127.0</td>\n",
       "      <td>0.0227</td>\n",
       "    </tr>\n",
       "    <tr>\n",
       "      <th>99997</th>\n",
       "      <td>124.0</td>\n",
       "      <td>0.0402</td>\n",
       "    </tr>\n",
       "    <tr>\n",
       "      <th>99998</th>\n",
       "      <td>99.0</td>\n",
       "      <td>0.0248</td>\n",
       "    </tr>\n",
       "    <tr>\n",
       "      <th>99999</th>\n",
       "      <td>129.0</td>\n",
       "      <td>0.0264</td>\n",
       "    </tr>\n",
       "  </tbody>\n",
       "</table>\n",
       "<p>100000 rows × 2 columns</p>\n",
       "</div>"
      ],
      "text/plain": [
       "        Flow  Occupy\n",
       "0      133.0  0.0603\n",
       "1      210.0  0.0589\n",
       "2      124.0  0.0358\n",
       "3      145.0  0.0416\n",
       "4      206.0  0.0493\n",
       "...      ...     ...\n",
       "99995  127.0  0.0326\n",
       "99996  127.0  0.0227\n",
       "99997  124.0  0.0402\n",
       "99998   99.0  0.0248\n",
       "99999  129.0  0.0264\n",
       "\n",
       "[100000 rows x 2 columns]"
      ]
     },
     "execution_count": 100,
     "metadata": {},
     "output_type": "execute_result"
    }
   ],
   "source": [
    "new_set"
   ]
  },
  {
   "cell_type": "code",
   "execution_count": 101,
   "id": "10357b99-cb5f-4446-b52b-669dbd5fe760",
   "metadata": {},
   "outputs": [],
   "source": [
    "x = new_set.Occupy.values\n",
    "\n",
    "y = new_set.Flow.values\n",
    "\n",
    "x_train, x_test, y_train, y_test = train_test_split(x, y, test_size = 0.25)"
   ]
  },
  {
   "cell_type": "code",
   "execution_count": 102,
   "metadata": {},
   "outputs": [],
   "source": [
    "x_train = scaler.fit_transform(x_train.reshape(-1,1))\n",
    "y_train = scaler.fit_transform(y_train.reshape(-1,1))\n",
    "x_test = scaler.fit_transform(x_test.reshape(-1,1))\n",
    "y_test = scaler.fit_transform(y_test.reshape(-1,1))"
   ]
  },
  {
   "cell_type": "code",
   "execution_count": 103,
   "id": "24bc2ef8-39aa-4504-9343-cf4da9cb8dd9",
   "metadata": {},
   "outputs": [
    {
     "data": {
      "text/plain": [
       "(75000, 1)"
      ]
     },
     "execution_count": 103,
     "metadata": {},
     "output_type": "execute_result"
    }
   ],
   "source": [
    "#x_train = x_train.reshape(-1,1)\n",
    "x_train.shape"
   ]
  },
  {
   "cell_type": "code",
   "execution_count": 104,
   "id": "1c4d5ec0-c44f-4918-bedb-2772c55955e2",
   "metadata": {},
   "outputs": [
    {
     "data": {
      "text/plain": [
       "(25000, 1)"
      ]
     },
     "execution_count": 104,
     "metadata": {},
     "output_type": "execute_result"
    }
   ],
   "source": [
    "#x_test = x_test.reshape(-1,1)\n",
    "x_test.shape"
   ]
  },
  {
   "cell_type": "code",
   "execution_count": 128,
   "id": "7623eba7-c6b3-4252-8940-db96bcd5a33c",
   "metadata": {},
   "outputs": [],
   "source": [
    "from tensorflow.keras import Sequential\n",
    "from tensorflow.keras.layers import LSTM ,Dense , Dropout,Activation,Lambda, Bidirectional\n",
    "import tensorflow as tf"
   ]
  },
  {
   "cell_type": "markdown",
   "metadata": {},
   "source": [
    "model = Sequential()\n",
    "model.add(LSTM(50,activation=\"relu\",return_sequences=True,input_shape=(x_train.shape[0],x_train.shape[1])))\n",
    "model.add(LSTM(50,return_sequences = False,activation=\"relu\"))\n",
    "model.add(Dense(50))\n",
    "model.add(Dropout(0.2))\n",
    "model.add(Dense(1))\n"
   ]
  },
  {
   "cell_type": "code",
   "execution_count": 129,
   "id": "c37a5ddd-264f-40ff-858a-c2b0d0d12222",
   "metadata": {},
   "outputs": [],
   "source": [
    "model = Sequential([\n",
    "  Lambda(lambda x: tf.expand_dims(x, axis=-1),input_shape=[None]),\n",
    "  Bidirectional(LSTM(128,activation=\"relu\", return_sequences=True)),\n",
    "  LSTM(64,activation=\"relu\", return_sequences=True),\n",
    "  LSTM(128,activation=\"relu\", return_sequences=False),\n",
    "  Dense(50),\n",
    "  Dropout(0.5),\n",
    "  Dense(1),\n",
    "  Lambda(lambda x: x*20)\n",
    "])"
   ]
  },
  {
   "cell_type": "code",
   "execution_count": 130,
   "id": "14aec197-44e4-410d-acbd-3a4151c885d4",
   "metadata": {},
   "outputs": [
    {
     "name": "stdout",
     "output_type": "stream",
     "text": [
      "Model: \"sequential\"\n",
      "_________________________________________________________________\n",
      " Layer (type)                Output Shape              Param #   \n",
      "=================================================================\n",
      " lambda (Lambda)             (None, None, 1)           0         \n",
      "                                                                 \n",
      " bidirectional (Bidirectiona  (None, None, 256)        133120    \n",
      " l)                                                              \n",
      "                                                                 \n",
      " lstm_1 (LSTM)               (None, None, 64)          82176     \n",
      "                                                                 \n",
      " lstm_2 (LSTM)               (None, 128)               98816     \n",
      "                                                                 \n",
      " dense (Dense)               (None, 50)                6450      \n",
      "                                                                 \n",
      " dropout (Dropout)           (None, 50)                0         \n",
      "                                                                 \n",
      " dense_1 (Dense)             (None, 1)                 51        \n",
      "                                                                 \n",
      " lambda_1 (Lambda)           (None, 1)                 0         \n",
      "                                                                 \n",
      "=================================================================\n",
      "Total params: 320,613\n",
      "Trainable params: 320,613\n",
      "Non-trainable params: 0\n",
      "_________________________________________________________________\n"
     ]
    }
   ],
   "source": [
    "model.summary()"
   ]
  },
  {
   "cell_type": "code",
   "execution_count": 131,
   "id": "c1fbbcb3-a263-4194-89c9-677bd310398f",
   "metadata": {
    "scrolled": true,
    "tags": []
   },
   "outputs": [
    {
     "name": "stdout",
     "output_type": "stream",
     "text": [
      "Epoch 1/5\n",
      "1500/1500 [==============================] - 14s 8ms/step - loss: 0.4110 - val_loss: 0.3732\n",
      "Epoch 2/5\n",
      "1500/1500 [==============================] - 11s 8ms/step - loss: 0.3985 - val_loss: 0.3740\n",
      "Epoch 3/5\n",
      "1500/1500 [==============================] - 12s 8ms/step - loss: 0.3962 - val_loss: 0.3716\n",
      "Epoch 4/5\n",
      "1500/1500 [==============================] - 11s 8ms/step - loss: 0.3954 - val_loss: 0.3735\n",
      "Epoch 5/5\n",
      "1500/1500 [==============================] - 11s 8ms/step - loss: 0.3954 - val_loss: 0.3713\n"
     ]
    }
   ],
   "source": [
    "loss_fn= tf.losses.Huber()\n",
    "tf.keras.backend.clear_session()\n",
    "model.compile(loss=\"mse\", optimizer=tf.keras.optimizers.Adam())\n",
    "history = model.fit(x_train, y_train, epochs=5, batch_size=50, validation_data=(x_test, y_test), shuffle=False)\n",
    "     "
   ]
  },
  {
   "cell_type": "code",
   "execution_count": 108,
   "id": "cba809bb-14b9-4a62-8464-ca9562d818e3",
   "metadata": {},
   "outputs": [
    {
     "data": {
      "image/png": "[encoded data removed]",
      "text/plain": [
       "<Figure size 640x480 with 1 Axes>"
      ]
     },
     "metadata": {},
     "output_type": "display_data"
    }
   ],
   "source": [
    "# plot history\n",
    "plt.plot(history.history['loss'], label='train')\n",
    "plt.plot(history.history['val_loss'], label='test')\n",
    "plt.legend()\n",
    "plt.show()"
   ]
  },
  {
   "cell_type": "code",
   "execution_count": 110,
   "id": "f3140cf7-bd66-4a62-9e67-f75d01f56257",
   "metadata": {},
   "outputs": [
    {
     "name": "stdout",
     "output_type": "stream",
     "text": [
      "782/782 [==============================] - 3s 3ms/step\n"
     ]
    }
   ],
   "source": [
    "# make a prediction\n",
    "y_pred = model.predict(x_test)\n"
   ]
  },
  {
   "cell_type": "code",
   "execution_count": 111,
   "id": "b9c2fdf5-d0f5-4521-9478-a1c5a1e45ed1",
   "metadata": {},
   "outputs": [
    {
     "data": {
      "text/plain": [
       "(25000, 1)"
      ]
     },
     "execution_count": 111,
     "metadata": {},
     "output_type": "execute_result"
    }
   ],
   "source": [
    "y_pred.shape"
   ]
  },
  {
   "cell_type": "code",
   "execution_count": 112,
   "id": "630ebc53-52f6-4cb1-97a0-74c5270cb74a",
   "metadata": {},
   "outputs": [],
   "source": [
    "y_prednormal=scaler.inverse_transform(y_pred)\n",
    "y_testnormal=scaler.inverse_transform(y_test)"
   ]
  },
  {
   "cell_type": "code",
   "execution_count": 113,
   "id": "50f268a7-2940-4a49-8f75-00fc3fd34167",
   "metadata": {},
   "outputs": [
    {
     "data": {
      "image/png": "[encoded data removed]",
      "text/plain": [
       "<Figure size 1000x500 with 1 Axes>"
      ]
     },
     "metadata": {},
     "output_type": "display_data"
    }
   ],
   "source": [
    "plt.figure(figsize=(10,5))\n",
    "plt.plot(y_prednormal,color = 'red',label = 'Prediction')\n",
    "plt.plot(y_testnormal,color = 'blue',label = 'Actual')\n",
    "plt.legend()\n",
    "plt.xlim(119800,119900)\n",
    "plt.show()"
   ]
  },
  {
   "cell_type": "code",
   "execution_count": 118,
   "id": "fb0fe98a-a4be-4003-8286-3cb2ab40aa89",
   "metadata": {},
   "outputs": [
    {
     "data": {
      "text/plain": [
       "0.6268272490886585"
      ]
     },
     "execution_count": 118,
     "metadata": {},
     "output_type": "execute_result"
    }
   ],
   "source": [
    "r2s = metrics.r2_score(y_true=y_testnormal,y_pred=y_prednormal)\n",
    "r2s"
   ]
  },
  {
   "cell_type": "code",
   "execution_count": 115,
   "metadata": {},
   "outputs": [
    {
     "data": {
      "text/plain": [
       "87.16013067695799"
      ]
     },
     "execution_count": 115,
     "metadata": {},
     "output_type": "execute_result"
    }
   ],
   "source": [
    "rmse = sqrt(metrics.mean_squared_error(y_testnormal, y_prednormal))\n",
    "rmse"
   ]
  },
  {
   "cell_type": "code",
   "execution_count": 116,
   "id": "8076a7ca-9c21-45e5-a053-a1a61d4dc735",
   "metadata": {},
   "outputs": [
    {
     "data": {
      "text/plain": [
       "64.882292634691"
      ]
     },
     "execution_count": 116,
     "metadata": {},
     "output_type": "execute_result"
    }
   ],
   "source": [
    "mae = metrics.mean_absolute_error(y_true=y_testnormal,y_pred=y_prednormal)\n",
    "mae"
   ]
  },
  {
   "cell_type": "code",
   "execution_count": 117,
   "metadata": {},
   "outputs": [
    {
     "data": {
      "text/plain": [
       "7596.8883796243945"
      ]
     },
     "execution_count": 117,
     "metadata": {},
     "output_type": "execute_result"
    }
   ],
   "source": [
    "mse = metrics.mean_squared_error(y_true=y_testnormal,y_pred=y_prednormal)\n",
    "mse"
   ]
  },
  {
   "cell_type": "markdown",
   "metadata": {},
   "source": [
    "# chatGPT 1 features"
   ]
  },
  {
   "cell_type": "code",
   "execution_count": 133,
   "metadata": {},
   "outputs": [
    {
     "name": "stdout",
     "output_type": "stream",
     "text": [
      "Epoch 1/100\n",
      "1250/1250 [==============================] - 26s 20ms/step - loss: 0.0170 - val_loss: 0.0149\n",
      "Epoch 2/100\n",
      "1250/1250 [==============================] - 25s 20ms/step - loss: 0.0158 - val_loss: 0.0137\n",
      "Epoch 3/100\n",
      "1250/1250 [==============================] - 26s 21ms/step - loss: 0.0138 - val_loss: 0.0123\n",
      "Epoch 4/100\n",
      "1250/1250 [==============================] - 25s 20ms/step - loss: 0.0114 - val_loss: 0.0105\n",
      "Epoch 5/100\n",
      "1250/1250 [==============================] - 26s 20ms/step - loss: 0.0098 - val_loss: 0.0095\n",
      "Epoch 6/100\n",
      "1250/1250 [==============================] - 26s 20ms/step - loss: 0.0083 - val_loss: 0.0080\n",
      "Epoch 7/100\n",
      "1250/1250 [==============================] - 25s 20ms/step - loss: 0.0072 - val_loss: 0.0079\n",
      "Epoch 8/100\n",
      "1250/1250 [==============================] - 25s 20ms/step - loss: 0.0063 - val_loss: 0.0069\n",
      "Epoch 9/100\n",
      "1250/1250 [==============================] - 25s 20ms/step - loss: 0.0057 - val_loss: 0.0062\n",
      "Epoch 10/100\n",
      "1250/1250 [==============================] - 25s 20ms/step - loss: 0.0051 - val_loss: 0.0059\n",
      "Epoch 11/100\n",
      "1250/1250 [==============================] - 25s 20ms/step - loss: 0.0046 - val_loss: 0.0049\n",
      "Epoch 12/100\n",
      "1250/1250 [==============================] - 25s 20ms/step - loss: 0.0041 - val_loss: 0.0054\n",
      "Epoch 13/100\n",
      "1250/1250 [==============================] - 26s 21ms/step - loss: 0.0037 - val_loss: 0.0048\n",
      "Epoch 14/100\n",
      "1250/1250 [==============================] - 26s 21ms/step - loss: 0.0034 - val_loss: 0.0041\n",
      "Epoch 15/100\n",
      "1250/1250 [==============================] - 26s 21ms/step - loss: 0.0032 - val_loss: 0.0042\n",
      "Epoch 16/100\n",
      "1250/1250 [==============================] - 26s 21ms/step - loss: 0.0030 - val_loss: 0.0041\n",
      "Epoch 17/100\n",
      "1250/1250 [==============================] - 26s 21ms/step - loss: 0.0029 - val_loss: 0.0038\n",
      "Epoch 18/100\n",
      "1250/1250 [==============================] - 28s 22ms/step - loss: 0.0027 - val_loss: 0.0041\n",
      "Epoch 19/100\n",
      "1250/1250 [==============================] - 26s 21ms/step - loss: 0.0025 - val_loss: 0.0037\n",
      "Epoch 20/100\n",
      "1250/1250 [==============================] - 26s 20ms/step - loss: 0.0024 - val_loss: 0.0036\n",
      "Epoch 21/100\n",
      "1250/1250 [==============================] - 26s 21ms/step - loss: 0.0023 - val_loss: 0.0035\n",
      "Epoch 22/100\n",
      "1250/1250 [==============================] - 26s 20ms/step - loss: 0.0022 - val_loss: 0.0034\n",
      "Epoch 23/100\n",
      "1250/1250 [==============================] - 25s 20ms/step - loss: 0.0021 - val_loss: 0.0032\n",
      "Epoch 24/100\n",
      "1250/1250 [==============================] - 27s 22ms/step - loss: 0.0021 - val_loss: 0.0032\n",
      "Epoch 25/100\n",
      "1250/1250 [==============================] - 29s 23ms/step - loss: 0.0020 - val_loss: 0.0033\n",
      "Epoch 26/100\n",
      "1250/1250 [==============================] - 29s 23ms/step - loss: 0.0019 - val_loss: 0.0034\n",
      "Epoch 27/100\n",
      "1250/1250 [==============================] - 29s 23ms/step - loss: 0.0019 - val_loss: 0.0034\n",
      "Epoch 28/100\n",
      "1250/1250 [==============================] - 29s 23ms/step - loss: 0.0018 - val_loss: 0.0032\n",
      "Epoch 29/100\n",
      "1250/1250 [==============================] - 29s 23ms/step - loss: 0.0018 - val_loss: 0.0031\n",
      "Epoch 30/100\n",
      "1250/1250 [==============================] - 29s 23ms/step - loss: 0.0017 - val_loss: 0.0034\n",
      "Epoch 31/100\n",
      "1250/1250 [==============================] - 29s 23ms/step - loss: 0.0017 - val_loss: 0.0031\n",
      "Epoch 32/100\n",
      "1250/1250 [==============================] - 29s 23ms/step - loss: 0.0016 - val_loss: 0.0031\n",
      "Epoch 33/100\n",
      "1250/1250 [==============================] - 29s 23ms/step - loss: 0.0016 - val_loss: 0.0032\n",
      "Epoch 34/100\n",
      "1250/1250 [==============================] - 29s 23ms/step - loss: 0.0016 - val_loss: 0.0030\n",
      "Epoch 35/100\n",
      "1250/1250 [==============================] - 29s 23ms/step - loss: 0.0015 - val_loss: 0.0030\n",
      "Epoch 36/100\n",
      "1250/1250 [==============================] - 29s 23ms/step - loss: 0.0015 - val_loss: 0.0028\n",
      "Epoch 37/100\n",
      "1250/1250 [==============================] - 29s 23ms/step - loss: 0.0015 - val_loss: 0.0029\n",
      "Epoch 38/100\n",
      "1250/1250 [==============================] - 29s 23ms/step - loss: 0.0015 - val_loss: 0.0030\n",
      "Epoch 39/100\n",
      "1250/1250 [==============================] - 28s 23ms/step - loss: 0.0014 - val_loss: 0.0030\n",
      "Epoch 40/100\n",
      "1250/1250 [==============================] - 28s 23ms/step - loss: 0.0014 - val_loss: 0.0028\n",
      "Epoch 41/100\n",
      "1250/1250 [==============================] - 28s 23ms/step - loss: 0.0014 - val_loss: 0.0028\n",
      "Epoch 42/100\n",
      "1250/1250 [==============================] - 28s 23ms/step - loss: 0.0014 - val_loss: 0.0028\n",
      "Epoch 43/100\n",
      "1250/1250 [==============================] - 28s 23ms/step - loss: 0.0014 - val_loss: 0.0028\n",
      "Epoch 44/100\n",
      "1250/1250 [==============================] - 28s 23ms/step - loss: 0.0014 - val_loss: 0.0028\n",
      "Epoch 45/100\n",
      "1250/1250 [==============================] - 28s 23ms/step - loss: 0.0013 - val_loss: 0.0029\n",
      "Epoch 46/100\n",
      "1250/1250 [==============================] - 28s 23ms/step - loss: 0.0013 - val_loss: 0.0030\n",
      "Epoch 47/100\n",
      "1250/1250 [==============================] - 28s 23ms/step - loss: 0.0013 - val_loss: 0.0028\n",
      "Epoch 48/100\n",
      "1250/1250 [==============================] - 28s 23ms/step - loss: 0.0013 - val_loss: 0.0028\n",
      "Epoch 49/100\n",
      "1250/1250 [==============================] - 28s 23ms/step - loss: 0.0013 - val_loss: 0.0028\n",
      "Epoch 50/100\n",
      "1250/1250 [==============================] - 28s 23ms/step - loss: 0.0013 - val_loss: 0.0028\n",
      "Epoch 51/100\n",
      "1250/1250 [==============================] - 28s 23ms/step - loss: 0.0012 - val_loss: 0.0026\n",
      "Epoch 52/100\n",
      "1250/1250 [==============================] - 28s 23ms/step - loss: 0.0012 - val_loss: 0.0029\n",
      "Epoch 53/100\n",
      "1250/1250 [==============================] - 28s 23ms/step - loss: 0.0012 - val_loss: 0.0027\n",
      "Epoch 54/100\n",
      "1250/1250 [==============================] - 28s 23ms/step - loss: 0.0012 - val_loss: 0.0027\n",
      "Epoch 55/100\n",
      "1250/1250 [==============================] - 29s 23ms/step - loss: 0.0012 - val_loss: 0.0026\n",
      "Epoch 56/100\n",
      "1250/1250 [==============================] - 28s 23ms/step - loss: 0.0012 - val_loss: 0.0028\n",
      "Epoch 57/100\n",
      "1250/1250 [==============================] - 28s 23ms/step - loss: 0.0012 - val_loss: 0.0026\n",
      "Epoch 58/100\n",
      "1250/1250 [==============================] - 28s 23ms/step - loss: 0.0012 - val_loss: 0.0028\n",
      "Epoch 59/100\n",
      "1250/1250 [==============================] - 29s 23ms/step - loss: 0.0011 - val_loss: 0.0026\n",
      "Epoch 60/100\n",
      "1250/1250 [==============================] - 29s 23ms/step - loss: 0.0011 - val_loss: 0.0027\n",
      "Epoch 61/100\n",
      "1250/1250 [==============================] - 29s 23ms/step - loss: 0.0011 - val_loss: 0.0027\n",
      "Epoch 62/100\n",
      "1250/1250 [==============================] - 29s 23ms/step - loss: 0.0011 - val_loss: 0.0026\n",
      "Epoch 63/100\n",
      "1250/1250 [==============================] - 29s 23ms/step - loss: 0.0011 - val_loss: 0.0024\n",
      "Epoch 64/100\n",
      "1250/1250 [==============================] - 28s 23ms/step - loss: 0.0011 - val_loss: 0.0025\n",
      "Epoch 65/100\n",
      "1250/1250 [==============================] - 28s 23ms/step - loss: 0.0011 - val_loss: 0.0025\n",
      "Epoch 66/100\n",
      "1250/1250 [==============================] - 28s 23ms/step - loss: 0.0011 - val_loss: 0.0027\n",
      "Epoch 67/100\n",
      "1250/1250 [==============================] - 28s 23ms/step - loss: 0.0011 - val_loss: 0.0026\n",
      "Epoch 68/100\n",
      "1250/1250 [==============================] - 28s 23ms/step - loss: 0.0011 - val_loss: 0.0026\n",
      "Epoch 69/100\n",
      "1250/1250 [==============================] - 29s 23ms/step - loss: 0.0011 - val_loss: 0.0027\n",
      "Epoch 70/100\n",
      "1250/1250 [==============================] - 28s 22ms/step - loss: 0.0011 - val_loss: 0.0025\n",
      "Epoch 71/100\n",
      "1250/1250 [==============================] - 28s 22ms/step - loss: 0.0011 - val_loss: 0.0026\n",
      "Epoch 72/100\n",
      "1250/1250 [==============================] - 28s 23ms/step - loss: 0.0011 - val_loss: 0.0024\n",
      "Epoch 73/100\n",
      "1250/1250 [==============================] - 28s 23ms/step - loss: 0.0010 - val_loss: 0.0025\n",
      "Epoch 74/100\n",
      "1250/1250 [==============================] - 28s 23ms/step - loss: 0.0010 - val_loss: 0.0024\n",
      "Epoch 75/100\n",
      "1250/1250 [==============================] - 28s 23ms/step - loss: 0.0010 - val_loss: 0.0026\n",
      "Epoch 76/100\n",
      "1250/1250 [==============================] - 28s 23ms/step - loss: 0.0010 - val_loss: 0.0025\n",
      "Epoch 77/100\n",
      "1250/1250 [==============================] - 28s 23ms/step - loss: 0.0010 - val_loss: 0.0025\n",
      "Epoch 78/100\n"
     ]
    },
    {
     "name": "stdout",
     "output_type": "stream",
     "text": [
      "1250/1250 [==============================] - 28s 23ms/step - loss: 0.0010 - val_loss: 0.0024\n",
      "Epoch 79/100\n",
      "1250/1250 [==============================] - 29s 23ms/step - loss: 0.0010 - val_loss: 0.0024\n",
      "Epoch 80/100\n",
      "1250/1250 [==============================] - 28s 23ms/step - loss: 0.0010 - val_loss: 0.0024\n",
      "Epoch 81/100\n",
      "1250/1250 [==============================] - 28s 23ms/step - loss: 0.0010 - val_loss: 0.0025\n",
      "Epoch 82/100\n",
      "1250/1250 [==============================] - 28s 23ms/step - loss: 0.0010 - val_loss: 0.0024\n",
      "Epoch 83/100\n",
      "1250/1250 [==============================] - 28s 23ms/step - loss: 9.9721e-04 - val_loss: 0.0026\n",
      "Epoch 84/100\n",
      "1250/1250 [==============================] - 28s 23ms/step - loss: 9.9703e-04 - val_loss: 0.0024\n",
      "Epoch 85/100\n",
      "1250/1250 [==============================] - 28s 23ms/step - loss: 9.9584e-04 - val_loss: 0.0024\n",
      "Epoch 86/100\n",
      "1250/1250 [==============================] - 29s 23ms/step - loss: 9.7950e-04 - val_loss: 0.0024\n",
      "Epoch 87/100\n",
      "1250/1250 [==============================] - 29s 23ms/step - loss: 9.8714e-04 - val_loss: 0.0024\n",
      "Epoch 88/100\n",
      "1250/1250 [==============================] - 28s 23ms/step - loss: 9.7430e-04 - val_loss: 0.0025\n",
      "Epoch 89/100\n",
      "1250/1250 [==============================] - 28s 23ms/step - loss: 9.6716e-04 - val_loss: 0.0024\n",
      "Epoch 90/100\n",
      "1250/1250 [==============================] - 29s 23ms/step - loss: 9.7913e-04 - val_loss: 0.0023\n",
      "Epoch 91/100\n",
      "1250/1250 [==============================] - 29s 23ms/step - loss: 9.5242e-04 - val_loss: 0.0023\n",
      "Epoch 92/100\n",
      "1250/1250 [==============================] - 28s 23ms/step - loss: 9.5110e-04 - val_loss: 0.0024\n",
      "Epoch 93/100\n",
      "1250/1250 [==============================] - 28s 23ms/step - loss: 9.5360e-04 - val_loss: 0.0024\n",
      "Epoch 94/100\n",
      "1250/1250 [==============================] - 28s 23ms/step - loss: 9.5533e-04 - val_loss: 0.0025\n",
      "Epoch 95/100\n",
      "1250/1250 [==============================] - 28s 23ms/step - loss: 9.4212e-04 - val_loss: 0.0024\n",
      "Epoch 96/100\n",
      "1250/1250 [==============================] - 28s 23ms/step - loss: 9.5360e-04 - val_loss: 0.0024\n",
      "Epoch 97/100\n",
      "1250/1250 [==============================] - 29s 23ms/step - loss: 9.3595e-04 - val_loss: 0.0025\n",
      "Epoch 98/100\n",
      "1250/1250 [==============================] - 28s 23ms/step - loss: 9.3127e-04 - val_loss: 0.0023\n",
      "Epoch 99/100\n",
      "1250/1250 [==============================] - 29s 23ms/step - loss: 9.4822e-04 - val_loss: 0.0023\n",
      "Epoch 100/100\n",
      "1250/1250 [==============================] - 28s 23ms/step - loss: 9.3187e-04 - val_loss: 0.0025\n",
      "625/625 [==============================] - 6s 8ms/step\n",
      "Test RMSE: 170.12\n"
     ]
    }
   ],
   "source": [
    "import numpy as np\n",
    "import pandas as pd\n",
    "import tensorflow as tf\n",
    "from sklearn.preprocessing import MinMaxScaler\n",
    "\n",
    "# Load the data\n",
    "data = new_set[[\"Flow\"]]\n",
    "#data = data[['traffic_volume']]\n",
    "\n",
    "# Normalize the data\n",
    "scaler = MinMaxScaler()\n",
    "data = scaler.fit_transform(data)\n",
    "\n",
    "# Split the data into training and testing sets\n",
    "train_size = int(len(data) * 0.8)\n",
    "test_size = len(data) - train_size\n",
    "train_data, test_data = data[0:train_size,:], data[train_size:len(data),:]\n",
    "\n",
    "# Create sequences of data\n",
    "def create_sequences(data, seq_length):\n",
    "    x = []\n",
    "    y = []\n",
    "    for i in range(len(data)-seq_length-1):\n",
    "        x.append(data[i:(i+seq_length), 0])\n",
    "        y.append(data[i+seq_length, 0])\n",
    "    return np.array(x), np.array(y)\n",
    "\n",
    "seq_length = 30\n",
    "trainX, trainY = create_sequences(train_data, seq_length)\n",
    "testX, testY = create_sequences(test_data, seq_length)\n",
    "\n",
    "# Reshape the data for the LSTM model\n",
    "trainX = np.reshape(trainX, (trainX.shape[0], trainX.shape[1], 1))\n",
    "testX = np.reshape(testX, (testX.shape[0], testX.shape[1], 1))\n",
    "\n",
    "# Define the model architecture\n",
    "model = tf.keras.Sequential([\n",
    "    tf.keras.layers.LSTM(64, input_shape=(seq_length, 1)),\n",
    "    tf.keras.layers.Dense(1)\n",
    "])\n",
    "\n",
    "# Compile the model\n",
    "model.compile(loss='mean_squared_error', optimizer='adam')\n",
    "\n",
    "# Train the model\n",
    "history = model.fit(trainX, trainY, epochs=100, batch_size=64, validation_data=(testX, testY))\n",
    "\n",
    "# Make predictions on the test data\n",
    "testPredict = model.predict(testX)\n",
    "\n",
    "# Inverse transform the predictions and actual values\n",
    "testPredict = scaler.inverse_transform(testPredict)\n",
    "testY = scaler.inverse_transform([testY])\n",
    "\n",
    "# Calculate root mean squared error\n",
    "rmse = np.sqrt(np.mean((testPredict - testY) ** 2))\n",
    "print('Test RMSE: %.2f' % rmse)\n"
   ]
  },
  {
   "cell_type": "markdown",
   "metadata": {},
   "source": [
    "# chatGPT 2 features"
   ]
  },
  {
   "cell_type": "code",
   "execution_count": 38,
   "metadata": {},
   "outputs": [
    {
     "name": "stdout",
     "output_type": "stream",
     "text": [
      "2\n",
      "Epoch 1/50\n"
     ]
    },
    {
     "ename": "KeyboardInterrupt",
     "evalue": "",
     "output_type": "error",
     "traceback": [
      "\u001b[0;31m---------------------------------------------------------------------------\u001b[0m",
      "\u001b[0;31mKeyboardInterrupt\u001b[0m                         Traceback (most recent call last)",
      "Cell \u001b[0;32mIn [38], line 49\u001b[0m\n\u001b[1;32m     46\u001b[0m model\u001b[38;5;241m.\u001b[39mcompile(loss\u001b[38;5;241m=\u001b[39m\u001b[38;5;124m'\u001b[39m\u001b[38;5;124mmse\u001b[39m\u001b[38;5;124m'\u001b[39m, optimizer\u001b[38;5;241m=\u001b[39m\u001b[38;5;124m'\u001b[39m\u001b[38;5;124madam\u001b[39m\u001b[38;5;124m'\u001b[39m)\n\u001b[1;32m     48\u001b[0m \u001b[38;5;66;03m# Fit the model\u001b[39;00m\n\u001b[0;32m---> 49\u001b[0m history \u001b[38;5;241m=\u001b[39m \u001b[43mmodel\u001b[49m\u001b[38;5;241;43m.\u001b[39;49m\u001b[43mfit\u001b[49m\u001b[43m(\u001b[49m\u001b[43mtrainX\u001b[49m\u001b[43m,\u001b[49m\u001b[43m \u001b[49m\u001b[43mtrainY\u001b[49m\u001b[43m,\u001b[49m\u001b[43m \u001b[49m\u001b[43mepochs\u001b[49m\u001b[38;5;241;43m=\u001b[39;49m\u001b[38;5;241;43m50\u001b[39;49m\u001b[43m,\u001b[49m\u001b[43m \u001b[49m\u001b[43mbatch_size\u001b[49m\u001b[38;5;241;43m=\u001b[39;49m\u001b[38;5;241;43m72\u001b[39;49m\u001b[43m,\u001b[49m\u001b[43m \u001b[49m\u001b[43mvalidation_data\u001b[49m\u001b[38;5;241;43m=\u001b[39;49m\u001b[43m(\u001b[49m\u001b[43mtestX\u001b[49m\u001b[43m,\u001b[49m\u001b[43m \u001b[49m\u001b[43mtestY\u001b[49m\u001b[43m)\u001b[49m\u001b[43m,\u001b[49m\u001b[43m \u001b[49m\u001b[43mverbose\u001b[49m\u001b[38;5;241;43m=\u001b[39;49m\u001b[38;5;241;43m2\u001b[39;49m\u001b[43m,\u001b[49m\u001b[43m \u001b[49m\u001b[43mshuffle\u001b[49m\u001b[38;5;241;43m=\u001b[39;49m\u001b[38;5;28;43;01mFalse\u001b[39;49;00m\u001b[43m)\u001b[49m\n\u001b[1;32m     51\u001b[0m \u001b[38;5;66;03m# Make predictions on the test data\u001b[39;00m\n\u001b[1;32m     52\u001b[0m predictions \u001b[38;5;241m=\u001b[39m model\u001b[38;5;241m.\u001b[39mpredict(testX)\n",
      "File \u001b[0;32m/usr/local/lib/python3.8/dist-packages/keras/utils/traceback_utils.py:65\u001b[0m, in \u001b[0;36mfilter_traceback.<locals>.error_handler\u001b[0;34m(*args, **kwargs)\u001b[0m\n\u001b[1;32m     63\u001b[0m filtered_tb \u001b[38;5;241m=\u001b[39m \u001b[38;5;28;01mNone\u001b[39;00m\n\u001b[1;32m     64\u001b[0m \u001b[38;5;28;01mtry\u001b[39;00m:\n\u001b[0;32m---> 65\u001b[0m     \u001b[38;5;28;01mreturn\u001b[39;00m \u001b[43mfn\u001b[49m\u001b[43m(\u001b[49m\u001b[38;5;241;43m*\u001b[39;49m\u001b[43margs\u001b[49m\u001b[43m,\u001b[49m\u001b[43m \u001b[49m\u001b[38;5;241;43m*\u001b[39;49m\u001b[38;5;241;43m*\u001b[39;49m\u001b[43mkwargs\u001b[49m\u001b[43m)\u001b[49m\n\u001b[1;32m     66\u001b[0m \u001b[38;5;28;01mexcept\u001b[39;00m \u001b[38;5;167;01mException\u001b[39;00m \u001b[38;5;28;01mas\u001b[39;00m e:\n\u001b[1;32m     67\u001b[0m     filtered_tb \u001b[38;5;241m=\u001b[39m _process_traceback_frames(e\u001b[38;5;241m.\u001b[39m__traceback__)\n",
      "File \u001b[0;32m/usr/local/lib/python3.8/dist-packages/keras/engine/training.py:1650\u001b[0m, in \u001b[0;36mModel.fit\u001b[0;34m(self, x, y, batch_size, epochs, verbose, callbacks, validation_split, validation_data, shuffle, class_weight, sample_weight, initial_epoch, steps_per_epoch, validation_steps, validation_batch_size, validation_freq, max_queue_size, workers, use_multiprocessing)\u001b[0m\n\u001b[1;32m   1642\u001b[0m \u001b[38;5;28;01mwith\u001b[39;00m tf\u001b[38;5;241m.\u001b[39mprofiler\u001b[38;5;241m.\u001b[39mexperimental\u001b[38;5;241m.\u001b[39mTrace(\n\u001b[1;32m   1643\u001b[0m     \u001b[38;5;124m\"\u001b[39m\u001b[38;5;124mtrain\u001b[39m\u001b[38;5;124m\"\u001b[39m,\n\u001b[1;32m   1644\u001b[0m     epoch_num\u001b[38;5;241m=\u001b[39mepoch,\n\u001b[0;32m   (...)\u001b[0m\n\u001b[1;32m   1647\u001b[0m     _r\u001b[38;5;241m=\u001b[39m\u001b[38;5;241m1\u001b[39m,\n\u001b[1;32m   1648\u001b[0m ):\n\u001b[1;32m   1649\u001b[0m     callbacks\u001b[38;5;241m.\u001b[39mon_train_batch_begin(step)\n\u001b[0;32m-> 1650\u001b[0m     tmp_logs \u001b[38;5;241m=\u001b[39m \u001b[38;5;28;43mself\u001b[39;49m\u001b[38;5;241;43m.\u001b[39;49m\u001b[43mtrain_function\u001b[49m\u001b[43m(\u001b[49m\u001b[43miterator\u001b[49m\u001b[43m)\u001b[49m\n\u001b[1;32m   1651\u001b[0m     \u001b[38;5;28;01mif\u001b[39;00m data_handler\u001b[38;5;241m.\u001b[39mshould_sync:\n\u001b[1;32m   1652\u001b[0m         context\u001b[38;5;241m.\u001b[39masync_wait()\n",
      "File \u001b[0;32m/usr/local/lib/python3.8/dist-packages/tensorflow/python/util/traceback_utils.py:150\u001b[0m, in \u001b[0;36mfilter_traceback.<locals>.error_handler\u001b[0;34m(*args, **kwargs)\u001b[0m\n\u001b[1;32m    148\u001b[0m filtered_tb \u001b[38;5;241m=\u001b[39m \u001b[38;5;28;01mNone\u001b[39;00m\n\u001b[1;32m    149\u001b[0m \u001b[38;5;28;01mtry\u001b[39;00m:\n\u001b[0;32m--> 150\u001b[0m   \u001b[38;5;28;01mreturn\u001b[39;00m \u001b[43mfn\u001b[49m\u001b[43m(\u001b[49m\u001b[38;5;241;43m*\u001b[39;49m\u001b[43margs\u001b[49m\u001b[43m,\u001b[49m\u001b[43m \u001b[49m\u001b[38;5;241;43m*\u001b[39;49m\u001b[38;5;241;43m*\u001b[39;49m\u001b[43mkwargs\u001b[49m\u001b[43m)\u001b[49m\n\u001b[1;32m    151\u001b[0m \u001b[38;5;28;01mexcept\u001b[39;00m \u001b[38;5;167;01mException\u001b[39;00m \u001b[38;5;28;01mas\u001b[39;00m e:\n\u001b[1;32m    152\u001b[0m   filtered_tb \u001b[38;5;241m=\u001b[39m _process_traceback_frames(e\u001b[38;5;241m.\u001b[39m__traceback__)\n",
      "File \u001b[0;32m/usr/local/lib/python3.8/dist-packages/tensorflow/python/eager/polymorphic_function/polymorphic_function.py:880\u001b[0m, in \u001b[0;36mFunction.__call__\u001b[0;34m(self, *args, **kwds)\u001b[0m\n\u001b[1;32m    877\u001b[0m compiler \u001b[38;5;241m=\u001b[39m \u001b[38;5;124m\"\u001b[39m\u001b[38;5;124mxla\u001b[39m\u001b[38;5;124m\"\u001b[39m \u001b[38;5;28;01mif\u001b[39;00m \u001b[38;5;28mself\u001b[39m\u001b[38;5;241m.\u001b[39m_jit_compile \u001b[38;5;28;01melse\u001b[39;00m \u001b[38;5;124m\"\u001b[39m\u001b[38;5;124mnonXla\u001b[39m\u001b[38;5;124m\"\u001b[39m\n\u001b[1;32m    879\u001b[0m \u001b[38;5;28;01mwith\u001b[39;00m OptionalXlaContext(\u001b[38;5;28mself\u001b[39m\u001b[38;5;241m.\u001b[39m_jit_compile):\n\u001b[0;32m--> 880\u001b[0m   result \u001b[38;5;241m=\u001b[39m \u001b[38;5;28;43mself\u001b[39;49m\u001b[38;5;241;43m.\u001b[39;49m\u001b[43m_call\u001b[49m\u001b[43m(\u001b[49m\u001b[38;5;241;43m*\u001b[39;49m\u001b[43margs\u001b[49m\u001b[43m,\u001b[49m\u001b[43m \u001b[49m\u001b[38;5;241;43m*\u001b[39;49m\u001b[38;5;241;43m*\u001b[39;49m\u001b[43mkwds\u001b[49m\u001b[43m)\u001b[49m\n\u001b[1;32m    882\u001b[0m new_tracing_count \u001b[38;5;241m=\u001b[39m \u001b[38;5;28mself\u001b[39m\u001b[38;5;241m.\u001b[39mexperimental_get_tracing_count()\n\u001b[1;32m    883\u001b[0m without_tracing \u001b[38;5;241m=\u001b[39m (tracing_count \u001b[38;5;241m==\u001b[39m new_tracing_count)\n",
      "File \u001b[0;32m/usr/local/lib/python3.8/dist-packages/tensorflow/python/eager/polymorphic_function/polymorphic_function.py:912\u001b[0m, in \u001b[0;36mFunction._call\u001b[0;34m(self, *args, **kwds)\u001b[0m\n\u001b[1;32m    909\u001b[0m   \u001b[38;5;28mself\u001b[39m\u001b[38;5;241m.\u001b[39m_lock\u001b[38;5;241m.\u001b[39mrelease()\n\u001b[1;32m    910\u001b[0m   \u001b[38;5;66;03m# In this case we have created variables on the first call, so we run the\u001b[39;00m\n\u001b[1;32m    911\u001b[0m   \u001b[38;5;66;03m# defunned version which is guaranteed to never create variables.\u001b[39;00m\n\u001b[0;32m--> 912\u001b[0m   \u001b[38;5;28;01mreturn\u001b[39;00m \u001b[38;5;28;43mself\u001b[39;49m\u001b[38;5;241;43m.\u001b[39;49m\u001b[43m_no_variable_creation_fn\u001b[49m\u001b[43m(\u001b[49m\u001b[38;5;241;43m*\u001b[39;49m\u001b[43margs\u001b[49m\u001b[43m,\u001b[49m\u001b[43m \u001b[49m\u001b[38;5;241;43m*\u001b[39;49m\u001b[38;5;241;43m*\u001b[39;49m\u001b[43mkwds\u001b[49m\u001b[43m)\u001b[49m  \u001b[38;5;66;03m# pylint: disable=not-callable\u001b[39;00m\n\u001b[1;32m    913\u001b[0m \u001b[38;5;28;01melif\u001b[39;00m \u001b[38;5;28mself\u001b[39m\u001b[38;5;241m.\u001b[39m_variable_creation_fn \u001b[38;5;129;01mis\u001b[39;00m \u001b[38;5;129;01mnot\u001b[39;00m \u001b[38;5;28;01mNone\u001b[39;00m:\n\u001b[1;32m    914\u001b[0m   \u001b[38;5;66;03m# Release the lock early so that multiple threads can perform the call\u001b[39;00m\n\u001b[1;32m    915\u001b[0m   \u001b[38;5;66;03m# in parallel.\u001b[39;00m\n\u001b[1;32m    916\u001b[0m   \u001b[38;5;28mself\u001b[39m\u001b[38;5;241m.\u001b[39m_lock\u001b[38;5;241m.\u001b[39mrelease()\n",
      "File \u001b[0;32m/usr/local/lib/python3.8/dist-packages/tensorflow/python/eager/polymorphic_function/tracing_compiler.py:134\u001b[0m, in \u001b[0;36mTracingCompiler.__call__\u001b[0;34m(self, *args, **kwargs)\u001b[0m\n\u001b[1;32m    131\u001b[0m \u001b[38;5;28;01mwith\u001b[39;00m \u001b[38;5;28mself\u001b[39m\u001b[38;5;241m.\u001b[39m_lock:\n\u001b[1;32m    132\u001b[0m   (concrete_function,\n\u001b[1;32m    133\u001b[0m    filtered_flat_args) \u001b[38;5;241m=\u001b[39m \u001b[38;5;28mself\u001b[39m\u001b[38;5;241m.\u001b[39m_maybe_define_function(args, kwargs)\n\u001b[0;32m--> 134\u001b[0m \u001b[38;5;28;01mreturn\u001b[39;00m \u001b[43mconcrete_function\u001b[49m\u001b[38;5;241;43m.\u001b[39;49m\u001b[43m_call_flat\u001b[49m\u001b[43m(\u001b[49m\n\u001b[1;32m    135\u001b[0m \u001b[43m    \u001b[49m\u001b[43mfiltered_flat_args\u001b[49m\u001b[43m,\u001b[49m\u001b[43m \u001b[49m\u001b[43mcaptured_inputs\u001b[49m\u001b[38;5;241;43m=\u001b[39;49m\u001b[43mconcrete_function\u001b[49m\u001b[38;5;241;43m.\u001b[39;49m\u001b[43mcaptured_inputs\u001b[49m\u001b[43m)\u001b[49m\n",
      "File \u001b[0;32m/usr/local/lib/python3.8/dist-packages/tensorflow/python/eager/polymorphic_function/monomorphic_function.py:1745\u001b[0m, in \u001b[0;36mConcreteFunction._call_flat\u001b[0;34m(self, args, captured_inputs, cancellation_manager)\u001b[0m\n\u001b[1;32m   1741\u001b[0m possible_gradient_type \u001b[38;5;241m=\u001b[39m gradients_util\u001b[38;5;241m.\u001b[39mPossibleTapeGradientTypes(args)\n\u001b[1;32m   1742\u001b[0m \u001b[38;5;28;01mif\u001b[39;00m (possible_gradient_type \u001b[38;5;241m==\u001b[39m gradients_util\u001b[38;5;241m.\u001b[39mPOSSIBLE_GRADIENT_TYPES_NONE\n\u001b[1;32m   1743\u001b[0m     \u001b[38;5;129;01mand\u001b[39;00m executing_eagerly):\n\u001b[1;32m   1744\u001b[0m   \u001b[38;5;66;03m# No tape is watching; skip to running the function.\u001b[39;00m\n\u001b[0;32m-> 1745\u001b[0m   \u001b[38;5;28;01mreturn\u001b[39;00m \u001b[38;5;28mself\u001b[39m\u001b[38;5;241m.\u001b[39m_build_call_outputs(\u001b[38;5;28;43mself\u001b[39;49m\u001b[38;5;241;43m.\u001b[39;49m\u001b[43m_inference_function\u001b[49m\u001b[38;5;241;43m.\u001b[39;49m\u001b[43mcall\u001b[49m\u001b[43m(\u001b[49m\n\u001b[1;32m   1746\u001b[0m \u001b[43m      \u001b[49m\u001b[43mctx\u001b[49m\u001b[43m,\u001b[49m\u001b[43m \u001b[49m\u001b[43margs\u001b[49m\u001b[43m,\u001b[49m\u001b[43m \u001b[49m\u001b[43mcancellation_manager\u001b[49m\u001b[38;5;241;43m=\u001b[39;49m\u001b[43mcancellation_manager\u001b[49m\u001b[43m)\u001b[49m)\n\u001b[1;32m   1747\u001b[0m forward_backward \u001b[38;5;241m=\u001b[39m \u001b[38;5;28mself\u001b[39m\u001b[38;5;241m.\u001b[39m_select_forward_and_backward_functions(\n\u001b[1;32m   1748\u001b[0m     args,\n\u001b[1;32m   1749\u001b[0m     possible_gradient_type,\n\u001b[1;32m   1750\u001b[0m     executing_eagerly)\n\u001b[1;32m   1751\u001b[0m forward_function, args_with_tangents \u001b[38;5;241m=\u001b[39m forward_backward\u001b[38;5;241m.\u001b[39mforward()\n",
      "File \u001b[0;32m/usr/local/lib/python3.8/dist-packages/tensorflow/python/eager/polymorphic_function/monomorphic_function.py:378\u001b[0m, in \u001b[0;36m_EagerDefinedFunction.call\u001b[0;34m(self, ctx, args, cancellation_manager)\u001b[0m\n\u001b[1;32m    376\u001b[0m \u001b[38;5;28;01mwith\u001b[39;00m _InterpolateFunctionError(\u001b[38;5;28mself\u001b[39m):\n\u001b[1;32m    377\u001b[0m   \u001b[38;5;28;01mif\u001b[39;00m cancellation_manager \u001b[38;5;129;01mis\u001b[39;00m \u001b[38;5;28;01mNone\u001b[39;00m:\n\u001b[0;32m--> 378\u001b[0m     outputs \u001b[38;5;241m=\u001b[39m \u001b[43mexecute\u001b[49m\u001b[38;5;241;43m.\u001b[39;49m\u001b[43mexecute\u001b[49m\u001b[43m(\u001b[49m\n\u001b[1;32m    379\u001b[0m \u001b[43m        \u001b[49m\u001b[38;5;28;43mstr\u001b[39;49m\u001b[43m(\u001b[49m\u001b[38;5;28;43mself\u001b[39;49m\u001b[38;5;241;43m.\u001b[39;49m\u001b[43msignature\u001b[49m\u001b[38;5;241;43m.\u001b[39;49m\u001b[43mname\u001b[49m\u001b[43m)\u001b[49m\u001b[43m,\u001b[49m\n\u001b[1;32m    380\u001b[0m \u001b[43m        \u001b[49m\u001b[43mnum_outputs\u001b[49m\u001b[38;5;241;43m=\u001b[39;49m\u001b[38;5;28;43mself\u001b[39;49m\u001b[38;5;241;43m.\u001b[39;49m\u001b[43m_num_outputs\u001b[49m\u001b[43m,\u001b[49m\n\u001b[1;32m    381\u001b[0m \u001b[43m        \u001b[49m\u001b[43minputs\u001b[49m\u001b[38;5;241;43m=\u001b[39;49m\u001b[43margs\u001b[49m\u001b[43m,\u001b[49m\n\u001b[1;32m    382\u001b[0m \u001b[43m        \u001b[49m\u001b[43mattrs\u001b[49m\u001b[38;5;241;43m=\u001b[39;49m\u001b[43mattrs\u001b[49m\u001b[43m,\u001b[49m\n\u001b[1;32m    383\u001b[0m \u001b[43m        \u001b[49m\u001b[43mctx\u001b[49m\u001b[38;5;241;43m=\u001b[39;49m\u001b[43mctx\u001b[49m\u001b[43m)\u001b[49m\n\u001b[1;32m    384\u001b[0m   \u001b[38;5;28;01melse\u001b[39;00m:\n\u001b[1;32m    385\u001b[0m     outputs \u001b[38;5;241m=\u001b[39m execute\u001b[38;5;241m.\u001b[39mexecute_with_cancellation(\n\u001b[1;32m    386\u001b[0m         \u001b[38;5;28mstr\u001b[39m(\u001b[38;5;28mself\u001b[39m\u001b[38;5;241m.\u001b[39msignature\u001b[38;5;241m.\u001b[39mname),\n\u001b[1;32m    387\u001b[0m         num_outputs\u001b[38;5;241m=\u001b[39m\u001b[38;5;28mself\u001b[39m\u001b[38;5;241m.\u001b[39m_num_outputs,\n\u001b[0;32m   (...)\u001b[0m\n\u001b[1;32m    390\u001b[0m         ctx\u001b[38;5;241m=\u001b[39mctx,\n\u001b[1;32m    391\u001b[0m         cancellation_manager\u001b[38;5;241m=\u001b[39mcancellation_manager)\n",
      "File \u001b[0;32m/usr/local/lib/python3.8/dist-packages/tensorflow/python/eager/execute.py:52\u001b[0m, in \u001b[0;36mquick_execute\u001b[0;34m(op_name, num_outputs, inputs, attrs, ctx, name)\u001b[0m\n\u001b[1;32m     50\u001b[0m \u001b[38;5;28;01mtry\u001b[39;00m:\n\u001b[1;32m     51\u001b[0m   ctx\u001b[38;5;241m.\u001b[39mensure_initialized()\n\u001b[0;32m---> 52\u001b[0m   tensors \u001b[38;5;241m=\u001b[39m \u001b[43mpywrap_tfe\u001b[49m\u001b[38;5;241;43m.\u001b[39;49m\u001b[43mTFE_Py_Execute\u001b[49m\u001b[43m(\u001b[49m\u001b[43mctx\u001b[49m\u001b[38;5;241;43m.\u001b[39;49m\u001b[43m_handle\u001b[49m\u001b[43m,\u001b[49m\u001b[43m \u001b[49m\u001b[43mdevice_name\u001b[49m\u001b[43m,\u001b[49m\u001b[43m \u001b[49m\u001b[43mop_name\u001b[49m\u001b[43m,\u001b[49m\n\u001b[1;32m     53\u001b[0m \u001b[43m                                      \u001b[49m\u001b[43minputs\u001b[49m\u001b[43m,\u001b[49m\u001b[43m \u001b[49m\u001b[43mattrs\u001b[49m\u001b[43m,\u001b[49m\u001b[43m \u001b[49m\u001b[43mnum_outputs\u001b[49m\u001b[43m)\u001b[49m\n\u001b[1;32m     54\u001b[0m \u001b[38;5;28;01mexcept\u001b[39;00m core\u001b[38;5;241m.\u001b[39m_NotOkStatusException \u001b[38;5;28;01mas\u001b[39;00m e:\n\u001b[1;32m     55\u001b[0m   \u001b[38;5;28;01mif\u001b[39;00m name \u001b[38;5;129;01mis\u001b[39;00m \u001b[38;5;129;01mnot\u001b[39;00m \u001b[38;5;28;01mNone\u001b[39;00m:\n",
      "\u001b[0;31mKeyboardInterrupt\u001b[0m: "
     ]
    }
   ],
   "source": [
    "import numpy as np\n",
    "import pandas as pd\n",
    "import numpy as np\n",
    "import pandas as pd\n",
    "import tensorflow as tf\n",
    "from sklearn.preprocessing import MinMaxScaler\n",
    "from sklearn.metrics import mean_squared_error\n",
    "import matplotlib.pyplot as plt\n",
    "\n",
    "# Load the data\n",
    "data = pd.read_csv('data/PMS_data.csv',nrows=100000)\n",
    "\n",
    "# Extract the features you want to use\n",
    "data = data[['Flow', 'Occupy']]\n",
    "\n",
    "# Normalize the data\n",
    "scaler = MinMaxScaler()\n",
    "data_scaled = scaler.fit_transform(data)\n",
    "\n",
    "# Split the data into training and testing sets\n",
    "train_size = int(len(data_scaled) * 0.8)\n",
    "train_data, test_data = data_scaled[0:train_size], data_scaled[train_size:]\n",
    "print(train_data.shape[1])\n",
    "\n",
    "def create_sequences(data, seq_length):\n",
    "    x = []\n",
    "    y = []\n",
    "    for i in range(len(data)-seq_length-1):\n",
    "        # Extract two features (traffic volume and temperature)\n",
    "        feature1 = data[i:(i+seq_length), 0]\n",
    "        feature2 = data[i:(i+seq_length), 1]\n",
    "        x.append(np.column_stack((feature1, feature2)))\n",
    "        y.append(data[i+seq_length, 0])\n",
    "    return np.array(x), np.array(y)\n",
    "seq_length = 30\n",
    "trainX, trainY = create_sequences(train_data, seq_length)\n",
    "testX, testY = create_sequences(test_data, seq_length)\n",
    "\n",
    "# Define the LSTM model\n",
    "model = tf.keras.Sequential([\n",
    "    tf.keras.layers.LSTM(50, input_shape=(trainX.shape[1], trainX.shape[2])),\n",
    "    tf.keras.layers.Dense(1)\n",
    "])\n",
    "\n",
    "# Compile the model\n",
    "model.compile(loss='mse', optimizer='adam')\n",
    "\n",
    "# Fit the model\n",
    "history = model.fit(trainX, trainY, epochs=50, batch_size=72, validation_data=(testX, testY), verbose=2, shuffle=False)\n"
   ]
  },
  {
   "cell_type": "code",
   "execution_count": 61,
   "metadata": {},
   "outputs": [
    {
     "name": "stdout",
     "output_type": "stream",
     "text": [
      "625/625 [==============================] - 5s 7ms/step\n",
      "(100000, 2)\n"
     ]
    },
    {
     "ename": "ValueError",
     "evalue": "Found input variables with inconsistent numbers of samples: [99999, 19969]",
     "output_type": "error",
     "traceback": [
      "\u001b[0;31m---------------------------------------------------------------------------\u001b[0m",
      "\u001b[0;31mValueError\u001b[0m                                Traceback (most recent call last)",
      "Cell \u001b[0;32mIn [61], line 8\u001b[0m\n\u001b[1;32m      6\u001b[0m \u001b[38;5;66;03m# Calculate root mean squared error\u001b[39;00m\n\u001b[1;32m      7\u001b[0m \u001b[38;5;28mprint\u001b[39m(data\u001b[38;5;241m.\u001b[39mshape)\n\u001b[0;32m----> 8\u001b[0m rmse \u001b[38;5;241m=\u001b[39m np\u001b[38;5;241m.\u001b[39msqrt(\u001b[43mmean_squared_error\u001b[49m\u001b[43m(\u001b[49m\u001b[43mdata\u001b[49m\u001b[43m[\u001b[49m\u001b[38;5;124;43m\"\u001b[39;49m\u001b[38;5;124;43mFlow\u001b[39;49m\u001b[38;5;124;43m\"\u001b[39;49m\u001b[43m]\u001b[49m\u001b[43m[\u001b[49m\u001b[38;5;241;43m1\u001b[39;49m\u001b[43m:\u001b[49m\u001b[43m]\u001b[49m\u001b[43m,\u001b[49m\u001b[43m \u001b[49m\u001b[43mpredictions\u001b[49m\u001b[43m[\u001b[49m\u001b[43m:\u001b[49m\u001b[43m,\u001b[49m\u001b[38;5;241;43m0\u001b[39;49m\u001b[43m]\u001b[49m\u001b[43m)\u001b[49m)\n\u001b[1;32m      9\u001b[0m \u001b[38;5;28mprint\u001b[39m(\u001b[38;5;124m'\u001b[39m\u001b[38;5;124mTest RMSE: \u001b[39m\u001b[38;5;132;01m%.2f\u001b[39;00m\u001b[38;5;124m'\u001b[39m \u001b[38;5;241m%\u001b[39m rmse)\n\u001b[1;32m     11\u001b[0m \u001b[38;5;66;03m# Plot the predictions and actual values\u001b[39;00m\n",
      "File \u001b[0;32m/usr/local/lib/python3.8/dist-packages/sklearn/metrics/_regression.py:442\u001b[0m, in \u001b[0;36mmean_squared_error\u001b[0;34m(y_true, y_pred, sample_weight, multioutput, squared)\u001b[0m\n\u001b[1;32m    382\u001b[0m \u001b[38;5;28;01mdef\u001b[39;00m \u001b[38;5;21mmean_squared_error\u001b[39m(\n\u001b[1;32m    383\u001b[0m     y_true, y_pred, \u001b[38;5;241m*\u001b[39m, sample_weight\u001b[38;5;241m=\u001b[39m\u001b[38;5;28;01mNone\u001b[39;00m, multioutput\u001b[38;5;241m=\u001b[39m\u001b[38;5;124m\"\u001b[39m\u001b[38;5;124muniform_average\u001b[39m\u001b[38;5;124m\"\u001b[39m, squared\u001b[38;5;241m=\u001b[39m\u001b[38;5;28;01mTrue\u001b[39;00m\n\u001b[1;32m    384\u001b[0m ):\n\u001b[1;32m    385\u001b[0m     \u001b[38;5;124;03m\"\"\"Mean squared error regression loss.\u001b[39;00m\n\u001b[1;32m    386\u001b[0m \n\u001b[1;32m    387\u001b[0m \u001b[38;5;124;03m    Read more in the :ref:`User Guide <mean_squared_error>`.\u001b[39;00m\n\u001b[0;32m   (...)\u001b[0m\n\u001b[1;32m    440\u001b[0m \u001b[38;5;124;03m    0.825...\u001b[39;00m\n\u001b[1;32m    441\u001b[0m \u001b[38;5;124;03m    \"\"\"\u001b[39;00m\n\u001b[0;32m--> 442\u001b[0m     y_type, y_true, y_pred, multioutput \u001b[38;5;241m=\u001b[39m \u001b[43m_check_reg_targets\u001b[49m\u001b[43m(\u001b[49m\n\u001b[1;32m    443\u001b[0m \u001b[43m        \u001b[49m\u001b[43my_true\u001b[49m\u001b[43m,\u001b[49m\u001b[43m \u001b[49m\u001b[43my_pred\u001b[49m\u001b[43m,\u001b[49m\u001b[43m \u001b[49m\u001b[43mmultioutput\u001b[49m\n\u001b[1;32m    444\u001b[0m \u001b[43m    \u001b[49m\u001b[43m)\u001b[49m\n\u001b[1;32m    445\u001b[0m     check_consistent_length(y_true, y_pred, sample_weight)\n\u001b[1;32m    446\u001b[0m     output_errors \u001b[38;5;241m=\u001b[39m np\u001b[38;5;241m.\u001b[39maverage((y_true \u001b[38;5;241m-\u001b[39m y_pred) \u001b[38;5;241m*\u001b[39m\u001b[38;5;241m*\u001b[39m \u001b[38;5;241m2\u001b[39m, axis\u001b[38;5;241m=\u001b[39m\u001b[38;5;241m0\u001b[39m, weights\u001b[38;5;241m=\u001b[39msample_weight)\n",
      "File \u001b[0;32m/usr/local/lib/python3.8/dist-packages/sklearn/metrics/_regression.py:100\u001b[0m, in \u001b[0;36m_check_reg_targets\u001b[0;34m(y_true, y_pred, multioutput, dtype)\u001b[0m\n\u001b[1;32m     66\u001b[0m \u001b[38;5;28;01mdef\u001b[39;00m \u001b[38;5;21m_check_reg_targets\u001b[39m(y_true, y_pred, multioutput, dtype\u001b[38;5;241m=\u001b[39m\u001b[38;5;124m\"\u001b[39m\u001b[38;5;124mnumeric\u001b[39m\u001b[38;5;124m\"\u001b[39m):\n\u001b[1;32m     67\u001b[0m     \u001b[38;5;124;03m\"\"\"Check that y_true and y_pred belong to the same regression task.\u001b[39;00m\n\u001b[1;32m     68\u001b[0m \n\u001b[1;32m     69\u001b[0m \u001b[38;5;124;03m    Parameters\u001b[39;00m\n\u001b[0;32m   (...)\u001b[0m\n\u001b[1;32m     98\u001b[0m \u001b[38;5;124;03m        correct keyword.\u001b[39;00m\n\u001b[1;32m     99\u001b[0m \u001b[38;5;124;03m    \"\"\"\u001b[39;00m\n\u001b[0;32m--> 100\u001b[0m     \u001b[43mcheck_consistent_length\u001b[49m\u001b[43m(\u001b[49m\u001b[43my_true\u001b[49m\u001b[43m,\u001b[49m\u001b[43m \u001b[49m\u001b[43my_pred\u001b[49m\u001b[43m)\u001b[49m\n\u001b[1;32m    101\u001b[0m     y_true \u001b[38;5;241m=\u001b[39m check_array(y_true, ensure_2d\u001b[38;5;241m=\u001b[39m\u001b[38;5;28;01mFalse\u001b[39;00m, dtype\u001b[38;5;241m=\u001b[39mdtype)\n\u001b[1;32m    102\u001b[0m     y_pred \u001b[38;5;241m=\u001b[39m check_array(y_pred, ensure_2d\u001b[38;5;241m=\u001b[39m\u001b[38;5;28;01mFalse\u001b[39;00m, dtype\u001b[38;5;241m=\u001b[39mdtype)\n",
      "File \u001b[0;32m/usr/local/lib/python3.8/dist-packages/sklearn/utils/validation.py:397\u001b[0m, in \u001b[0;36mcheck_consistent_length\u001b[0;34m(*arrays)\u001b[0m\n\u001b[1;32m    395\u001b[0m uniques \u001b[38;5;241m=\u001b[39m np\u001b[38;5;241m.\u001b[39munique(lengths)\n\u001b[1;32m    396\u001b[0m \u001b[38;5;28;01mif\u001b[39;00m \u001b[38;5;28mlen\u001b[39m(uniques) \u001b[38;5;241m>\u001b[39m \u001b[38;5;241m1\u001b[39m:\n\u001b[0;32m--> 397\u001b[0m     \u001b[38;5;28;01mraise\u001b[39;00m \u001b[38;5;167;01mValueError\u001b[39;00m(\n\u001b[1;32m    398\u001b[0m         \u001b[38;5;124m\"\u001b[39m\u001b[38;5;124mFound input variables with inconsistent numbers of samples: \u001b[39m\u001b[38;5;132;01m%r\u001b[39;00m\u001b[38;5;124m\"\u001b[39m\n\u001b[1;32m    399\u001b[0m         \u001b[38;5;241m%\u001b[39m [\u001b[38;5;28mint\u001b[39m(l) \u001b[38;5;28;01mfor\u001b[39;00m l \u001b[38;5;129;01min\u001b[39;00m lengths]\n\u001b[1;32m    400\u001b[0m     )\n",
      "\u001b[0;31mValueError\u001b[0m: Found input variables with inconsistent numbers of samples: [99999, 19969]"
     ]
    }
   ],
   "source": [
    "# Make predictions on the test data\n",
    "predictions = model.predict(testX)\n",
    "predictions = np.concatenate((predictions, testY.reshape(-1,1)), axis=1)\n",
    "predictions = scaler.inverse_transform(predictions)\n",
    "\n"
   ]
  },
  {
   "cell_type": "code",
   "execution_count": 71,
   "metadata": {},
   "outputs": [
    {
     "name": "stdout",
     "output_type": "stream",
     "text": [
      "(19969,)\n",
      "Test RMSE: 116.79\n"
     ]
    },
    {
     "data": {
      "image/png": "[encoded data removed]",
      "text/plain": [
       "<Figure size 640x480 with 1 Axes>"
      ]
     },
     "metadata": {},
     "output_type": "display_data"
    }
   ],
   "source": [
    "# Calculate root mean squared error\n",
    "print(data[data.shape[0]-len(predictions):][\"Flow\"].shape)\n",
    "rmse = np.sqrt(mean_squared_error(data[data.shape[0]-len(predictions):][\"Flow\"], predictions[:,0]))\n",
    "print('Test RMSE: %.2f' % rmse)\n",
    "\n",
    "# Plot the predictions and actual values\n",
    "plt.plot(data[data.shape[0]-len(predictions):][\"Flow\"], label='Actual')\n",
    "plt.plot(predictions[:, 0], label='Predicted')\n",
    "plt.legend()\n",
    "plt.show()"
   ]
  },
  {
   "cell_type": "code",
   "execution_count": 143,
   "metadata": {},
   "outputs": [
    {
     "name": "stdout",
     "output_type": "stream",
     "text": [
      "(1, 19969)\n",
      "(19969, 1)\n",
      "(19969, 1)\n"
     ]
    },
    {
     "data": {
      "text/plain": [
       "0.8769362474481817"
      ]
     },
     "execution_count": 143,
     "metadata": {},
     "output_type": "execute_result"
    }
   ],
   "source": [
    "testYshape=testY.reshape(19969,1)\n",
    "print(testY.shape)\n",
    "print(testYshape.shape)\n",
    "print(testPredict.shape)\n",
    "r2s = metrics.r2_score(y_true=testYshape,y_pred=testPredict)\n",
    "r2s"
   ]
  },
  {
   "cell_type": "code",
   "execution_count": 147,
   "metadata": {},
   "outputs": [
    {
     "data": {
      "image/png": "[encoded data removed]",
      "text/plain": [
       "<Figure size 1000x500 with 1 Axes>"
      ]
     },
     "metadata": {},
     "output_type": "display_data"
    }
   ],
   "source": [
    "plt.figure(figsize=(10,5))\n",
    "plt.plot(testYshape,color = 'red',label = 'Prediction')\n",
    "plt.plot(testPredict,color = 'blue',label = 'Actual')\n",
    "plt.legend()\n",
    "plt.xlim(10000,10100)\n",
    "plt.show()"
   ]
  },
  {
   "cell_type": "code",
   "execution_count": null,
   "metadata": {},
   "outputs": [],
   "source": []
  }
 ],
 "metadata": {
  "kernelspec": {
   "display_name": "Python 3",
   "language": "python",
   "name": "python3"
  },
  "language_info": {
   "codemirror_mode": {
    "name": "ipython",
    "version": 3
   },
   "file_extension": ".py",
   "mimetype": "text/x-python",
   "name": "python",
   "nbconvert_exporter": "python",
   "pygments_lexer": "ipython3",
   "version": "3.8.10"
  },
  "vscode": {
   "interpreter": {
    "hash": "e55666fbbf217aa3df372b978577f47b6009e2f78e2ec76a584f49cd54a1e62c"
   }
  }
 },
 "nbformat": 4,
 "nbformat_minor": 5
}
