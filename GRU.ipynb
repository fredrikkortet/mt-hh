{
 "cells": [
  {
   "cell_type": "markdown",
   "id": "0486996b",
   "metadata": {},
   "source": [
    "# GRU Model"
   ]
  },
  {
   "cell_type": "code",
   "execution_count": null,
   "id": "8d75989b",
   "metadata": {},
   "outputs": [
    {
     "name": "stderr",
     "output_type": "stream",
     "text": [
      "2023-02-20 14:10:49.994929: I tensorflow/core/platform/cpu_feature_guard.cc:193] This TensorFlow binary is optimized with oneAPI Deep Neural Network Library (oneDNN) to use the following CPU instructions in performance-critical operations:  AVX2 FMA\n",
      "To enable them in other operations, rebuild TensorFlow with the appropriate compiler flags.\n",
      "2023-02-20 14:10:50.712402: W tensorflow/compiler/xla/stream_executor/platform/default/dso_loader.cc:64] Could not load dynamic library 'libcudart.so.11.0'; dlerror: libcudart.so.11.0: cannot open shared object file: No such file or directory\n",
      "2023-02-20 14:10:50.712471: I tensorflow/compiler/xla/stream_executor/cuda/cudart_stub.cc:29] Ignore above cudart dlerror if you do not have a GPU set up on your machine.\n",
      "2023-02-20 14:10:52.474085: W tensorflow/compiler/xla/stream_executor/platform/default/dso_loader.cc:64] Could not load dynamic library 'libnvinfer.so.7'; dlerror: libnvinfer.so.7: cannot open shared object file: No such file or directory\n",
      "2023-02-20 14:10:52.474281: W tensorflow/compiler/xla/stream_executor/platform/default/dso_loader.cc:64] Could not load dynamic library 'libnvinfer_plugin.so.7'; dlerror: libnvinfer_plugin.so.7: cannot open shared object file: No such file or directory\n",
      "2023-02-20 14:10:52.474296: W tensorflow/compiler/tf2tensorrt/utils/py_utils.cc:38] TF-TRT Warning: Cannot dlopen some TensorRT libraries. If you would like to use Nvidia GPU with TensorRT, please make sure the missing libraries mentioned above are installed properly.\n"
     ]
    }
   ],
   "source": [
    "import pandas as pd \n",
    "from sklearn.model_selection  import train_test_split\n",
    "import numpy as np \n",
    "import matplotlib.pyplot as plt\n",
    "from pandas import DataFrame\n",
    "from sklearn.metrics import mean_squared_error\n",
    "from math import sqrt\n",
    "from pandas.plotting import lag_plot\n",
    "from sklearn import metrics\n",
    "import tensorflow as tf\n",
    "from tensorflow import keras\n",
    "from tensorflow.keras import layers"
   ]
  },
  {
   "cell_type": "markdown",
   "id": "2335b4e1",
   "metadata": {},
   "source": [
    "# Load and PreProcess "
   ]
  },
  {
   "cell_type": "code",
   "execution_count": null,
   "id": "00c111da-41e2-4b53-8ebb-b8c35c6579fb",
   "metadata": {},
   "outputs": [],
   "source": [
    "data = pd.read_csv('data/PMS_data.csv',nrows=100000)"
   ]
  },
  {
   "cell_type": "code",
   "execution_count": 3,
   "id": "8ec0faaf-50a1-498c-bf9f-56e2115feffa",
   "metadata": {},
   "outputs": [
    {
     "data": {
      "text/html": [
       "<div>\n",
       "<style scoped>\n",
       "    .dataframe tbody tr th:only-of-type {\n",
       "        vertical-align: middle;\n",
       "    }\n",
       "\n",
       "    .dataframe tbody tr th {\n",
       "        vertical-align: top;\n",
       "    }\n",
       "\n",
       "    .dataframe thead th {\n",
       "        text-align: right;\n",
       "    }\n",
       "</style>\n",
       "<table border=\"1\" class=\"dataframe\">\n",
       "  <thead>\n",
       "    <tr style=\"text-align: right;\">\n",
       "      <th></th>\n",
       "      <th>Flow</th>\n",
       "      <th>Occupy</th>\n",
       "      <th>Speed</th>\n",
       "    </tr>\n",
       "  </thead>\n",
       "  <tbody>\n",
       "    <tr>\n",
       "      <th>0</th>\n",
       "      <td>133.0</td>\n",
       "      <td>0.0603</td>\n",
       "      <td>65.8</td>\n",
       "    </tr>\n",
       "    <tr>\n",
       "      <th>1</th>\n",
       "      <td>210.0</td>\n",
       "      <td>0.0589</td>\n",
       "      <td>69.6</td>\n",
       "    </tr>\n",
       "    <tr>\n",
       "      <th>2</th>\n",
       "      <td>124.0</td>\n",
       "      <td>0.0358</td>\n",
       "      <td>65.8</td>\n",
       "    </tr>\n",
       "    <tr>\n",
       "      <th>3</th>\n",
       "      <td>145.0</td>\n",
       "      <td>0.0416</td>\n",
       "      <td>69.6</td>\n",
       "    </tr>\n",
       "    <tr>\n",
       "      <th>4</th>\n",
       "      <td>206.0</td>\n",
       "      <td>0.0493</td>\n",
       "      <td>69.4</td>\n",
       "    </tr>\n",
       "  </tbody>\n",
       "</table>\n",
       "</div>"
      ],
      "text/plain": [
       "    Flow  Occupy  Speed\n",
       "0  133.0  0.0603   65.8\n",
       "1  210.0  0.0589   69.6\n",
       "2  124.0  0.0358   65.8\n",
       "3  145.0  0.0416   69.6\n",
       "4  206.0  0.0493   69.4"
      ]
     },
     "execution_count": 3,
     "metadata": {},
     "output_type": "execute_result"
    }
   ],
   "source": [
    "data.head()"
   ]
  },
  {
   "cell_type": "code",
   "execution_count": 4,
   "id": "4960043f-3144-4e75-9936-519e675d32ee",
   "metadata": {},
   "outputs": [],
   "source": [
    "new_set = data[['Flow','Occupy']].copy()"
   ]
  },
  {
   "cell_type": "code",
   "execution_count": 5,
   "id": "a6960b6a-7bf4-48a4-8ca5-ea93845e0d9b",
   "metadata": {},
   "outputs": [
    {
     "data": {
      "text/html": [
       "<div>\n",
       "<style scoped>\n",
       "    .dataframe tbody tr th:only-of-type {\n",
       "        vertical-align: middle;\n",
       "    }\n",
       "\n",
       "    .dataframe tbody tr th {\n",
       "        vertical-align: top;\n",
       "    }\n",
       "\n",
       "    .dataframe thead th {\n",
       "        text-align: right;\n",
       "    }\n",
       "</style>\n",
       "<table border=\"1\" class=\"dataframe\">\n",
       "  <thead>\n",
       "    <tr style=\"text-align: right;\">\n",
       "      <th></th>\n",
       "      <th>Flow</th>\n",
       "      <th>Occupy</th>\n",
       "    </tr>\n",
       "  </thead>\n",
       "  <tbody>\n",
       "    <tr>\n",
       "      <th>0</th>\n",
       "      <td>133.0</td>\n",
       "      <td>0.0603</td>\n",
       "    </tr>\n",
       "    <tr>\n",
       "      <th>1</th>\n",
       "      <td>210.0</td>\n",
       "      <td>0.0589</td>\n",
       "    </tr>\n",
       "    <tr>\n",
       "      <th>2</th>\n",
       "      <td>124.0</td>\n",
       "      <td>0.0358</td>\n",
       "    </tr>\n",
       "    <tr>\n",
       "      <th>3</th>\n",
       "      <td>145.0</td>\n",
       "      <td>0.0416</td>\n",
       "    </tr>\n",
       "    <tr>\n",
       "      <th>4</th>\n",
       "      <td>206.0</td>\n",
       "      <td>0.0493</td>\n",
       "    </tr>\n",
       "  </tbody>\n",
       "</table>\n",
       "</div>"
      ],
      "text/plain": [
       "    Flow  Occupy\n",
       "0  133.0  0.0603\n",
       "1  210.0  0.0589\n",
       "2  124.0  0.0358\n",
       "3  145.0  0.0416\n",
       "4  206.0  0.0493"
      ]
     },
     "execution_count": 5,
     "metadata": {},
     "output_type": "execute_result"
    }
   ],
   "source": [
    "new_set.head()"
   ]
  },
  {
   "cell_type": "code",
   "execution_count": 6,
   "id": "65f37f7d-8451-4962-8b92-3ebb91292009",
   "metadata": {},
   "outputs": [
    {
     "data": {
      "text/html": [
       "<div>\n",
       "<style scoped>\n",
       "    .dataframe tbody tr th:only-of-type {\n",
       "        vertical-align: middle;\n",
       "    }\n",
       "\n",
       "    .dataframe tbody tr th {\n",
       "        vertical-align: top;\n",
       "    }\n",
       "\n",
       "    .dataframe thead th {\n",
       "        text-align: right;\n",
       "    }\n",
       "</style>\n",
       "<table border=\"1\" class=\"dataframe\">\n",
       "  <thead>\n",
       "    <tr style=\"text-align: right;\">\n",
       "      <th></th>\n",
       "      <th>Flow</th>\n",
       "      <th>Occupy</th>\n",
       "    </tr>\n",
       "  </thead>\n",
       "  <tbody>\n",
       "    <tr>\n",
       "      <th>0</th>\n",
       "      <td>133.0</td>\n",
       "      <td>0.0603</td>\n",
       "    </tr>\n",
       "    <tr>\n",
       "      <th>1</th>\n",
       "      <td>210.0</td>\n",
       "      <td>0.0589</td>\n",
       "    </tr>\n",
       "    <tr>\n",
       "      <th>2</th>\n",
       "      <td>124.0</td>\n",
       "      <td>0.0358</td>\n",
       "    </tr>\n",
       "    <tr>\n",
       "      <th>3</th>\n",
       "      <td>145.0</td>\n",
       "      <td>0.0416</td>\n",
       "    </tr>\n",
       "    <tr>\n",
       "      <th>4</th>\n",
       "      <td>206.0</td>\n",
       "      <td>0.0493</td>\n",
       "    </tr>\n",
       "  </tbody>\n",
       "</table>\n",
       "</div>"
      ],
      "text/plain": [
       "    Flow  Occupy\n",
       "0  133.0  0.0603\n",
       "1  210.0  0.0589\n",
       "2  124.0  0.0358\n",
       "3  145.0  0.0416\n",
       "4  206.0  0.0493"
      ]
     },
     "execution_count": 6,
     "metadata": {},
     "output_type": "execute_result"
    }
   ],
   "source": [
    "new_set['Flow'] = np.around(new_set['Flow'])\n",
    "new_set.head()"
   ]
  },
  {
   "cell_type": "code",
   "execution_count": 7,
   "id": "b7d163de-846f-44e7-87ba-d061980fe072",
   "metadata": {},
   "outputs": [],
   "source": [
    "new_set_plot = new_set.values"
   ]
  },
  {
   "cell_type": "code",
   "execution_count": 8,
   "id": "437dd40a-d553-4dfc-89b3-bba2b0d4eac8",
   "metadata": {},
   "outputs": [
    {
     "data": {
      "image/png": "[encoded data removed]",
      "text/plain": [
       "<Figure size 432x288 with 2 Axes>"
      ]
     },
     "metadata": {
      "needs_background": "light"
     },
     "output_type": "display_data"
    }
   ],
   "source": [
    "groups = [0, 1]\n",
    "i = 1\n",
    "plt.figure()\n",
    "for group in groups:\n",
    "    plt.subplot(len(groups), 1, i)\n",
    "    plt.plot(new_set_plot[:, group])\n",
    "    plt.title(new_set.columns[group], y=0.5, loc='right')\n",
    "    i += 1\n",
    "plt.show()"
   ]
  },
  {
   "cell_type": "code",
   "execution_count": 17,
   "id": "1c63f62e-1254-4937-bcea-b017d02b0235",
   "metadata": {},
   "outputs": [],
   "source": [
    "from sklearn.preprocessing import StandardScaler\n"
   ]
  },
  {
   "cell_type": "code",
   "execution_count": 18,
   "id": "3753756f-656b-4f2b-9805-34ca80bbcb58",
   "metadata": {},
   "outputs": [],
   "source": [
    "scaler = StandardScaler()"
   ]
  },
  {
   "cell_type": "code",
   "execution_count": 19,
   "id": "b11dd6bc-ee11-4a67-94cc-4ace8665aa81",
   "metadata": {},
   "outputs": [
    {
     "data": {
      "text/html": [
       "<div>\n",
       "<style scoped>\n",
       "    .dataframe tbody tr th:only-of-type {\n",
       "        vertical-align: middle;\n",
       "    }\n",
       "\n",
       "    .dataframe tbody tr th {\n",
       "        vertical-align: top;\n",
       "    }\n",
       "\n",
       "    .dataframe thead th {\n",
       "        text-align: right;\n",
       "    }\n",
       "</style>\n",
       "<table border=\"1\" class=\"dataframe\">\n",
       "  <thead>\n",
       "    <tr style=\"text-align: right;\">\n",
       "      <th></th>\n",
       "      <th>Flow</th>\n",
       "      <th>Occupy</th>\n",
       "    </tr>\n",
       "  </thead>\n",
       "  <tbody>\n",
       "    <tr>\n",
       "      <th>0</th>\n",
       "      <td>133.0</td>\n",
       "      <td>0.0603</td>\n",
       "    </tr>\n",
       "    <tr>\n",
       "      <th>1</th>\n",
       "      <td>210.0</td>\n",
       "      <td>0.0589</td>\n",
       "    </tr>\n",
       "    <tr>\n",
       "      <th>2</th>\n",
       "      <td>124.0</td>\n",
       "      <td>0.0358</td>\n",
       "    </tr>\n",
       "    <tr>\n",
       "      <th>3</th>\n",
       "      <td>145.0</td>\n",
       "      <td>0.0416</td>\n",
       "    </tr>\n",
       "    <tr>\n",
       "      <th>4</th>\n",
       "      <td>206.0</td>\n",
       "      <td>0.0493</td>\n",
       "    </tr>\n",
       "    <tr>\n",
       "      <th>...</th>\n",
       "      <td>...</td>\n",
       "      <td>...</td>\n",
       "    </tr>\n",
       "    <tr>\n",
       "      <th>99995</th>\n",
       "      <td>127.0</td>\n",
       "      <td>0.0326</td>\n",
       "    </tr>\n",
       "    <tr>\n",
       "      <th>99996</th>\n",
       "      <td>127.0</td>\n",
       "      <td>0.0227</td>\n",
       "    </tr>\n",
       "    <tr>\n",
       "      <th>99997</th>\n",
       "      <td>124.0</td>\n",
       "      <td>0.0402</td>\n",
       "    </tr>\n",
       "    <tr>\n",
       "      <th>99998</th>\n",
       "      <td>99.0</td>\n",
       "      <td>0.0248</td>\n",
       "    </tr>\n",
       "    <tr>\n",
       "      <th>99999</th>\n",
       "      <td>129.0</td>\n",
       "      <td>0.0264</td>\n",
       "    </tr>\n",
       "  </tbody>\n",
       "</table>\n",
       "<p>100000 rows × 2 columns</p>\n",
       "</div>"
      ],
      "text/plain": [
       "        Flow  Occupy\n",
       "0      133.0  0.0603\n",
       "1      210.0  0.0589\n",
       "2      124.0  0.0358\n",
       "3      145.0  0.0416\n",
       "4      206.0  0.0493\n",
       "...      ...     ...\n",
       "99995  127.0  0.0326\n",
       "99996  127.0  0.0227\n",
       "99997  124.0  0.0402\n",
       "99998   99.0  0.0248\n",
       "99999  129.0  0.0264\n",
       "\n",
       "[100000 rows x 2 columns]"
      ]
     },
     "execution_count": 19,
     "metadata": {},
     "output_type": "execute_result"
    }
   ],
   "source": [
    "new_set"
   ]
  },
  {
   "cell_type": "code",
   "execution_count": 20,
   "id": "7623eba7-c6b3-4252-8940-db96bcd5a33c",
   "metadata": {},
   "outputs": [],
   "source": [
    "from tensorflow.keras import Sequential\n",
    "from tensorflow.keras.layers import LSTM ,Dense , Dropout,Activation,Lambda, Bidirectional\n",
    "import tensorflow as tf"
   ]
  },
  {
   "cell_type": "code",
   "execution_count": 21,
   "id": "26be7986",
   "metadata": {},
   "outputs": [],
   "source": [
    "import numpy as np\n",
    "import pandas as pd\n",
    "import tensorflow as tf\n",
    "from sklearn.preprocessing import MinMaxScaler\n",
    "\n",
    "# Load the data\n",
    "data = new_set[[\"Flow\"]]\n",
    "#data = data[['traffic_volume']]\n",
    "\n",
    "# Normalize the data\n",
    "scaler = MinMaxScaler()\n",
    "data = scaler.fit_transform(data)\n",
    "\n",
    "# Split the data into training and testing sets\n",
    "train_size = int(len(data) * 0.8)\n",
    "test_size = len(data) - train_size\n",
    "train_data, test_data = data[0:train_size,:], data[train_size:len(data),:]\n",
    "\n",
    "# Create sequences of data\n",
    "def create_sequences(data, seq_length):\n",
    "    x = []\n",
    "    y = []\n",
    "    for i in range(len(data)-seq_length-1):\n",
    "        x.append(data[i:(i+seq_length), 0])\n",
    "        y.append(data[i+seq_length, 0])\n",
    "    return np.array(x), np.array(y)\n",
    "\n",
    "seq_length = 30\n",
    "trainX, trainY = create_sequences(train_data, seq_length)\n",
    "testX, testY = create_sequences(test_data, seq_length)\n",
    "\n",
    "# Reshape the data for the LSTM model\n",
    "trainX = np.reshape(trainX, (trainX.shape[0], trainX.shape[1], 1))\n",
    "testX = np.reshape(testX, (testX.shape[0], testX.shape[1], 1))\n",
    "\n"
   ]
  },
  {
   "cell_type": "code",
   "execution_count": 23,
   "id": "4816f664-4853-488e-94db-da4e6dfb7988",
   "metadata": {},
   "outputs": [],
   "source": [
    "\n",
    "# Define the model architecture\n",
    "model = tf.keras.Sequential([\n",
    "    tf.keras.layers.GRU(64, input_shape=(seq_length, 1)),\n",
    "    tf.keras.layers.Dense(1)\n",
    "])\n"
   ]
  },
  {
   "cell_type": "code",
   "execution_count": 24,
   "id": "a0b1835d-ead2-425f-a517-8515e9a5bf62",
   "metadata": {},
   "outputs": [
    {
     "name": "stdout",
     "output_type": "stream",
     "text": [
      "Epoch 1/50\n",
      "1250/1250 [==============================] - 19s 14ms/step - loss: 0.0167 - val_loss: 0.0148\n",
      "Epoch 2/50\n",
      "1250/1250 [==============================] - 17s 13ms/step - loss: 0.0159 - val_loss: 0.0143\n",
      "Epoch 3/50\n",
      "1250/1250 [==============================] - 17s 13ms/step - loss: 0.0149 - val_loss: 0.0132\n",
      "Epoch 4/50\n",
      "1250/1250 [==============================] - 17s 14ms/step - loss: 0.0122 - val_loss: 0.0117\n",
      "Epoch 5/50\n",
      "1250/1250 [==============================] - 17s 14ms/step - loss: 0.0095 - val_loss: 0.0091\n",
      "Epoch 6/50\n",
      "1250/1250 [==============================] - 16s 13ms/step - loss: 0.0074 - val_loss: 0.0082\n",
      "Epoch 7/50\n",
      "1250/1250 [==============================] - 18s 15ms/step - loss: 0.0061 - val_loss: 0.0069\n",
      "Epoch 8/50\n",
      "1250/1250 [==============================] - 19s 15ms/step - loss: 0.0052 - val_loss: 0.0056\n",
      "Epoch 9/50\n",
      "1250/1250 [==============================] - 19s 15ms/step - loss: 0.0046 - val_loss: 0.0053\n",
      "Epoch 10/50\n",
      "1250/1250 [==============================] - 19s 15ms/step - loss: 0.0041 - val_loss: 0.0046\n",
      "Epoch 11/50\n",
      "1250/1250 [==============================] - 17s 13ms/step - loss: 0.0037 - val_loss: 0.0043\n",
      "Epoch 12/50\n",
      "1250/1250 [==============================] - 18s 15ms/step - loss: 0.0033 - val_loss: 0.0042\n",
      "Epoch 13/50\n",
      "1250/1250 [==============================] - 17s 14ms/step - loss: 0.0030 - val_loss: 0.0038\n",
      "Epoch 14/50\n",
      "1250/1250 [==============================] - 17s 13ms/step - loss: 0.0028 - val_loss: 0.0039\n",
      "Epoch 15/50\n",
      "1250/1250 [==============================] - 17s 14ms/step - loss: 0.0026 - val_loss: 0.0036\n",
      "Epoch 16/50\n",
      "1250/1250 [==============================] - 18s 15ms/step - loss: 0.0024 - val_loss: 0.0036\n",
      "Epoch 17/50\n",
      "1250/1250 [==============================] - 18s 15ms/step - loss: 0.0023 - val_loss: 0.0035\n",
      "Epoch 18/50\n",
      "1250/1250 [==============================] - 18s 14ms/step - loss: 0.0022 - val_loss: 0.0035\n",
      "Epoch 19/50\n",
      "1250/1250 [==============================] - 18s 14ms/step - loss: 0.0021 - val_loss: 0.0033\n",
      "Epoch 20/50\n",
      "1250/1250 [==============================] - 18s 14ms/step - loss: 0.0020 - val_loss: 0.0032\n",
      "Epoch 21/50\n",
      "1250/1250 [==============================] - 19s 15ms/step - loss: 0.0019 - val_loss: 0.0033\n",
      "Epoch 22/50\n",
      "1250/1250 [==============================] - 18s 14ms/step - loss: 0.0019 - val_loss: 0.0031\n",
      "Epoch 23/50\n",
      "1250/1250 [==============================] - 18s 15ms/step - loss: 0.0018 - val_loss: 0.0033\n",
      "Epoch 24/50\n",
      "1250/1250 [==============================] - 18s 14ms/step - loss: 0.0017 - val_loss: 0.0029\n",
      "Epoch 25/50\n",
      "1250/1250 [==============================] - 18s 14ms/step - loss: 0.0017 - val_loss: 0.0030\n",
      "Epoch 26/50\n",
      "1250/1250 [==============================] - 17s 13ms/step - loss: 0.0016 - val_loss: 0.0030\n",
      "Epoch 27/50\n",
      "1250/1250 [==============================] - 18s 14ms/step - loss: 0.0016 - val_loss: 0.0029\n",
      "Epoch 28/50\n",
      "1250/1250 [==============================] - 18s 15ms/step - loss: 0.0016 - val_loss: 0.0027\n",
      "Epoch 29/50\n",
      "1250/1250 [==============================] - 17s 13ms/step - loss: 0.0015 - val_loss: 0.0029\n",
      "Epoch 30/50\n",
      "1250/1250 [==============================] - 16s 13ms/step - loss: 0.0015 - val_loss: 0.0027\n",
      "Epoch 31/50\n",
      "1250/1250 [==============================] - 16s 13ms/step - loss: 0.0015 - val_loss: 0.0027\n",
      "Epoch 32/50\n",
      "1250/1250 [==============================] - 16s 13ms/step - loss: 0.0014 - val_loss: 0.0028\n",
      "Epoch 33/50\n",
      "1250/1250 [==============================] - 16s 13ms/step - loss: 0.0014 - val_loss: 0.0029\n",
      "Epoch 34/50\n",
      "1250/1250 [==============================] - 16s 13ms/step - loss: 0.0014 - val_loss: 0.0027\n",
      "Epoch 35/50\n",
      "1250/1250 [==============================] - 17s 13ms/step - loss: 0.0014 - val_loss: 0.0027\n",
      "Epoch 36/50\n",
      "1250/1250 [==============================] - 17s 14ms/step - loss: 0.0013 - val_loss: 0.0027\n",
      "Epoch 37/50\n",
      "1250/1250 [==============================] - 16s 13ms/step - loss: 0.0013 - val_loss: 0.0025\n",
      "Epoch 38/50\n",
      "1250/1250 [==============================] - 17s 14ms/step - loss: 0.0013 - val_loss: 0.0026\n",
      "Epoch 39/50\n",
      "1250/1250 [==============================] - 17s 13ms/step - loss: 0.0013 - val_loss: 0.0025\n",
      "Epoch 40/50\n",
      "1250/1250 [==============================] - 16s 13ms/step - loss: 0.0013 - val_loss: 0.0027\n",
      "Epoch 41/50\n",
      "1250/1250 [==============================] - 16s 13ms/step - loss: 0.0013 - val_loss: 0.0025\n",
      "Epoch 42/50\n",
      "1250/1250 [==============================] - 18s 14ms/step - loss: 0.0012 - val_loss: 0.0025\n",
      "Epoch 43/50\n",
      "1250/1250 [==============================] - 18s 14ms/step - loss: 0.0012 - val_loss: 0.0026\n",
      "Epoch 44/50\n",
      "1250/1250 [==============================] - 17s 13ms/step - loss: 0.0012 - val_loss: 0.0023\n",
      "Epoch 45/50\n",
      "1250/1250 [==============================] - 17s 13ms/step - loss: 0.0012 - val_loss: 0.0026\n",
      "Epoch 46/50\n",
      "1250/1250 [==============================] - 17s 14ms/step - loss: 0.0012 - val_loss: 0.0025\n",
      "Epoch 47/50\n",
      "1250/1250 [==============================] - 17s 13ms/step - loss: 0.0012 - val_loss: 0.0025\n",
      "Epoch 48/50\n",
      "1250/1250 [==============================] - 18s 14ms/step - loss: 0.0012 - val_loss: 0.0024\n",
      "Epoch 49/50\n",
      "1250/1250 [==============================] - 17s 14ms/step - loss: 0.0011 - val_loss: 0.0027\n",
      "Epoch 50/50\n",
      "1250/1250 [==============================] - 16s 13ms/step - loss: 0.0011 - val_loss: 0.0025\n",
      "625/625 [==============================] - 3s 4ms/step\n"
     ]
    }
   ],
   "source": [
    "# Compile the model\n",
    "model.compile(loss='mean_squared_error', optimizer='adam')\n",
    "\n",
    "# Train the model\n",
    "history = model.fit(trainX, trainY, epochs=50, batch_size=64, validation_data=(testX, testY))\n",
    "\n",
    "# Make predictions on the test data\n",
    "testPredict = model.predict(testX)\n"
   ]
  },
  {
   "cell_type": "code",
   "execution_count": 25,
   "id": "69eef887-ff72-486c-8421-3d74e8742ce0",
   "metadata": {},
   "outputs": [
    {
     "name": "stdout",
     "output_type": "stream",
     "text": [
      "Test RMSE: 169.07\n"
     ]
    }
   ],
   "source": [
    "\n",
    "# Inverse transform the predictions and actual values\n",
    "testPredict = scaler.inverse_transform(testPredict)\n",
    "testY = scaler.inverse_transform([testY])\n",
    "\n",
    "# Calculate root mean squared error\n",
    "rmse = np.sqrt(np.mean((testPredict - testY) ** 2))\n",
    "print('Test RMSE: %.2f' % rmse)\n"
   ]
  },
  {
   "cell_type": "code",
   "execution_count": 26,
   "id": "ddb4935e-2df7-48d6-a12f-c7c39a9a8175",
   "metadata": {},
   "outputs": [
    {
     "name": "stdout",
     "output_type": "stream",
     "text": [
      "625/625 [==============================] - 3s 4ms/step\n"
     ]
    }
   ],
   "source": [
    "# Make predictions on the test data\n",
    "predictions = model.predict(testX)\n",
    "predictions = np.concatenate((predictions, testY.reshape(-1,1)), axis=1)\n",
    "predictions = scaler.inverse_transform(predictions)\n",
    "\n"
   ]
  },
  {
   "cell_type": "code",
   "execution_count": 27,
   "id": "759a2ca6",
   "metadata": {},
   "outputs": [
    {
     "name": "stdout",
     "output_type": "stream",
     "text": [
      "(1, 19969)\n",
      "(19969, 1)\n",
      "(19969, 1)\n"
     ]
    },
    {
     "data": {
      "text/plain": [
       "0.8772371605674288"
      ]
     },
     "execution_count": 27,
     "metadata": {},
     "output_type": "execute_result"
    }
   ],
   "source": [
    "testYshape=testY.reshape(19969,1)\n",
    "print(testY.shape)\n",
    "print(testYshape.shape)\n",
    "print(testPredict.shape)\n",
    "r2s = metrics.r2_score(y_true=testYshape,y_pred=testPredict)\n",
    "r2s"
   ]
  },
  {
   "cell_type": "code",
   "execution_count": 28,
   "id": "ed47dd51",
   "metadata": {},
   "outputs": [
    {
     "data": {
      "image/png": "[encoded data removed]",
      "text/plain": [
       "<Figure size 720x360 with 1 Axes>"
      ]
     },
     "metadata": {
      "needs_background": "light"
     },
     "output_type": "display_data"
    }
   ],
   "source": [
    "plt.figure(figsize=(10,5))\n",
    "plt.plot(testYshape,color = 'red',label = 'Prediction')\n",
    "plt.plot(testPredict,color = 'blue',label = 'Actual')\n",
    "plt.legend()\n",
    "plt.xlim(10000,10100)\n",
    "plt.show()"
   ]
  },
  {
   "cell_type": "code",
   "execution_count": null,
   "id": "7b3b2ac6",
   "metadata": {},
   "outputs": [],
   "source": []
  }
 ],
 "metadata": {
  "kernelspec": {
   "display_name": "Python 3 (ipykernel)",
   "language": "python",
   "name": "python3"
  },
  "language_info": {
   "codemirror_mode": {
    "name": "ipython",
    "version": 3
   },
   "file_extension": ".py",
   "mimetype": "text/x-python",
   "name": "python",
   "nbconvert_exporter": "python",
   "pygments_lexer": "ipython3",
   "version": "3.10.6"
  },
  "vscode": {
   "interpreter": {
    "hash": "e55666fbbf217aa3df372b978577f47b6009e2f78e2ec76a584f49cd54a1e62c"
   }
  }
 },
 "nbformat": 4,
 "nbformat_minor": 5
}
