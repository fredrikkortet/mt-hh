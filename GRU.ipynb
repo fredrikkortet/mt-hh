{
 "cells": [
  {
   "cell_type": "markdown",
   "id": "0486996b",
   "metadata": {},
   "source": [
    "# GRU Model"
   ]
  },
  {
   "cell_type": "code",
   "execution_count": 1,
   "id": "8d75989b",
   "metadata": {},
   "outputs": [],
   "source": [
    "import pandas as pd \n",
    "import numpy as np \n",
    "import matplotlib.pyplot as plt\n",
    "from math import sqrt\n",
    "import tensorflow as tf\n",
    "from tensorflow.keras import Sequential\n",
    "from tensorflow.keras.layers import GRU ,Dense\n",
    "from tensorflow.keras.utils import plot_model\n",
    "from sklearn.metrics import mean_squared_error, r2_score\n",
    "from sklearn.preprocessing import MinMaxScaler\n"
   ]
  },
  {
   "cell_type": "markdown",
   "id": "2335b4e1",
   "metadata": {},
   "source": [
    "# Load and PreProcess "
   ]
  },
  {
   "cell_type": "code",
   "execution_count": 2,
   "id": "00c111da-41e2-4b53-8ebb-b8c35c6579fb",
   "metadata": {},
   "outputs": [
    {
     "name": "stdout",
     "output_type": "stream",
     "text": [
      "(17856, 170, 3)\n"
     ]
    }
   ],
   "source": [
    "loaded = np.load('data/pems08.npz')\n",
    "sets = loaded.f.data\n",
    "print(sets.shape)"
   ]
  },
  {
   "cell_type": "code",
   "execution_count": 3,
   "id": "8ec0faaf-50a1-498c-bf9f-56e2115feffa",
   "metadata": {},
   "outputs": [],
   "source": [
    "def get_data(road, features):\n",
    "    datax = sets[:,0,:features]\n",
    "    if road <=170:\n",
    "        for k in range(1,road):\n",
    "            datax = np.concatenate((datax ,sets[:,k,:features]))\n",
    "    return datax"
   ]
  },
  {
   "cell_type": "code",
   "execution_count": 4,
   "id": "4960043f-3144-4e75-9936-519e675d32ee",
   "metadata": {},
   "outputs": [
    {
     "name": "stdout",
     "output_type": "stream",
     "text": [
      "(17856, 2)\n"
     ]
    }
   ],
   "source": [
    "dataOG = get_data(1,2)\n",
    "print(dataOG.shape)"
   ]
  },
  {
   "cell_type": "code",
   "execution_count": 5,
   "id": "a6960b6a-7bf4-48a4-8ca5-ea93845e0d9b",
   "metadata": {},
   "outputs": [],
   "source": [
    "# Load the data\n",
    "dataBefore = dataOG[:,0].reshape(-1,1)\n",
    "\n",
    "# Normalize the data\n",
    "scaler = MinMaxScaler()\n",
    "data = scaler.fit_transform(dataBefore)"
   ]
  },
  {
   "cell_type": "code",
   "execution_count": 6,
   "id": "0438fecc",
   "metadata": {},
   "outputs": [],
   "source": [
    "# Split the data into training and testing sets\n",
    "train_size = int(len(data) * 0.8)\n",
    "test_size = len(data) - train_size\n",
    "train_data, test_data = data[0:train_size,:], data[train_size:len(data),:]\n"
   ]
  },
  {
   "cell_type": "code",
   "execution_count": 7,
   "id": "65f37f7d-8451-4962-8b92-3ebb91292009",
   "metadata": {},
   "outputs": [],
   "source": [
    "# Create sequences of data\n",
    "def create_sequences(data, seq_length):\n",
    "    x = []\n",
    "    y = []\n",
    "    for i in range(len(data)-seq_length-1):\n",
    "        x.append(data[i:(i+seq_length), 0])\n",
    "        y.append(data[i+seq_length, 0])\n",
    "    return np.array(x), np.array(y)\n",
    "\n",
    "seq_length = 30\n",
    "trainX, trainY = create_sequences(train_data, seq_length)\n",
    "testX, testY = create_sequences(test_data, seq_length)\n",
    "\n",
    "# Reshape the data for the LSTM model\n",
    "trainX = np.reshape(trainX, (trainX.shape[0], trainX.shape[1], 1))\n",
    "testX = np.reshape(testX, (testX.shape[0], testX.shape[1], 1))\n"
   ]
  },
  {
   "cell_type": "markdown",
   "id": "c6284f6d",
   "metadata": {},
   "source": [
    "# 1 feature model"
   ]
  },
  {
   "cell_type": "code",
   "execution_count": 8,
   "id": "4816f664-4853-488e-94db-da4e6dfb7988",
   "metadata": {},
   "outputs": [],
   "source": [
    "\n",
    "# Define the model architecture\n",
    "model = Sequential([\n",
    "    GRU(64, input_shape=(seq_length, 1),return_sequences=True),\n",
    "    GRU(32, return_sequences=True),\n",
    "    GRU(64, return_sequences=False),\n",
    "    Dense(1)\n",
    "])\n",
    "# Compile the model\n",
    "model.compile(loss='mean_squared_error', optimizer='adam')\n"
   ]
  },
  {
   "cell_type": "markdown",
   "id": "f1af6ef0",
   "metadata": {},
   "source": [
    "# Train & predict"
   ]
  },
  {
   "cell_type": "code",
   "execution_count": 9,
   "id": "a0b1835d-ead2-425f-a517-8515e9a5bf62",
   "metadata": {},
   "outputs": [
    {
     "name": "stdout",
     "output_type": "stream",
     "text": [
      "Epoch 1/20\n",
      "223/223 [==============================] - 20s 56ms/step - loss: 0.0082 - val_loss: 0.0027\n",
      "Epoch 2/20\n",
      "223/223 [==============================] - 11s 48ms/step - loss: 0.0021 - val_loss: 0.0024\n",
      "Epoch 3/20\n",
      "223/223 [==============================] - 10s 45ms/step - loss: 0.0019 - val_loss: 0.0023\n",
      "Epoch 4/20\n",
      "223/223 [==============================] - 11s 48ms/step - loss: 0.0019 - val_loss: 0.0022\n",
      "Epoch 5/20\n",
      "223/223 [==============================] - 11s 48ms/step - loss: 0.0019 - val_loss: 0.0022\n",
      "Epoch 6/20\n",
      "223/223 [==============================] - 11s 49ms/step - loss: 0.0019 - val_loss: 0.0024\n",
      "Epoch 7/20\n",
      "223/223 [==============================] - 11s 50ms/step - loss: 0.0019 - val_loss: 0.0022\n",
      "Epoch 8/20\n",
      "223/223 [==============================] - 11s 48ms/step - loss: 0.0019 - val_loss: 0.0022\n",
      "Epoch 9/20\n",
      "223/223 [==============================] - 11s 49ms/step - loss: 0.0018 - val_loss: 0.0021\n",
      "Epoch 10/20\n",
      "223/223 [==============================] - 11s 47ms/step - loss: 0.0018 - val_loss: 0.0021\n",
      "Epoch 11/20\n",
      "223/223 [==============================] - 11s 48ms/step - loss: 0.0019 - val_loss: 0.0020\n",
      "Epoch 12/20\n",
      "223/223 [==============================] - 11s 49ms/step - loss: 0.0018 - val_loss: 0.0022\n",
      "Epoch 13/20\n",
      "223/223 [==============================] - 11s 50ms/step - loss: 0.0018 - val_loss: 0.0020\n",
      "Epoch 14/20\n",
      "223/223 [==============================] - 11s 50ms/step - loss: 0.0018 - val_loss: 0.0020\n",
      "Epoch 15/20\n",
      "223/223 [==============================] - 11s 51ms/step - loss: 0.0018 - val_loss: 0.0020\n",
      "Epoch 16/20\n",
      "223/223 [==============================] - 10s 46ms/step - loss: 0.0018 - val_loss: 0.0020\n",
      "Epoch 17/20\n",
      "223/223 [==============================] - 9s 42ms/step - loss: 0.0018 - val_loss: 0.0020\n",
      "Epoch 18/20\n",
      "223/223 [==============================] - 9s 42ms/step - loss: 0.0018 - val_loss: 0.0028\n",
      "Epoch 19/20\n",
      "223/223 [==============================] - 10s 44ms/step - loss: 0.0018 - val_loss: 0.0020\n",
      "Epoch 20/20\n",
      "223/223 [==============================] - 10s 43ms/step - loss: 0.0017 - val_loss: 0.0020\n",
      "111/111 [==============================] - 2s 10ms/step\n"
     ]
    }
   ],
   "source": [
    "# Train the model\n",
    "model.fit(trainX, trainY, epochs=20, batch_size=64, validation_data=(testX, testY))\n",
    "\n",
    "# Make predictions on the test data\n",
    "testPredict = model.predict(testX)\n"
   ]
  },
  {
   "cell_type": "markdown",
   "id": "5560bece",
   "metadata": {},
   "source": [
    "# Result"
   ]
  },
  {
   "cell_type": "code",
   "execution_count": 10,
   "id": "69eef887-ff72-486c-8421-3d74e8742ce0",
   "metadata": {
    "scrolled": true
   },
   "outputs": [
    {
     "name": "stdout",
     "output_type": "stream",
     "text": [
      "Test RMSE: 28.73\n",
      "Test R2: 0.96\n"
     ]
    }
   ],
   "source": [
    "# Inverse transform the predictions and actual values\n",
    "testPredict = scaler.inverse_transform(testPredict)\n",
    "testY = scaler.inverse_transform([testY])\n",
    "\n",
    "# Calculate root mean squared error\n",
    "rmse = sqrt(mean_squared_error(testY[0],testPredict.reshape(-1,1)))\n",
    "\n",
    "# Calculate R2 score\n",
    "testYshape=testY.reshape(len(testY[0]),1)\n",
    "r2s = r2_score(y_true=testYshape,y_pred=testPredict)\n",
    "\n",
    "print('Test RMSE: %.2f' % rmse)\n",
    "print('Test R2: %.2f' % r2s)"
   ]
  },
  {
   "cell_type": "code",
   "execution_count": 11,
   "id": "ed47dd51",
   "metadata": {},
   "outputs": [
    {
     "data": {
      "image/png": "[encoded data removed]",
      "text/plain": [
       "<Figure size 1000x500 with 1 Axes>"
      ]
     },
     "metadata": {},
     "output_type": "display_data"
    }
   ],
   "source": [
    "plt.figure(figsize=(10,5))\n",
    "plt.plot(testYshape,color = 'red',label = 'Actual')\n",
    "plt.plot(testPredict,color = 'blue',label = 'Prediction')\n",
    "plt.legend()\n",
    "plt.xlim(300,400)\n",
    "plt.show()"
   ]
  },
  {
   "cell_type": "code",
   "execution_count": 12,
   "id": "7b3b2ac6",
   "metadata": {},
   "outputs": [
    {
     "name": "stdout",
     "output_type": "stream",
     "text": [
      "You must install pydot (`pip install pydot`) and install graphviz (see instructions at https://graphviz.gitlab.io/download/) for plot_model to work.\n"
     ]
    }
   ],
   "source": [
    "plot_model(model, to_file='model.png',\n",
    "    show_shapes=False,\n",
    "    show_dtype=False,\n",
    "    show_layer_names=False,\n",
    "    rankdir='LR',\n",
    "    expand_nested=True,\n",
    "    dpi=80,\n",
    "    layer_range=None,\n",
    "    show_layer_activations=True)"
   ]
  }
 ],
 "metadata": {
  "kernelspec": {
   "display_name": "Python 3 (ipykernel)",
   "language": "python",
   "name": "python3"
  },
  "language_info": {
   "codemirror_mode": {
    "name": "ipython",
    "version": 3
   },
   "file_extension": ".py",
   "mimetype": "text/x-python",
   "name": "python",
   "nbconvert_exporter": "python",
   "pygments_lexer": "ipython3",
   "version": "3.10.6"
  },
  "vscode": {
   "interpreter": {
    "hash": "e55666fbbf217aa3df372b978577f47b6009e2f78e2ec76a584f49cd54a1e62c"
   }
  }
 },
 "nbformat": 4,
 "nbformat_minor": 5
}
