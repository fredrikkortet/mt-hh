{
 "cells": [
  {
   "cell_type": "markdown",
   "id": "0486996b",
   "metadata": {},
   "source": [
    "# ARIMA Model"
   ]
  },
  {
   "cell_type": "code",
   "execution_count": null,
   "id": "8d75989b",
   "metadata": {},
   "outputs": [],
   "source": [
    "import pandas as pd \n",
    "from sklearn.model_selection  import train_test_split\n",
    "import numpy as np \n",
    "import matplotlib.pyplot as plt\n",
    "from statsmodels.tsa.arima.model import ARIMA\n",
    "from statsmodels.graphics.tsaplots import plot_acf, plot_pacf, plot_predict\n",
    "from pandas import DataFrame\n",
    "from sklearn.metrics import mean_squared_error\n",
    "from math import sqrt\n",
    "from pmdarima import auto_arima\n",
    "from statsmodels.tsa.statespace.sarimax import SARIMAX\n",
    "from sklearn.metrics import mean_squared_error ,r2_score \n",
    "from statsmodels.tools.eval_measures import rmse"
   ]
  },
  {
   "cell_type": "markdown",
   "id": "2335b4e1",
   "metadata": {},
   "source": [
    "# Load and PreProcess "
   ]
  },
  {
   "cell_type": "code",
   "execution_count": 11,
   "id": "4019c5e4",
   "metadata": {},
   "outputs": [],
   "source": [
    "data = pd.read_csv('/home/rohullah/Desktop/files/HH/MCs/data/utd19_u.csv', nrows = 10000,usecols = ['day','flow'])"
   ]
  },
  {
   "cell_type": "code",
   "execution_count": 12,
   "id": "d23ac05f",
   "metadata": {},
   "outputs": [
    {
     "data": {
      "text/html": [
       "<div>\n",
       "<style scoped>\n",
       "    .dataframe tbody tr th:only-of-type {\n",
       "        vertical-align: middle;\n",
       "    }\n",
       "\n",
       "    .dataframe tbody tr th {\n",
       "        vertical-align: top;\n",
       "    }\n",
       "\n",
       "    .dataframe thead th {\n",
       "        text-align: right;\n",
       "    }\n",
       "</style>\n",
       "<table border=\"1\" class=\"dataframe\">\n",
       "  <thead>\n",
       "    <tr style=\"text-align: right;\">\n",
       "      <th></th>\n",
       "      <th>day</th>\n",
       "      <th>flow</th>\n",
       "    </tr>\n",
       "  </thead>\n",
       "  <tbody>\n",
       "    <tr>\n",
       "      <th>0</th>\n",
       "      <td>2017-05-06</td>\n",
       "      <td>12</td>\n",
       "    </tr>\n",
       "    <tr>\n",
       "      <th>1</th>\n",
       "      <td>2017-05-06</td>\n",
       "      <td>12</td>\n",
       "    </tr>\n",
       "    <tr>\n",
       "      <th>2</th>\n",
       "      <td>2017-05-06</td>\n",
       "      <td>12</td>\n",
       "    </tr>\n",
       "    <tr>\n",
       "      <th>3</th>\n",
       "      <td>2017-05-06</td>\n",
       "      <td>16</td>\n",
       "    </tr>\n",
       "    <tr>\n",
       "      <th>4</th>\n",
       "      <td>2017-05-06</td>\n",
       "      <td>16</td>\n",
       "    </tr>\n",
       "  </tbody>\n",
       "</table>\n",
       "</div>"
      ],
      "text/plain": [
       "          day  flow\n",
       "0  2017-05-06    12\n",
       "1  2017-05-06    12\n",
       "2  2017-05-06    12\n",
       "3  2017-05-06    16\n",
       "4  2017-05-06    16"
      ]
     },
     "execution_count": 12,
     "metadata": {},
     "output_type": "execute_result"
    }
   ],
   "source": [
    "data.head()"
   ]
  },
  {
   "cell_type": "code",
   "execution_count": 13,
   "id": "9c031f1e-67c5-4690-b966-1f7dd56b2d98",
   "metadata": {},
   "outputs": [],
   "source": [
    "#data['day'] = pd.to_datetime(data['day'], format=\"%Y-%m-%d\")"
   ]
  },
  {
   "cell_type": "code",
   "execution_count": 14,
   "id": "b3868f6d",
   "metadata": {},
   "outputs": [],
   "source": [
    "#ratio = 0.75\n",
    "  \n",
    "#total_rows = data.shape[0]\n",
    "#train_size = int(total_rows*ratio)\n",
    "#train_set = data[0:train_size]\n",
    "#test_set = data[train_size:]"
   ]
  },
  {
   "cell_type": "code",
   "execution_count": 15,
   "id": "5bef328c",
   "metadata": {},
   "outputs": [],
   "source": [
    "#print(len(train_set))\n",
    "#print(len(test_set))"
   ]
  },
  {
   "cell_type": "code",
   "execution_count": 16,
   "id": "c44237b0",
   "metadata": {},
   "outputs": [],
   "source": [
    "#plt.plot(train_set['flow'].index,train_set['flow'].values )\n",
    "#plt.xlim(0,7500)\n",
    "#plt.plot(test_set['flow'].index, test_set['flow'].values)\n",
    "#plt.xlim(7500,10000)\n",
    "#plt.title('Data split')\n",
    "#plt.xlabel('Number of data')\n",
    "#plt.ylabel('Flow per Hour')\n"
   ]
  },
  {
   "cell_type": "markdown",
   "id": "f4555d3f",
   "metadata": {},
   "source": [
    "# Train ARIMA "
   ]
  },
  {
   "cell_type": "code",
   "execution_count": 17,
   "id": "b28ae913-fa08-471e-ae6d-9c6a637b0ba7",
   "metadata": {},
   "outputs": [],
   "source": [
    "#xtrain = train_set['flow'].values\n",
    "#xtest = test_set['flow'].values"
   ]
  },
  {
   "cell_type": "code",
   "execution_count": 18,
   "id": "fdf9105a-4290-4341-adfb-13435e0a925d",
   "metadata": {},
   "outputs": [],
   "source": [
    "#data_set = data['flow']\n",
    "#data_set.head()"
   ]
  },
  {
   "cell_type": "code",
   "execution_count": 49,
   "id": "dc98fb4b-5c3f-4076-b44f-98f35bfe8200",
   "metadata": {},
   "outputs": [],
   "source": [
    "def evaluate_arima_model(X, arima_order):\n",
    "    # prepare training dataset\n",
    "    train_size = int(len(X) * 0.66)\n",
    "    train, test = X[0:train_size], X[train_size:]\n",
    "    history = [x for x in train]\n",
    "    #print(history)\n",
    "    # make predictions\n",
    "    predictions_eval = []\n",
    "    for t in range(len(test)):\n",
    "        model = ARIMA(history, order=arima_order)\n",
    "        model_fit = model.fit()\n",
    "        yhat = model_fit.forecast()[0]\n",
    "        predictions_eval.append(yhat)\n",
    "        history.append(test[t])\n",
    "    rmse = sqrt(mean_squared_error(test, predictions_eval))\n",
    "    return rmse\n",
    "\n",
    "\n"
   ]
  },
  {
   "cell_type": "code",
   "execution_count": 51,
   "id": "3ec160f7-3551-4e4d-ac9f-a3fcda1c5756",
   "metadata": {},
   "outputs": [],
   "source": [
    "def evaluate_models(dataset, p_values, d_values, q_values):\n",
    "    #dataset = dataset.astype('float32')\n",
    "    best_score, best_cfg = float(\"inf\"), None\n",
    "    for p in p_values:\n",
    "        #print(p)\n",
    "        for d in d_values:\n",
    "            #print(d)\n",
    "            for q in q_values:\n",
    "                #print(q)\n",
    "                order = (p,d,q)\n",
    "                #print(order)\n",
    "                try:\n",
    "                    rmse = evaluate_arima_model(dataset, order)\n",
    "                    if rmse < best_score:\n",
    "                        best_score, best_cfg = rmse, order\n",
    "                    print('ARIMA%s RMSE=%.3f' % (order,rmse))\n",
    "                except:\n",
    "                    print('fuck william')\n",
    "                    continue\n",
    "    print('Best ARIMA%s RMSE=%.3f' % (best_cfg, best_score))\n",
    "\n"
   ]
  },
  {
   "cell_type": "code",
   "execution_count": null,
   "id": "68ab5b94-4d8f-4577-8dae-314729a7ce34",
   "metadata": {},
   "outputs": [],
   "source": [
    "# evaluate parameters\n",
    "p_values = [3,4,5,6,7]\n",
    "d_values = range(0, 3)\n",
    "q_values = range(0, 3)\n",
    "model = evaluate_models(data['flow'].values, p_values, d_values, q_values)"
   ]
  },
  {
   "cell_type": "code",
   "execution_count": null,
   "id": "a9043023-a4ac-40fa-8299-300bde44484c",
   "metadata": {},
   "outputs": [],
   "source": [
    "plt.plot(predictions, color='red')"
   ]
  },
  {
   "cell_type": "code",
   "execution_count": null,
   "id": "995c1981-be7e-4070-8deb-f395af9ae69c",
   "metadata": {},
   "outputs": [],
   "source": [
    "\n",
    "# plot forecasts against actual outcomes\n",
    "plt.plot(xtest,color = 'blue',label = \"Actual\")\n",
    "plt.plot(predictions, color='red', label = \"Prediction\")\n",
    "plt.xlim(1260, 1300)\n",
    "plt.legend()\n",
    "plt.show()"
   ]
  },
  {
   "cell_type": "code",
   "execution_count": null,
   "id": "66c055e2-f685-46a7-8da9-03715f79f26b",
   "metadata": {},
   "outputs": [],
   "source": [
    "r2 = r2_score(xtest, predictions)\n",
    "rmse = sqrt(mean_squared_error(xtest, predictions))\n",
    "print('RMSE', rmse, 'R_2', r2)"
   ]
  },
  {
   "cell_type": "code",
   "execution_count": null,
   "id": "511b7028-89de-4576-a1a6-f607fa2ad0a7",
   "metadata": {},
   "outputs": [],
   "source": [
    "residuals = DataFrame(model_fit.resid) \n",
    "residuals.plot()\n",
    "plt.show()"
   ]
  },
  {
   "cell_type": "code",
   "execution_count": null,
   "id": "0c26314c-c613-4e05-a3b0-c0662361ab14",
   "metadata": {},
   "outputs": [],
   "source": [
    "#we continue to check residuals\n",
    "residuals.plot(kind='kde') \n",
    "plt.show()"
   ]
  },
  {
   "cell_type": "code",
   "execution_count": null,
   "id": "fe469684-5ef5-47e0-ab39-a8583d346617",
   "metadata": {},
   "outputs": [],
   "source": []
  }
 ],
 "metadata": {
  "kernelspec": {
   "display_name": "Python 3 (ipykernel)",
   "language": "python",
   "name": "python3"
  },
  "language_info": {
   "codemirror_mode": {
    "name": "ipython",
    "version": 3
   },
   "file_extension": ".py",
   "mimetype": "text/x-python",
   "name": "python",
   "nbconvert_exporter": "python",
   "pygments_lexer": "ipython3",
   "version": "3.10.6"
  },
  "vscode": {
   "interpreter": {
    "hash": "e55666fbbf217aa3df372b978577f47b6009e2f78e2ec76a584f49cd54a1e62c"
   }
  }
 },
 "nbformat": 4,
 "nbformat_minor": 5
}
