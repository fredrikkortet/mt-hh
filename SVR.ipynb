{
 "cells": [
  {
   "cell_type": "markdown",
   "id": "0486996b",
   "metadata": {},
   "source": [
    "# SVR Model"
   ]
  },
  {
   "cell_type": "code",
   "execution_count": 1,
   "id": "8d75989b",
   "metadata": {},
   "outputs": [],
   "source": [
    "import pandas as pd \n",
    "from sklearn.model_selection  import train_test_split\n",
    "import numpy as np \n",
    "import matplotlib.pyplot as plt\n",
    "from pandas import DataFrame\n",
    "from sklearn.metrics import mean_squared_error\n",
    "from math import sqrt\n",
    "from pandas.plotting import lag_plot\n",
    "from sklearn.metrics import mean_squared_error ,r2_score \n",
    "from statsmodels.tools.eval_measures import rmse\n",
    "from sklearn.svm import SVR\n",
    "from sklearn.preprocessing import MinMaxScaler\n",
    "from sklearn.preprocessing import StandardScaler\n",
    "from sklearn.model_selection import GridSearchCV"
   ]
  },
  {
   "cell_type": "markdown",
   "id": "2335b4e1",
   "metadata": {},
   "source": [
    "# Load and PreProcess "
   ]
  },
  {
   "cell_type": "code",
   "execution_count": 2,
   "id": "88790991-5492-4369-bb39-7bd27cd2c3af",
   "metadata": {},
   "outputs": [
    {
     "name": "stdout",
     "output_type": "stream",
     "text": [
      "(17856, 170, 3)\n"
     ]
    }
   ],
   "source": [
    "loaded = np.load('data/pems08.npz')\n",
    "sets = loaded.f.data\n",
    "print(sets.shape)"
   ]
  },
  {
   "cell_type": "code",
   "execution_count": 3,
   "id": "50a64af0-9391-4215-b172-f32e5d8f25bc",
   "metadata": {},
   "outputs": [],
   "source": [
    "def get_data(road, features):\n",
    "    datax = sets[:,0,:features]\n",
    "    if road <=170:\n",
    "        for k in range(1,road):\n",
    "            datax = np.concatenate((datax ,sets[:,k,:features]))\n",
    "    return datax"
   ]
  },
  {
   "cell_type": "code",
   "execution_count": 4,
   "id": "ab384e90-22a8-4d2e-b133-8f1a2994076b",
   "metadata": {},
   "outputs": [
    {
     "name": "stdout",
     "output_type": "stream",
     "text": [
      "(17856, 2)\n"
     ]
    }
   ],
   "source": [
    "dataOG = get_data(1,2)\n",
    "print(dataOG.shape)"
   ]
  },
  {
   "cell_type": "code",
   "execution_count": 5,
   "id": "1162e07e-a588-4165-84f7-a788748eb775",
   "metadata": {},
   "outputs": [
    {
     "data": {
      "text/plain": [
       "17856"
      ]
     },
     "execution_count": 5,
     "metadata": {},
     "output_type": "execute_result"
    }
   ],
   "source": [
    "len(dataOG)"
   ]
  },
  {
   "cell_type": "code",
   "execution_count": 6,
   "id": "6c7c57fa-d578-40de-9f5e-e973904bd0f9",
   "metadata": {},
   "outputs": [],
   "source": [
    "X = dataOG[:,1]\n",
    "y = dataOG[:,0]"
   ]
  },
  {
   "cell_type": "code",
   "execution_count": 7,
   "id": "af29c537-454d-4c71-9bc3-3a70466fa568",
   "metadata": {},
   "outputs": [],
   "source": [
    "# Split the data into training and testing sets\n",
    "train_size = int(len(dataOG) * 0.8)\n",
    "test_size = len(dataOG) - train_size\n",
    "traindata, test_data =  dataOG[0:train_size,:], dataOG[train_size:len(dataOG),:]\n"
   ]
  },
  {
   "cell_type": "code",
   "execution_count": 8,
   "id": "09f06caf-15d2-4619-9129-fd47652366a6",
   "metadata": {},
   "outputs": [
    {
     "name": "stdout",
     "output_type": "stream",
     "text": [
      "14284 3572\n"
     ]
    }
   ],
   "source": [
    "print(len(traindata), len(test_data))"
   ]
  },
  {
   "cell_type": "code",
   "execution_count": 9,
   "id": "000097fa-6c55-41d6-af06-ce118649200a",
   "metadata": {},
   "outputs": [
    {
     "data": {
      "text/plain": [
       "array([[1.330e+02, 6.030e-02],\n",
       "       [1.140e+02, 5.320e-02],\n",
       "       [1.400e+02, 6.220e-02],\n",
       "       ...,\n",
       "       [4.360e+02, 1.568e-01],\n",
       "       [4.000e+02, 1.398e-01],\n",
       "       [4.660e+02, 1.641e-01]])"
      ]
     },
     "execution_count": 9,
     "metadata": {},
     "output_type": "execute_result"
    }
   ],
   "source": [
    "traindata"
   ]
  },
  {
   "cell_type": "code",
   "execution_count": 9,
   "id": "8bc7615f-8ad3-49fd-bb08-b6b844f1e560",
   "metadata": {},
   "outputs": [],
   "source": [
    "X_train , y_train = traindata[:,1] , traindata[:,0] \n",
    "X_test, y_test =  test_data[:,1], test_data[:,0]"
   ]
  },
  {
   "cell_type": "code",
   "execution_count": 11,
   "id": "9628087e-fcb6-45ba-a6da-7596d9bc0467",
   "metadata": {},
   "outputs": [
    {
     "name": "stdout",
     "output_type": "stream",
     "text": [
      "14284 14284\n"
     ]
    }
   ],
   "source": [
    "print(len(X_train),len(y_train))"
   ]
  },
  {
   "cell_type": "code",
   "execution_count": 14,
   "id": "1a281ed8-efe3-45f8-b2ca-971bcd0d3a0c",
   "metadata": {},
   "outputs": [],
   "source": [
    "regressor = SVR(kernel=\"poly\", C=200, gamma=\"auto\",epsilon=0.5 ,degree=3, coef0=30)"
   ]
  },
  {
   "cell_type": "code",
   "execution_count": null,
   "id": "f305cd12-a44b-42da-bf88-e61c2fcd18ab",
   "metadata": {},
   "outputs": [],
   "source": [
    "regressor.fit(X_train.reshape(-1,1),y_train)"
   ]
  },
  {
   "cell_type": "code",
   "execution_count": null,
   "id": "9c475bf9-b5c0-4d4c-a037-88e181240162",
   "metadata": {},
   "outputs": [],
   "source": [
    "y_pred = regressor.predict(X_test.reshape(-1,1))"
   ]
  },
  {
   "cell_type": "code",
   "execution_count": null,
   "id": "82783e5f-5189-498a-9d7a-c9a59ca26a4b",
   "metadata": {},
   "outputs": [],
   "source": [
    "scaler = MinMaxScaler()"
   ]
  },
  {
   "cell_type": "code",
   "execution_count": null,
   "id": "bfa67e02-453c-4171-a884-3cf617e67313",
   "metadata": {},
   "outputs": [],
   "source": [
    "pred_scaled = scaler.fit_transform(y_pred.reshape(-1,1))\n",
    "test_scaled = scaler.fit_transform(y_test.reshape(-1,1))"
   ]
  },
  {
   "cell_type": "code",
   "execution_count": null,
   "id": "9d9b80bc-80a2-4002-8d90-d9fd46331f43",
   "metadata": {},
   "outputs": [],
   "source": [
    "# Calculate root mean squared error\n",
    "rmse = sqrt(mean_squared_error(y_test,y_pred=y_pred))\n",
    "\n",
    "r2s = r2_score(y_true=y_test,y_pred=y_pred)\n",
    "\n",
    "print('Test RMSE: %.2f' % rmse)\n",
    "print('Test R2: %.2f' % r2s)"
   ]
  },
  {
   "cell_type": "code",
   "execution_count": null,
   "id": "f89975b1-22fb-4947-ac89-6cf33f70c4b6",
   "metadata": {},
   "outputs": [],
   "source": [
    "plt.figure(figsize=(10,5))\n",
    "plt.plot(y_test,color = 'red',label = 'Actual')\n",
    "plt.plot(y_pred,color = 'blue',label = 'Prediction')\n",
    "plt.legend()\n",
    "plt.xlim(300,400)\n",
    "plt.show()"
   ]
  },
  {
   "cell_type": "code",
   "execution_count": null,
   "id": "9b98a0d6-56c0-4068-bac6-ed5b66f695a3",
   "metadata": {},
   "outputs": [],
   "source": [
    "# Calculate root mean squared error\n",
    "rmse_scaled = sqrt(mean_squared_error(test_scaled,y_pred=pred_scaled))\n",
    "\n",
    "r2s_scaled = r2_score(y_true=test_scaled,y_pred=pred_scaled)\n",
    "\n",
    "print('Test RMSE: %.2f' % rmse_scaled)\n",
    "print('Test R2: %.2f' % r2s_scaled)"
   ]
  },
  {
   "cell_type": "code",
   "execution_count": null,
   "id": "07eb2ab5-ff6d-493f-a84c-fc1e16898a0a",
   "metadata": {},
   "outputs": [],
   "source": [
    "plt.figure(figsize=(10,5))\n",
    "plt.plot(test_scaled,color = 'red',label = 'Actual')\n",
    "plt.plot(pred_scaled,color = 'blue',label = 'Prediction')\n",
    "plt.legend()\n",
    "plt.xlim(300,400)\n",
    "plt.show()"
   ]
  },
  {
   "cell_type": "code",
   "execution_count": null,
   "id": "b701306e-9e3d-45ae-a4ef-01e00788843d",
   "metadata": {},
   "outputs": [],
   "source": []
  }
 ],
 "metadata": {
  "kernelspec": {
   "display_name": "Python 3 (ipykernel)",
   "language": "python",
   "name": "python3"
  },
  "language_info": {
   "codemirror_mode": {
    "name": "ipython",
    "version": 3
   },
   "file_extension": ".py",
   "mimetype": "text/x-python",
   "name": "python",
   "nbconvert_exporter": "python",
   "pygments_lexer": "ipython3",
   "version": "3.10.6"
  },
  "vscode": {
   "interpreter": {
    "hash": "e55666fbbf217aa3df372b978577f47b6009e2f78e2ec76a584f49cd54a1e62c"
   }
  }
 },
 "nbformat": 4,
 "nbformat_minor": 5
}
