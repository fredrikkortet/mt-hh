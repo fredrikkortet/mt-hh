{
 "cells": [
  {
   "cell_type": "markdown",
   "id": "0486996b",
   "metadata": {},
   "source": [
    "# SVR Model"
   ]
  },
  {
   "cell_type": "code",
   "execution_count": 1,
   "id": "8d75989b",
   "metadata": {},
   "outputs": [],
   "source": [
    "import pandas as pd \n",
    "from sklearn.model_selection  import train_test_split\n",
    "import numpy as np \n",
    "import matplotlib.pyplot as plt\n",
    "from pandas import DataFrame\n",
    "from sklearn.metrics import mean_squared_error\n",
    "from math import sqrt\n",
    "from pandas.plotting import lag_plot\n",
    "from sklearn.metrics import mean_squared_error ,r2_score \n",
    "from statsmodels.tools.eval_measures import rmse\n",
    "from sklearn.svm import SVR\n",
    "from sklearn.preprocessing import MinMaxScaler\n",
    "from sklearn.preprocessing import StandardScaler\n",
    "from sklearn.model_selection import GridSearchCV"
   ]
  },
  {
   "cell_type": "markdown",
   "id": "2335b4e1",
   "metadata": {},
   "source": [
    "# Load and PreProcess "
   ]
  },
  {
   "cell_type": "code",
   "execution_count": 2,
   "id": "88790991-5492-4369-bb39-7bd27cd2c3af",
   "metadata": {},
   "outputs": [],
   "source": [
    "loaded = np.load('data/pems08.npz')"
   ]
  },
  {
   "cell_type": "code",
   "execution_count": 3,
   "id": "a6404aa8-f043-40ed-b712-cda483c842c1",
   "metadata": {},
   "outputs": [],
   "source": [
    "sets = loaded.f.data"
   ]
  },
  {
   "cell_type": "code",
   "execution_count": 4,
   "id": "a18b690f-a803-4afa-aee4-5004e45d9865",
   "metadata": {},
   "outputs": [
    {
     "data": {
      "text/plain": [
       "(17856, 170, 3)"
      ]
     },
     "execution_count": 4,
     "metadata": {},
     "output_type": "execute_result"
    }
   ],
   "source": [
    "sets.shape"
   ]
  },
  {
   "cell_type": "code",
   "execution_count": 5,
   "id": "50a64af0-9391-4215-b172-f32e5d8f25bc",
   "metadata": {},
   "outputs": [],
   "source": [
    "def get_data(road, features):\n",
    "    datax = sets[:,0,:features]\n",
    "    if road <=170:\n",
    "        for k in range(1,road):\n",
    "            datax = np.concatenate((datax ,sets[:,k,:features]))\n",
    "    return datax"
   ]
  },
  {
   "cell_type": "code",
   "execution_count": 6,
   "id": "ab384e90-22a8-4d2e-b133-8f1a2994076b",
   "metadata": {},
   "outputs": [
    {
     "data": {
      "text/plain": [
       "(53568, 2)"
      ]
     },
     "execution_count": 6,
     "metadata": {},
     "output_type": "execute_result"
    }
   ],
   "source": [
    "data = get_data(3,2)\n",
    "data.shape"
   ]
  },
  {
   "cell_type": "code",
   "execution_count": 7,
   "id": "7bfd543e-f073-4c5b-b75c-1eb707e9ba8a",
   "metadata": {},
   "outputs": [],
   "source": [
    "X, y = data[:,1],data[:,0]"
   ]
  },
  {
   "cell_type": "code",
   "execution_count": 8,
   "id": "a4ce774e-9957-471a-9602-929acbadb3b8",
   "metadata": {},
   "outputs": [],
   "source": [
    "X_train, X_test, y_train, y_test = train_test_split(X, y, test_size = 0.20)"
   ]
  },
  {
   "cell_type": "code",
   "execution_count": null,
   "id": "1a281ed8-efe3-45f8-b2ca-971bcd0d3a0c",
   "metadata": {},
   "outputs": [],
   "source": [
    "regressor = SVR(kernel=\"poly\", C=200, gamma=\"auto\",epsilon=0.5 ,degree=3, coef0=30)\n",
    "regressor.fit(X_train.reshape(-1,1),y_train)\n"
   ]
  },
  {
   "cell_type": "code",
   "execution_count": null,
   "id": "9c475bf9-b5c0-4d4c-a037-88e181240162",
   "metadata": {},
   "outputs": [],
   "source": [
    "y_pred = regressor.predict(X_test.reshape(-1,1))"
   ]
  },
  {
   "cell_type": "code",
   "execution_count": null,
   "id": "07eb2ab5-ff6d-493f-a84c-fc1e16898a0a",
   "metadata": {},
   "outputs": [],
   "source": [
    "plt.figure(figsize=(10,5))\n",
    "plt.plot(y_test, color = 'blue',label = \"Actual\")\n",
    "plt.xlim(500,600)\n",
    "plt.plot(y_pred ,color = 'red' ,label = \"Prediction\")\n",
    "plt.xlim(500,600)\n",
    "plt.title('Prediction of Flow given Occupancy')\n",
    "plt.xlabel('Number of data')\n",
    "plt.xlabel('Flow')\n",
    "#plt.savefig('occupy_flow.png')\n",
    "plt.legend()\n",
    "plt.show()\n"
   ]
  },
  {
   "cell_type": "code",
   "execution_count": null,
   "id": "8652dd70-bfa3-42af-9299-1fedbbf3c0ff",
   "metadata": {},
   "outputs": [],
   "source": [
    "score = regressor.score(X_test.reshape(-1,1),y_test)"
   ]
  },
  {
   "cell_type": "code",
   "execution_count": null,
   "id": "290973b1-adb7-4ba1-b070-c63d67d5a072",
   "metadata": {},
   "outputs": [],
   "source": [
    "mse = sqrt(mean_squared_error(y_true=y_test,y_pred=y_pred))\n",
    "r2s = r2_score(y_true=y_test,y_pred=y_pred)"
   ]
  },
  {
   "cell_type": "code",
   "execution_count": null,
   "id": "76821050-8ec6-479a-9398-1b7f70cdf182",
   "metadata": {},
   "outputs": [],
   "source": [
    "print(score)\n",
    "print(mse)\n",
    "print(r2s)"
   ]
  },
  {
   "cell_type": "markdown",
   "id": "7357a931-749b-48fd-836b-e5bf325fe5dd",
   "metadata": {},
   "source": [
    "## Test with 1 road"
   ]
  },
  {
   "cell_type": "code",
   "execution_count": null,
   "id": "a370eaff-c5a1-4f0d-9948-1d4cce7e14e8",
   "metadata": {},
   "outputs": [],
   "source": [
    "datax = get_data(1,2)\n",
    "print(datax.shape)\n",
    "Xx , yy = datax[:,1],datax[:,0]\n",
    "X_trainx, X_testx, y_trainy, y_testy = train_test_split(Xx, yy, test_size = 0.20)"
   ]
  },
  {
   "cell_type": "code",
   "execution_count": null,
   "id": "e56c50cc-294b-48a8-8412-dab3437dca2e",
   "metadata": {},
   "outputs": [],
   "source": [
    "y_predpms = regressor.predict(X_testx.reshape(-1,1))"
   ]
  },
  {
   "cell_type": "code",
   "execution_count": null,
   "id": "93e77206-3135-4634-99cf-7b13c1fa47b2",
   "metadata": {},
   "outputs": [],
   "source": [
    "plt.figure(figsize=(10,5))\n",
    "plt.plot(y_testy, color = 'blue',label = \"Actual\")\n",
    "plt.xlim(1100,1200)\n",
    "plt.plot(y_predpms ,color = 'red' ,label = \"Prediction\")\n",
    "plt.xlim(1100,1200)\n",
    "plt.title('Prediction of Flow given Occupancy')\n",
    "plt.xlabel('Number of data')\n",
    "plt.xlabel('Flow')\n",
    "#plt.savefig('occupy_flow.png')\n",
    "plt.legend()\n",
    "plt.show()"
   ]
  },
  {
   "cell_type": "code",
   "execution_count": null,
   "id": "85c8de0b-52b4-4a55-b627-d5920dc03d74",
   "metadata": {},
   "outputs": [],
   "source": [
    "scorepms = regressor.score(X_testx.reshape(-1,1),y_testy)\n",
    "msepms = sqrt(mean_squared_error(y_true=y_testy,y_pred=y_predpms))\n",
    "r2spms = r2_score(y_true=y_testy,y_pred=y_predpms)"
   ]
  },
  {
   "cell_type": "code",
   "execution_count": null,
   "id": "e1b719d5-5d8d-40e9-94b7-490762460387",
   "metadata": {},
   "outputs": [],
   "source": [
    "print(scorepms)\n",
    "print(msepms)\n",
    "print(r2spms)"
   ]
  },
  {
   "cell_type": "code",
   "execution_count": null,
   "id": "bb334363-3599-4836-9a0c-b9d33336444d",
   "metadata": {},
   "outputs": [],
   "source": []
  }
 ],
 "metadata": {
  "kernelspec": {
   "display_name": "Python 3 (ipykernel)",
   "language": "python",
   "name": "python3"
  },
  "language_info": {
   "codemirror_mode": {
    "name": "ipython",
    "version": 3
   },
   "file_extension": ".py",
   "mimetype": "text/x-python",
   "name": "python",
   "nbconvert_exporter": "python",
   "pygments_lexer": "ipython3",
   "version": "3.10.6"
  },
  "vscode": {
   "interpreter": {
    "hash": "e55666fbbf217aa3df372b978577f47b6009e2f78e2ec76a584f49cd54a1e62c"
   }
  }
 },
 "nbformat": 4,
 "nbformat_minor": 5
}
